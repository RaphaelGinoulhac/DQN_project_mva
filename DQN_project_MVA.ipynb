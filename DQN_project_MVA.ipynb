{
  "nbformat": 4,
  "nbformat_minor": 0,
  "metadata": {
    "kernelspec": {
      "name": "python3",
      "display_name": "Python 3"
    },
    "language_info": {
      "codemirror_mode": {
        "name": "ipython",
        "version": 3
      },
      "file_extension": ".py",
      "mimetype": "text/x-python",
      "name": "python",
      "nbconvert_exporter": "python",
      "pygments_lexer": "ipython3",
      "version": "3.5.7"
    },
    "colab": {
      "name": "DQN_project_MVA.ipynb",
      "provenance": [],
      "collapsed_sections": []
    },
    "accelerator": "GPU"
  },
  "cells": [
    {
      "cell_type": "markdown",
      "metadata": {
        "id": "NGrSrAV-ccq6",
        "colab_type": "text"
      },
      "source": [
        "**You may need to install [OpenCV](https://pypi.python.org/pypi/opencv-python) and [scikit-video](http://www.scikit-video.org/stable/).**"
      ]
    },
    {
      "cell_type": "markdown",
      "metadata": {
        "id": "vGdW-BDlOjRe",
        "colab_type": "text"
      },
      "source": [
        "### Raphaël Ginoulhac"
      ]
    },
    {
      "cell_type": "code",
      "metadata": {
        "id": "eg_lhwPVWbyH",
        "colab_type": "code",
        "outputId": "8c6bd248-db40-46b1-d0bc-5b2fe52a4a00",
        "colab": {
          "base_uri": "https://localhost:8080/",
          "height": 153
        }
      },
      "source": [
        "#Only execute this on google colab\n",
        "!pip install scikit-video"
      ],
      "execution_count": 0,
      "outputs": [
        {
          "output_type": "stream",
          "text": [
            "Collecting scikit-video\n",
            "\u001b[?25l  Downloading https://files.pythonhosted.org/packages/b1/a6/c69cad508139a342810ae46e946ebb3256aa6e42f690d901bb68f50582e3/scikit_video-1.1.11-py2.py3-none-any.whl (2.3MB)\n",
            "\r\u001b[K     |▏                               | 10kB 27.3MB/s eta 0:00:01\r\u001b[K     |▎                               | 20kB 32.6MB/s eta 0:00:01\r\u001b[K     |▍                               | 30kB 25.4MB/s eta 0:00:01\r\u001b[K     |▋                               | 40kB 27.5MB/s eta 0:00:01\r\u001b[K     |▊                               | 51kB 24.1MB/s eta 0:00:01\r\u001b[K     |▉                               | 61kB 27.4MB/s eta 0:00:01\r\u001b[K     |█                               | 71kB 21.9MB/s eta 0:00:01\r\u001b[K     |█▏                              | 81kB 23.7MB/s eta 0:00:01\r\u001b[K     |█▎                              | 92kB 24.3MB/s eta 0:00:01\r\u001b[K     |█▌                              | 102kB 26.0MB/s eta 0:00:01\r\u001b[K     |█▋                              | 112kB 26.0MB/s eta 0:00:01\r\u001b[K     |█▊                              | 122kB 26.0MB/s eta 0:00:01\r\u001b[K     |██                              | 133kB 26.0MB/s eta 0:00:01\r\u001b[K     |██                              | 143kB 26.0MB/s eta 0:00:01\r\u001b[K     |██▏                             | 153kB 26.0MB/s eta 0:00:01\r\u001b[K     |██▎                             | 163kB 26.0MB/s eta 0:00:01\r\u001b[K     |██▌                             | 174kB 26.0MB/s eta 0:00:01\r\u001b[K     |██▋                             | 184kB 26.0MB/s eta 0:00:01\r\u001b[K     |██▊                             | 194kB 26.0MB/s eta 0:00:01\r\u001b[K     |███                             | 204kB 26.0MB/s eta 0:00:01\r\u001b[K     |███                             | 215kB 26.0MB/s eta 0:00:01\r\u001b[K     |███▏                            | 225kB 26.0MB/s eta 0:00:01\r\u001b[K     |███▍                            | 235kB 26.0MB/s eta 0:00:01\r\u001b[K     |███▌                            | 245kB 26.0MB/s eta 0:00:01\r\u001b[K     |███▋                            | 256kB 26.0MB/s eta 0:00:01\r\u001b[K     |███▉                            | 266kB 26.0MB/s eta 0:00:01\r\u001b[K     |████                            | 276kB 26.0MB/s eta 0:00:01\r\u001b[K     |████                            | 286kB 26.0MB/s eta 0:00:01\r\u001b[K     |████▏                           | 296kB 26.0MB/s eta 0:00:01\r\u001b[K     |████▍                           | 307kB 26.0MB/s eta 0:00:01\r\u001b[K     |████▌                           | 317kB 26.0MB/s eta 0:00:01\r\u001b[K     |████▋                           | 327kB 26.0MB/s eta 0:00:01\r\u001b[K     |████▉                           | 337kB 26.0MB/s eta 0:00:01\r\u001b[K     |█████                           | 348kB 26.0MB/s eta 0:00:01\r\u001b[K     |█████                           | 358kB 26.0MB/s eta 0:00:01\r\u001b[K     |█████▎                          | 368kB 26.0MB/s eta 0:00:01\r\u001b[K     |█████▍                          | 378kB 26.0MB/s eta 0:00:01\r\u001b[K     |█████▌                          | 389kB 26.0MB/s eta 0:00:01\r\u001b[K     |█████▊                          | 399kB 26.0MB/s eta 0:00:01\r\u001b[K     |█████▉                          | 409kB 26.0MB/s eta 0:00:01\r\u001b[K     |██████                          | 419kB 26.0MB/s eta 0:00:01\r\u001b[K     |██████                          | 430kB 26.0MB/s eta 0:00:01\r\u001b[K     |██████▎                         | 440kB 26.0MB/s eta 0:00:01\r\u001b[K     |██████▍                         | 450kB 26.0MB/s eta 0:00:01\r\u001b[K     |██████▌                         | 460kB 26.0MB/s eta 0:00:01\r\u001b[K     |██████▊                         | 471kB 26.0MB/s eta 0:00:01\r\u001b[K     |██████▉                         | 481kB 26.0MB/s eta 0:00:01\r\u001b[K     |███████                         | 491kB 26.0MB/s eta 0:00:01\r\u001b[K     |███████▏                        | 501kB 26.0MB/s eta 0:00:01\r\u001b[K     |███████▎                        | 512kB 26.0MB/s eta 0:00:01\r\u001b[K     |███████▍                        | 522kB 26.0MB/s eta 0:00:01\r\u001b[K     |███████▋                        | 532kB 26.0MB/s eta 0:00:01\r\u001b[K     |███████▊                        | 542kB 26.0MB/s eta 0:00:01\r\u001b[K     |███████▉                        | 552kB 26.0MB/s eta 0:00:01\r\u001b[K     |████████                        | 563kB 26.0MB/s eta 0:00:01\r\u001b[K     |████████▏                       | 573kB 26.0MB/s eta 0:00:01\r\u001b[K     |████████▎                       | 583kB 26.0MB/s eta 0:00:01\r\u001b[K     |████████▍                       | 593kB 26.0MB/s eta 0:00:01\r\u001b[K     |████████▋                       | 604kB 26.0MB/s eta 0:00:01\r\u001b[K     |████████▊                       | 614kB 26.0MB/s eta 0:00:01\r\u001b[K     |████████▉                       | 624kB 26.0MB/s eta 0:00:01\r\u001b[K     |█████████                       | 634kB 26.0MB/s eta 0:00:01\r\u001b[K     |█████████▏                      | 645kB 26.0MB/s eta 0:00:01\r\u001b[K     |█████████▎                      | 655kB 26.0MB/s eta 0:00:01\r\u001b[K     |█████████▌                      | 665kB 26.0MB/s eta 0:00:01\r\u001b[K     |█████████▋                      | 675kB 26.0MB/s eta 0:00:01\r\u001b[K     |█████████▊                      | 686kB 26.0MB/s eta 0:00:01\r\u001b[K     |█████████▉                      | 696kB 26.0MB/s eta 0:00:01\r\u001b[K     |██████████                      | 706kB 26.0MB/s eta 0:00:01\r\u001b[K     |██████████▏                     | 716kB 26.0MB/s eta 0:00:01\r\u001b[K     |██████████▎                     | 727kB 26.0MB/s eta 0:00:01\r\u001b[K     |██████████▌                     | 737kB 26.0MB/s eta 0:00:01\r\u001b[K     |██████████▋                     | 747kB 26.0MB/s eta 0:00:01\r\u001b[K     |██████████▊                     | 757kB 26.0MB/s eta 0:00:01\r\u001b[K     |███████████                     | 768kB 26.0MB/s eta 0:00:01\r\u001b[K     |███████████                     | 778kB 26.0MB/s eta 0:00:01\r\u001b[K     |███████████▏                    | 788kB 26.0MB/s eta 0:00:01\r\u001b[K     |███████████▍                    | 798kB 26.0MB/s eta 0:00:01\r\u001b[K     |███████████▌                    | 808kB 26.0MB/s eta 0:00:01\r\u001b[K     |███████████▋                    | 819kB 26.0MB/s eta 0:00:01\r\u001b[K     |███████████▊                    | 829kB 26.0MB/s eta 0:00:01\r\u001b[K     |████████████                    | 839kB 26.0MB/s eta 0:00:01\r\u001b[K     |████████████                    | 849kB 26.0MB/s eta 0:00:01\r\u001b[K     |████████████▏                   | 860kB 26.0MB/s eta 0:00:01\r\u001b[K     |████████████▍                   | 870kB 26.0MB/s eta 0:00:01\r\u001b[K     |████████████▌                   | 880kB 26.0MB/s eta 0:00:01\r\u001b[K     |████████████▋                   | 890kB 26.0MB/s eta 0:00:01\r\u001b[K     |████████████▉                   | 901kB 26.0MB/s eta 0:00:01\r\u001b[K     |█████████████                   | 911kB 26.0MB/s eta 0:00:01\r\u001b[K     |█████████████                   | 921kB 26.0MB/s eta 0:00:01\r\u001b[K     |█████████████▎                  | 931kB 26.0MB/s eta 0:00:01\r\u001b[K     |█████████████▍                  | 942kB 26.0MB/s eta 0:00:01\r\u001b[K     |█████████████▌                  | 952kB 26.0MB/s eta 0:00:01\r\u001b[K     |█████████████▋                  | 962kB 26.0MB/s eta 0:00:01\r\u001b[K     |█████████████▉                  | 972kB 26.0MB/s eta 0:00:01\r\u001b[K     |██████████████                  | 983kB 26.0MB/s eta 0:00:01\r\u001b[K     |██████████████                  | 993kB 26.0MB/s eta 0:00:01\r\u001b[K     |██████████████▎                 | 1.0MB 26.0MB/s eta 0:00:01\r\u001b[K     |██████████████▍                 | 1.0MB 26.0MB/s eta 0:00:01\r\u001b[K     |██████████████▌                 | 1.0MB 26.0MB/s eta 0:00:01\r\u001b[K     |██████████████▊                 | 1.0MB 26.0MB/s eta 0:00:01\r\u001b[K     |██████████████▉                 | 1.0MB 26.0MB/s eta 0:00:01\r\u001b[K     |███████████████                 | 1.1MB 26.0MB/s eta 0:00:01\r\u001b[K     |███████████████▏                | 1.1MB 26.0MB/s eta 0:00:01\r\u001b[K     |███████████████▎                | 1.1MB 26.0MB/s eta 0:00:01\r\u001b[K     |███████████████▍                | 1.1MB 26.0MB/s eta 0:00:01\r\u001b[K     |███████████████▌                | 1.1MB 26.0MB/s eta 0:00:01\r\u001b[K     |███████████████▊                | 1.1MB 26.0MB/s eta 0:00:01\r\u001b[K     |███████████████▉                | 1.1MB 26.0MB/s eta 0:00:01\r\u001b[K     |████████████████                | 1.1MB 26.0MB/s eta 0:00:01\r\u001b[K     |████████████████▏               | 1.1MB 26.0MB/s eta 0:00:01\r\u001b[K     |████████████████▎               | 1.1MB 26.0MB/s eta 0:00:01\r\u001b[K     |████████████████▍               | 1.2MB 26.0MB/s eta 0:00:01\r\u001b[K     |████████████████▋               | 1.2MB 26.0MB/s eta 0:00:01\r\u001b[K     |████████████████▊               | 1.2MB 26.0MB/s eta 0:00:01\r\u001b[K     |████████████████▉               | 1.2MB 26.0MB/s eta 0:00:01\r\u001b[K     |█████████████████               | 1.2MB 26.0MB/s eta 0:00:01\r\u001b[K     |█████████████████▏              | 1.2MB 26.0MB/s eta 0:00:01\r\u001b[K     |█████████████████▎              | 1.2MB 26.0MB/s eta 0:00:01\r\u001b[K     |█████████████████▍              | 1.2MB 26.0MB/s eta 0:00:01\r\u001b[K     |█████████████████▋              | 1.2MB 26.0MB/s eta 0:00:01\r\u001b[K     |█████████████████▊              | 1.2MB 26.0MB/s eta 0:00:01\r\u001b[K     |█████████████████▉              | 1.3MB 26.0MB/s eta 0:00:01\r\u001b[K     |██████████████████              | 1.3MB 26.0MB/s eta 0:00:01\r\u001b[K     |██████████████████▏             | 1.3MB 26.0MB/s eta 0:00:01\r\u001b[K     |██████████████████▎             | 1.3MB 26.0MB/s eta 0:00:01\r\u001b[K     |██████████████████▌             | 1.3MB 26.0MB/s eta 0:00:01\r\u001b[K     |██████████████████▋             | 1.3MB 26.0MB/s eta 0:00:01\r\u001b[K     |██████████████████▊             | 1.3MB 26.0MB/s eta 0:00:01\r\u001b[K     |███████████████████             | 1.3MB 26.0MB/s eta 0:00:01\r\u001b[K     |███████████████████             | 1.3MB 26.0MB/s eta 0:00:01\r\u001b[K     |███████████████████▏            | 1.4MB 26.0MB/s eta 0:00:01\r\u001b[K     |███████████████████▎            | 1.4MB 26.0MB/s eta 0:00:01\r\u001b[K     |███████████████████▌            | 1.4MB 26.0MB/s eta 0:00:01\r\u001b[K     |███████████████████▋            | 1.4MB 26.0MB/s eta 0:00:01\r\u001b[K     |███████████████████▊            | 1.4MB 26.0MB/s eta 0:00:01\r\u001b[K     |████████████████████            | 1.4MB 26.0MB/s eta 0:00:01\r\u001b[K     |████████████████████            | 1.4MB 26.0MB/s eta 0:00:01\r\u001b[K     |████████████████████▏           | 1.4MB 26.0MB/s eta 0:00:01\r\u001b[K     |████████████████████▍           | 1.4MB 26.0MB/s eta 0:00:01\r\u001b[K     |████████████████████▌           | 1.4MB 26.0MB/s eta 0:00:01\r\u001b[K     |████████████████████▋           | 1.5MB 26.0MB/s eta 0:00:01\r\u001b[K     |████████████████████▉           | 1.5MB 26.0MB/s eta 0:00:01\r\u001b[K     |█████████████████████           | 1.5MB 26.0MB/s eta 0:00:01\r\u001b[K     |█████████████████████           | 1.5MB 26.0MB/s eta 0:00:01\r\u001b[K     |█████████████████████▏          | 1.5MB 26.0MB/s eta 0:00:01\r\u001b[K     |█████████████████████▍          | 1.5MB 26.0MB/s eta 0:00:01\r\u001b[K     |█████████████████████▌          | 1.5MB 26.0MB/s eta 0:00:01\r\u001b[K     |█████████████████████▋          | 1.5MB 26.0MB/s eta 0:00:01\r\u001b[K     |█████████████████████▉          | 1.5MB 26.0MB/s eta 0:00:01\r\u001b[K     |██████████████████████          | 1.5MB 26.0MB/s eta 0:00:01\r\u001b[K     |██████████████████████          | 1.6MB 26.0MB/s eta 0:00:01\r\u001b[K     |██████████████████████▎         | 1.6MB 26.0MB/s eta 0:00:01\r\u001b[K     |██████████████████████▍         | 1.6MB 26.0MB/s eta 0:00:01\r\u001b[K     |██████████████████████▌         | 1.6MB 26.0MB/s eta 0:00:01\r\u001b[K     |██████████████████████▊         | 1.6MB 26.0MB/s eta 0:00:01\r\u001b[K     |██████████████████████▉         | 1.6MB 26.0MB/s eta 0:00:01\r\u001b[K     |███████████████████████         | 1.6MB 26.0MB/s eta 0:00:01\r\u001b[K     |███████████████████████         | 1.6MB 26.0MB/s eta 0:00:01\r\u001b[K     |███████████████████████▎        | 1.6MB 26.0MB/s eta 0:00:01\r\u001b[K     |███████████████████████▍        | 1.6MB 26.0MB/s eta 0:00:01\r\u001b[K     |███████████████████████▌        | 1.7MB 26.0MB/s eta 0:00:01\r\u001b[K     |███████████████████████▊        | 1.7MB 26.0MB/s eta 0:00:01\r\u001b[K     |███████████████████████▉        | 1.7MB 26.0MB/s eta 0:00:01\r\u001b[K     |████████████████████████        | 1.7MB 26.0MB/s eta 0:00:01\r\u001b[K     |████████████████████████▏       | 1.7MB 26.0MB/s eta 0:00:01\r\u001b[K     |████████████████████████▎       | 1.7MB 26.0MB/s eta 0:00:01\r\u001b[K     |████████████████████████▍       | 1.7MB 26.0MB/s eta 0:00:01\r\u001b[K     |████████████████████████▋       | 1.7MB 26.0MB/s eta 0:00:01\r\u001b[K     |████████████████████████▊       | 1.7MB 26.0MB/s eta 0:00:01\r\u001b[K     |████████████████████████▉       | 1.8MB 26.0MB/s eta 0:00:01\r\u001b[K     |█████████████████████████       | 1.8MB 26.0MB/s eta 0:00:01\r\u001b[K     |█████████████████████████▏      | 1.8MB 26.0MB/s eta 0:00:01\r\u001b[K     |█████████████████████████▎      | 1.8MB 26.0MB/s eta 0:00:01\r\u001b[K     |█████████████████████████▍      | 1.8MB 26.0MB/s eta 0:00:01\r\u001b[K     |█████████████████████████▋      | 1.8MB 26.0MB/s eta 0:00:01\r\u001b[K     |█████████████████████████▊      | 1.8MB 26.0MB/s eta 0:00:01\r\u001b[K     |█████████████████████████▉      | 1.8MB 26.0MB/s eta 0:00:01\r\u001b[K     |██████████████████████████      | 1.8MB 26.0MB/s eta 0:00:01\r\u001b[K     |██████████████████████████▏     | 1.8MB 26.0MB/s eta 0:00:01\r\u001b[K     |██████████████████████████▎     | 1.9MB 26.0MB/s eta 0:00:01\r\u001b[K     |██████████████████████████▌     | 1.9MB 26.0MB/s eta 0:00:01\r\u001b[K     |██████████████████████████▋     | 1.9MB 26.0MB/s eta 0:00:01\r\u001b[K     |██████████████████████████▊     | 1.9MB 26.0MB/s eta 0:00:01\r\u001b[K     |██████████████████████████▉     | 1.9MB 26.0MB/s eta 0:00:01\r\u001b[K     |███████████████████████████     | 1.9MB 26.0MB/s eta 0:00:01\r\u001b[K     |███████████████████████████▏    | 1.9MB 26.0MB/s eta 0:00:01\r\u001b[K     |███████████████████████████▎    | 1.9MB 26.0MB/s eta 0:00:01\r\u001b[K     |███████████████████████████▌    | 1.9MB 26.0MB/s eta 0:00:01\r\u001b[K     |███████████████████████████▋    | 1.9MB 26.0MB/s eta 0:00:01\r\u001b[K     |███████████████████████████▊    | 2.0MB 26.0MB/s eta 0:00:01\r\u001b[K     |████████████████████████████    | 2.0MB 26.0MB/s eta 0:00:01\r\u001b[K     |████████████████████████████    | 2.0MB 26.0MB/s eta 0:00:01\r\u001b[K     |████████████████████████████▏   | 2.0MB 26.0MB/s eta 0:00:01\r\u001b[K     |████████████████████████████▍   | 2.0MB 26.0MB/s eta 0:00:01\r\u001b[K     |████████████████████████████▌   | 2.0MB 26.0MB/s eta 0:00:01\r\u001b[K     |████████████████████████████▋   | 2.0MB 26.0MB/s eta 0:00:01\r\u001b[K     |████████████████████████████▊   | 2.0MB 26.0MB/s eta 0:00:01\r\u001b[K     |█████████████████████████████   | 2.0MB 26.0MB/s eta 0:00:01\r\u001b[K     |█████████████████████████████   | 2.0MB 26.0MB/s eta 0:00:01\r\u001b[K     |█████████████████████████████▏  | 2.1MB 26.0MB/s eta 0:00:01\r\u001b[K     |█████████████████████████████▍  | 2.1MB 26.0MB/s eta 0:00:01\r\u001b[K     |█████████████████████████████▌  | 2.1MB 26.0MB/s eta 0:00:01\r\u001b[K     |█████████████████████████████▋  | 2.1MB 26.0MB/s eta 0:00:01\r\u001b[K     |█████████████████████████████▉  | 2.1MB 26.0MB/s eta 0:00:01\r\u001b[K     |██████████████████████████████  | 2.1MB 26.0MB/s eta 0:00:01\r\u001b[K     |██████████████████████████████  | 2.1MB 26.0MB/s eta 0:00:01\r\u001b[K     |██████████████████████████████▎ | 2.1MB 26.0MB/s eta 0:00:01\r\u001b[K     |██████████████████████████████▍ | 2.1MB 26.0MB/s eta 0:00:01\r\u001b[K     |██████████████████████████████▌ | 2.2MB 26.0MB/s eta 0:00:01\r\u001b[K     |██████████████████████████████▋ | 2.2MB 26.0MB/s eta 0:00:01\r\u001b[K     |██████████████████████████████▉ | 2.2MB 26.0MB/s eta 0:00:01\r\u001b[K     |███████████████████████████████ | 2.2MB 26.0MB/s eta 0:00:01\r\u001b[K     |███████████████████████████████ | 2.2MB 26.0MB/s eta 0:00:01\r\u001b[K     |███████████████████████████████▎| 2.2MB 26.0MB/s eta 0:00:01\r\u001b[K     |███████████████████████████████▍| 2.2MB 26.0MB/s eta 0:00:01\r\u001b[K     |███████████████████████████████▌| 2.2MB 26.0MB/s eta 0:00:01\r\u001b[K     |███████████████████████████████▊| 2.2MB 26.0MB/s eta 0:00:01\r\u001b[K     |███████████████████████████████▉| 2.2MB 26.0MB/s eta 0:00:01\r\u001b[K     |████████████████████████████████| 2.3MB 26.0MB/s eta 0:00:01\r\u001b[K     |████████████████████████████████| 2.3MB 26.0MB/s \n",
            "\u001b[?25hRequirement already satisfied: scipy in /usr/local/lib/python3.6/dist-packages (from scikit-video) (1.4.1)\n",
            "Requirement already satisfied: pillow in /usr/local/lib/python3.6/dist-packages (from scikit-video) (6.2.2)\n",
            "Requirement already satisfied: numpy in /usr/local/lib/python3.6/dist-packages (from scikit-video) (1.17.5)\n",
            "Installing collected packages: scikit-video\n",
            "Successfully installed scikit-video-1.1.11\n"
          ],
          "name": "stdout"
        }
      ]
    },
    {
      "cell_type": "code",
      "metadata": {
        "id": "J0pu-FFfccq9",
        "colab_type": "code",
        "outputId": "6af426cd-e84d-4d1b-c7c2-4b0d47ab7049",
        "colab": {
          "base_uri": "https://localhost:8080/",
          "height": 80
        }
      },
      "source": [
        "import keras\n",
        "import numpy as np\n",
        "import io\n",
        "import base64\n",
        "from IPython.display import HTML\n",
        "import skvideo.io\n",
        "import cv2\n",
        "import json\n",
        "\n",
        "from keras.models import Sequential,model_from_json\n",
        "from keras.layers.core import Dense\n",
        "from keras.optimizers import sgd, adam\n",
        "from keras.layers import Conv2D, MaxPooling2D, Activation, AveragePooling2D,Reshape,BatchNormalization, Flatten"
      ],
      "execution_count": 0,
      "outputs": [
        {
          "output_type": "stream",
          "text": [
            "Using TensorFlow backend.\n"
          ],
          "name": "stderr"
        },
        {
          "output_type": "display_data",
          "data": {
            "text/html": [
              "<p style=\"color: red;\">\n",
              "The default version of TensorFlow in Colab will soon switch to TensorFlow 2.x.<br>\n",
              "We recommend you <a href=\"https://www.tensorflow.org/guide/migrate\" target=\"_blank\">upgrade</a> now \n",
              "or ensure your notebook will continue to use TensorFlow 1.x via the <code>%tensorflow_version 1.x</code> magic:\n",
              "<a href=\"https://colab.research.google.com/notebooks/tensorflow_version.ipynb\" target=\"_blank\">more info</a>.</p>\n"
            ],
            "text/plain": [
              "<IPython.core.display.HTML object>"
            ]
          },
          "metadata": {
            "tags": []
          }
        }
      ]
    },
    {
      "cell_type": "markdown",
      "metadata": {
        "id": "4m-D-kErccrC",
        "colab_type": "text"
      },
      "source": [
        "# MiniProject on Deep Reinforcement Learning"
      ]
    },
    {
      "cell_type": "markdown",
      "metadata": {
        "id": "WfexWazCccrD",
        "colab_type": "text"
      },
      "source": [
        "__Notations__: $E_p$ is the expectation under probability $p$. Please justify each of your answer and widely comment your code."
      ]
    },
    {
      "cell_type": "markdown",
      "metadata": {
        "id": "910zbgl3ccrE",
        "colab_type": "text"
      },
      "source": [
        "# Context"
      ]
    },
    {
      "cell_type": "markdown",
      "metadata": {
        "id": "RHfR_KXqccrF",
        "colab_type": "text"
      },
      "source": [
        "In a reinforcement learning algorithm, we modelize each step $t$ as an action $a_t$ obtained from a state $s_t$, i.e. $\\{(a_{t},s_{t})_{t\\leq T}\\}$ having the Markov property. We consider a discount factor $\\gamma \\in [0,1]$ that ensures convergence. The goal is to find among all the policies $\\pi$, one that maximizes the expected reward:\n",
        "\n",
        "\\begin{equation*}\n",
        "R(\\pi)=\\sum_{t\\leq T}E_{p^{\\pi}}[\\gamma^t r(s_{t},a_{t})] \\> ,\n",
        "\\end{equation*}\n",
        "\n",
        "where: \n",
        "\\begin{equation*}p^{\\pi}(a_{0},a_{1},s_{1},...,a_{T},s_{T})=p(a_{0})\\prod_{t=1}^{T}\\pi(a_{t}|s_{t})p(s_{t+1}|s_{t},a_{t}) \\> .\n",
        "\\end{equation*}\n",
        "\n",
        "We note the $Q$-function:\n",
        "\n",
        "\\begin{equation*}Q^\\pi(s,a)=E_{p^{\\pi}}[\\sum_{t\\leq T}\\gamma^{t}r(s_{t},a_{t})|s_{0}=s,a_{0}=a] \\> .\n",
        "\\end{equation*}\n",
        "\n",
        "Thus, the optimal Q function is:\n",
        "\\begin{equation*}\n",
        "Q^*(s,a)=\\max_{\\pi}Q^\\pi(s,a) \\> .\n",
        "\\end{equation*}\n",
        "\n",
        "In this project, we will apply the deep reinforcement learning techniques to a simple game: an agent will have to learn from scratch a policy that will permit it maximizing a reward."
      ]
    },
    {
      "cell_type": "markdown",
      "metadata": {
        "id": "FsAEBLxBccrG",
        "colab_type": "text"
      },
      "source": [
        "## The environment, the agent and the game"
      ]
    },
    {
      "cell_type": "markdown",
      "metadata": {
        "id": "_27oYkgJccrH",
        "colab_type": "text"
      },
      "source": [
        "### The environment"
      ]
    },
    {
      "cell_type": "markdown",
      "metadata": {
        "id": "MvnLoX1QccrI",
        "colab_type": "text"
      },
      "source": [
        "```Environment``` is an abstract class that represents the states, rewards, and actions to obtain the new state."
      ]
    },
    {
      "cell_type": "code",
      "metadata": {
        "id": "3Qd2pNEPccrJ",
        "colab_type": "code",
        "colab": {}
      },
      "source": [
        "class Environment(object):\n",
        "    def __init__(self):\n",
        "        pass\n",
        "\n",
        "    def act(self, act):\n",
        "        \"\"\"\n",
        "        One can act on the environment and obtain its reaction:\n",
        "        - the new state\n",
        "        - the reward of the new state\n",
        "        - should we continue the game?\n",
        "\n",
        "        :return: state, reward, game_over\n",
        "        \"\"\"\n",
        "        pass\n",
        "\n",
        "\n",
        "    def reset(self):\n",
        "        \"\"\"\n",
        "        Reinitialize the environment to a random state and returns\n",
        "        the original state\n",
        "\n",
        "        :return: state\n",
        "        \"\"\"\n",
        "        pass\n",
        "    \n",
        "    def draw(self):\n",
        "        \"\"\"\n",
        "        Visualize in the console or graphically the current state\n",
        "        \"\"\"\n",
        "        pass"
      ],
      "execution_count": 0,
      "outputs": []
    },
    {
      "cell_type": "markdown",
      "metadata": {
        "id": "7wW7bzODccrN",
        "colab_type": "text"
      },
      "source": [
        "The method ```act``` allows to act on the environment at a given state $s_t$ (stored internally), via action $a_t$. The method will return the new state $s_{t+1}$, the reward $r(s_{t},a_{t})$ and determines if $t\\leq T$ (*game_over*).\n",
        "\n",
        "The method ```reset``` simply reinitializes the environment to a random state $s_0$.\n",
        "\n",
        "The method ```draw``` displays the current state $s_t$ (this is useful to check the behavior of the Agent).\n",
        "\n",
        "We modelize $s_t$ as a tensor, while $a_t$ is an integer."
      ]
    },
    {
      "cell_type": "markdown",
      "metadata": {
        "id": "_OL5ndPPccrO",
        "colab_type": "text"
      },
      "source": [
        "### The Agent"
      ]
    },
    {
      "cell_type": "markdown",
      "metadata": {
        "id": "43ND29oEccrP",
        "colab_type": "text"
      },
      "source": [
        "The goal of the ```Agent``` is to interact with the ```Environment``` by proposing actions $a_t$ obtained from a given state $s_t$ to attempt to maximize its __reward__ $r(s_t,a_t)$. We propose the following abstract class:"
      ]
    },
    {
      "cell_type": "code",
      "metadata": {
        "id": "IcnChHvjccrQ",
        "colab_type": "code",
        "colab": {}
      },
      "source": [
        "class Agent(object):\n",
        "    def __init__(self, epsilon=0.1, n_action=4):\n",
        "        self.epsilon = epsilon\n",
        "        self.n_action = n_action\n",
        "    \n",
        "    def set_epsilon(self,e):\n",
        "        self.epsilon = e\n",
        "\n",
        "    def act(self,s,train=True):\n",
        "        \"\"\" This function should return the next action to do:\n",
        "        an integer between 0 and 4 (not included) with a random exploration of epsilon\"\"\"\n",
        "        if train:\n",
        "            if np.random.rand() <= self.epsilon:\n",
        "                a = np.random.randint(0, self.n_action, size=1)[0]\n",
        "            else:\n",
        "                a = self.learned_act(s)\n",
        "        else: # in some cases, this can improve the performance.. remove it if poor performances\n",
        "            a = self.learned_act(s)\n",
        "\n",
        "        return a\n",
        "\n",
        "    def learned_act(self,s):\n",
        "        \"\"\" Act via the policy of the agent, from a given state s\n",
        "        it proposes an action a\"\"\"\n",
        "        pass\n",
        "\n",
        "    def reinforce(self, s, n_s, a, r, game_over_):\n",
        "        \"\"\" This function is the core of the learning algorithm. \n",
        "        It takes as an input the current state s_, the next state n_s_\n",
        "        the action a_ used to move from s_ to n_s_ and the reward r_.\n",
        "        \n",
        "        Its goal is to learn a policy.\n",
        "        \"\"\"\n",
        "        pass\n",
        "\n",
        "    def save(self):\n",
        "        \"\"\" This function returns basic stats if applicable: the\n",
        "        loss and/or the model\"\"\"\n",
        "        pass\n",
        "\n",
        "    def load(self):\n",
        "        \"\"\" This function allows to restore a model\"\"\"\n",
        "        pass"
      ],
      "execution_count": 0,
      "outputs": []
    },
    {
      "cell_type": "markdown",
      "metadata": {
        "id": "GX7Aw_7eccrU",
        "colab_type": "text"
      },
      "source": [
        "***\n",
        "__Question 1__:\n",
        "Explain the function act. Why is ```epsilon``` essential?"
      ]
    },
    {
      "cell_type": "markdown",
      "metadata": {
        "id": "RA0aL94BccrV",
        "colab_type": "text"
      },
      "source": [
        "With probability $\\epsilon$, the agent chooses an action at random, and with probability $1-\\epsilon$, the agent picks the action that maximizes the Q-function for the current state (i.e., the best action according to its knowledge so far).  \n",
        "Epsilon is essential as it allows the agent to explore its environment. Indeed, as in all problems in Reinforcement Learning, there is a tradeoff to be made between exploration and exploitation. The agent has to learn the optimal Q-function by acquiring knowledge, for example by taking random actions. If the agent only acted greedily, it would be stuck in a suboptimal strategy depending on the initialization of the Q-function : it would never visit some states or state-action pairs, and thus couldn't form a correct estimate of their Q-values."
      ]
    },
    {
      "cell_type": "markdown",
      "metadata": {
        "id": "VkWfsTaMccrW",
        "colab_type": "text"
      },
      "source": [
        "***\n",
        "### The Game"
      ]
    },
    {
      "cell_type": "markdown",
      "metadata": {
        "id": "2K8yUhwnccrX",
        "colab_type": "text"
      },
      "source": [
        "The ```Agent``` and the ```Environment``` work in an interlaced way as in the following (take some time to understand this code as it is the core of the project)\n",
        "\n",
        "```python\n",
        "\n",
        "epoch = 300\n",
        "env = Environment()\n",
        "agent = Agent()\n",
        "\n",
        "\n",
        "# Number of won games\n",
        "score = 0\n",
        "loss = 0\n",
        "\n",
        "\n",
        "for e in range(epoch):\n",
        "    # At each epoch, we restart to a fresh game and get the initial state\n",
        "    state = env.reset()\n",
        "    # This assumes that the games will end\n",
        "    game_over = False\n",
        "\n",
        "    win = 0\n",
        "    lose = 0\n",
        "    \n",
        "    while not game_over:\n",
        "        # The agent performs an action\n",
        "        action = agent.act(state)\n",
        "\n",
        "        # Apply an action to the environment, get the next state, the reward\n",
        "        # and if the games end\n",
        "        prev_state = state\n",
        "        state, reward, game_over = env.act(action)\n",
        "\n",
        "        # Update the counters\n",
        "        if reward > 0:\n",
        "            win = win + reward\n",
        "        if reward < 0:\n",
        "            lose = lose -reward\n",
        "\n",
        "        # Apply the reinforcement strategy\n",
        "        loss = agent.reinforce(prev_state, state,  action, reward, game_over)\n",
        "\n",
        "    # Save as a mp4\n",
        "    if e % 10 == 0:\n",
        "        env.draw(e)\n",
        "\n",
        "    # Update stats\n",
        "    score += win-lose\n",
        "\n",
        "    print(\"Epoch {:03d}/{:03d} | Loss {:.4f} | Win/lose count {}/{} ({})\"\n",
        "          .format(e, epoch, loss, win, lose, win-lose))\n",
        "    agent.save()\n",
        "```"
      ]
    },
    {
      "cell_type": "markdown",
      "metadata": {
        "id": "ju5OvN_WccrX",
        "colab_type": "text"
      },
      "source": [
        "# The game, *eat cheese*"
      ]
    },
    {
      "cell_type": "markdown",
      "metadata": {
        "id": "CC-_NoomccrY",
        "colab_type": "text"
      },
      "source": [
        "A rat runs on an island and tries to eat as much as possible. The island is subdivided into $N\\times N$ cells, in which there are cheese (+0.5) and poisonous cells (-1). The rat has a visibility of 2 cells (thus it can see $5^2$ cells). The rat is given a time $T$ to accumulate as much food as possible. It can perform 4 actions: going up, down, left, right. \n",
        "\n",
        "The goal is to code an agent to solve this task that will learn by trial and error. We propose the following environment:"
      ]
    },
    {
      "cell_type": "code",
      "metadata": {
        "id": "GiycXru4ccrZ",
        "colab_type": "code",
        "colab": {}
      },
      "source": [
        "class Environment(object):\n",
        "    def __init__(self, grid_size=10, max_time=500, temperature=0.1):\n",
        "        grid_size = grid_size+4\n",
        "        self.grid_size = grid_size\n",
        "        self.max_time = max_time\n",
        "        self.temperature = temperature\n",
        "\n",
        "        #board on which one plays\n",
        "        self.board = np.zeros((grid_size,grid_size))\n",
        "        self.position = np.zeros((grid_size,grid_size))\n",
        "\n",
        "        # coordinate of the cat\n",
        "        self.x = 0\n",
        "        self.y = 1\n",
        "\n",
        "        # self time\n",
        "        self.t = 0\n",
        "\n",
        "        self.scale=16\n",
        "\n",
        "        self.to_draw = np.zeros((max_time+2, grid_size*self.scale, grid_size*self.scale, 3))\n",
        "\n",
        "\n",
        "    def draw(self,e):\n",
        "        skvideo.io.vwrite(str(e) + '.mp4', self.to_draw)\n",
        "\n",
        "    def get_frame(self,t):\n",
        "        b = np.zeros((self.grid_size,self.grid_size,3))+128\n",
        "        b[self.board>0,0] = 256\n",
        "        b[self.board < 0, 2] = 256\n",
        "        b[self.x,self.y,:]=256\n",
        "        b[-2:,:,:]=0\n",
        "        b[:,-2:,:]=0\n",
        "        b[:2,:,:]=0\n",
        "        b[:,:2,:]=0\n",
        "        \n",
        "        b =  cv2.resize(b, None, fx=self.scale, fy=self.scale, interpolation=cv2.INTER_NEAREST)\n",
        "\n",
        "        self.to_draw[t,:,:,:]=b\n",
        "\n",
        "\n",
        "    def act(self, action):\n",
        "        \"\"\"This function returns the new state, reward and decides if the\n",
        "        game ends.\"\"\"\n",
        "\n",
        "        self.get_frame(int(self.t))\n",
        "\n",
        "        self.position = np.zeros((self.grid_size, self.grid_size))\n",
        "\n",
        "        self.position[0:2,:]= -1\n",
        "        self.position[:,0:2] = -1\n",
        "        self.position[-2:, :] = -1\n",
        "        self.position[-2:, :] = -1\n",
        "\n",
        "        self.position[self.x, self.y] = 1\n",
        "        if action == 0:\n",
        "            if self.x == self.grid_size-3:\n",
        "                self.x = self.x-1\n",
        "            else:\n",
        "                self.x = self.x + 1\n",
        "        elif action == 1:\n",
        "            if self.x == 2:\n",
        "                self.x = self.x+1\n",
        "            else:\n",
        "                self.x = self.x-1\n",
        "        elif action == 2:\n",
        "            if self.y == self.grid_size - 3:\n",
        "                self.y = self.y - 1\n",
        "            else:\n",
        "                self.y = self.y + 1\n",
        "        elif action == 3:\n",
        "            if self.y == 2:\n",
        "                self.y = self.y + 1\n",
        "            else:\n",
        "                self.y = self.y - 1\n",
        "        else:\n",
        "            RuntimeError('Error: action not recognized')\n",
        "\n",
        "        self.t = self.t + 1\n",
        "        reward = self.board[self.x, self.y]\n",
        "        self.board[self.x, self.y] = 0\n",
        "        game_over = self.t > self.max_time\n",
        "        state = np.concatenate((self.board.reshape(self.grid_size, self.grid_size,1),\n",
        "                        self.position.reshape(self.grid_size, self.grid_size,1)),axis=2)\n",
        "        state = state[self.x-2:self.x+3,self.y-2:self.y+3,:]\n",
        "\n",
        "        return state, reward, game_over\n",
        "\n",
        "    def reset(self):\n",
        "        \"\"\"This function resets the game and returns the initial state\"\"\"\n",
        "\n",
        "        self.x = np.random.randint(3, self.grid_size-3, size=1)[0]\n",
        "        self.y = np.random.randint(3, self.grid_size-3, size=1)[0]\n",
        "\n",
        "\n",
        "        bonus = 0.5*np.random.binomial(1,self.temperature,size=self.grid_size**2)\n",
        "        bonus = bonus.reshape(self.grid_size,self.grid_size)\n",
        "\n",
        "        malus = -1.0*np.random.binomial(1,self.temperature,size=self.grid_size**2)\n",
        "        malus = malus.reshape(self.grid_size, self.grid_size)\n",
        "\n",
        "        self.to_draw = np.zeros((self.max_time+2, self.grid_size*self.scale, self.grid_size*self.scale, 3))\n",
        "\n",
        "\n",
        "        malus[bonus>0]=0\n",
        "\n",
        "        self.board = bonus + malus\n",
        "\n",
        "        self.position = np.zeros((self.grid_size, self.grid_size))\n",
        "        self.position[0:2,:]= -1\n",
        "        self.position[:,0:2] = -1\n",
        "        self.position[-2:, :] = -1\n",
        "        self.position[-2:, :] = -1\n",
        "        self.board[self.x,self.y] = 0\n",
        "        self.t = 0\n",
        "\n",
        "        state = np.concatenate((\n",
        "                               self.board.reshape(self.grid_size, self.grid_size,1),\n",
        "                        self.position.reshape(self.grid_size, self.grid_size,1)),axis=2)\n",
        "\n",
        "        state = state[self.x - 2:self.x + 3, self.y - 2:self.y + 3, :]\n",
        "        return state"
      ],
      "execution_count": 0,
      "outputs": []
    },
    {
      "cell_type": "markdown",
      "metadata": {
        "id": "tJ6YtMggccrd",
        "colab_type": "text"
      },
      "source": [
        "The following elements are important because they correspond to the hyper parameters for this project:"
      ]
    },
    {
      "cell_type": "code",
      "metadata": {
        "id": "t74t20Uxccre",
        "colab_type": "code",
        "colab": {}
      },
      "source": [
        "# parameters\n",
        "size = 13\n",
        "T=200\n",
        "temperature=0.3\n",
        "epochs_train=51 # set small when debugging\n",
        "epochs_test=51 # set small when debugging\n",
        "\n",
        "# display videos\n",
        "def display_videos(name):\n",
        "    video = io.open(name, 'r+b').read()\n",
        "    encoded = base64.b64encode(video)\n",
        "    return '''<video alt=\"test\" controls>\n",
        "                <source src=\"data:video/mp4;base64,{0}\" type=\"video/mp4\" />\n",
        "             </video>'''.format(encoded.decode('ascii'))"
      ],
      "execution_count": 0,
      "outputs": []
    },
    {
      "cell_type": "markdown",
      "metadata": {
        "id": "xOER_GKsccri",
        "colab_type": "text"
      },
      "source": [
        "__Question 2__ Explain the use of the arrays ```position``` and ```board```."
      ]
    },
    {
      "cell_type": "markdown",
      "metadata": {
        "id": "11xYB3vNccrj",
        "colab_type": "text"
      },
      "source": [
        "The grid is extended with 2 unattainable squares on every side, so that the agent can still see 2 squares ahead even if it is on a side of the actual grid.  \n",
        "The board array stores the positions of the bonus and malus squares (and their values, 0.5 for a bonus and -1 for a malus, 0 elsewhere).  \n",
        "The position array contains a 1 where the player is, -1 on the extra squares added on the side where the agent cannot move to, and 0 elsewhere.  \n",
        "Both arrays make up the state that the agent has access to, with a visibility of 2 squares ahead."
      ]
    },
    {
      "cell_type": "markdown",
      "metadata": {
        "id": "aPemmgwSccrk",
        "colab_type": "text"
      },
      "source": [
        "## Random Agent"
      ]
    },
    {
      "cell_type": "markdown",
      "metadata": {
        "id": "fG-CZfO-ccrk",
        "colab_type": "text"
      },
      "source": [
        "***\n",
        "__Question 3__ Implement a random Agent (only ```learned_act``` needs to be implemented):"
      ]
    },
    {
      "cell_type": "code",
      "metadata": {
        "id": "-ChKvOTVccrl",
        "colab_type": "code",
        "colab": {}
      },
      "source": [
        "class RandomAgent(Agent):\n",
        "    def __init__(self):\n",
        "        super(RandomAgent, self).__init__()\n",
        "        pass\n",
        "\n",
        "    def learned_act(self, s):\n",
        "        #take an action at random\n",
        "        return np.random.randint(0, self.n_action, size=1)[0]"
      ],
      "execution_count": 0,
      "outputs": []
    },
    {
      "cell_type": "markdown",
      "metadata": {
        "id": "24PaZ1hgccrr",
        "colab_type": "text"
      },
      "source": [
        "***\n",
        "***\n",
        "__Question 4__ Visualize the game moves. You need to fill in the following function for the evaluation:"
      ]
    },
    {
      "cell_type": "code",
      "metadata": {
        "id": "eHysoeFNccrs",
        "colab_type": "code",
        "colab": {}
      },
      "source": [
        "def test(agent,env,epochs,prefix=''):\n",
        "    # Number of won games\n",
        "    score = 0\n",
        "        \n",
        "    for e in range(epochs):\n",
        "        \n",
        "        # At each epoch, we restart to a fresh game and get the initial state\n",
        "        state = env.reset()\n",
        "        # This assumes that the games will end\n",
        "        game_over = False\n",
        "    \n",
        "        win = 0\n",
        "        lose = 0\n",
        "    \n",
        "        while not game_over:\n",
        "            # The agent performs the greedy action according to Q (no exploration in test phase)\n",
        "            action = agent.act(state, train=False)\n",
        "    \n",
        "            # Apply an action to the environment, get the next state, the reward\n",
        "            # and if the games end\n",
        "            prev_state = state\n",
        "            state, reward, game_over = env.act(action)\n",
        "    \n",
        "            # Update the counters\n",
        "            if reward > 0:\n",
        "                win = win + reward\n",
        "            if reward < 0:\n",
        "                lose = lose -reward\n",
        "\n",
        "        #no reinforce, as it is a test\n",
        "            \n",
        "        # Save as a mp4\n",
        "        if e % 10 == 0:\n",
        "            env.draw(prefix+str(e))\n",
        "\n",
        "        # Update stats\n",
        "        score = score + win-lose\n",
        "\n",
        "        print(\"Win/lose count {}/{}. Average score ({})\"\n",
        "              .format(win, lose, score/(1+e)))\n",
        "        \n",
        "    print('Final score: '+str(score/epochs))"
      ],
      "execution_count": 0,
      "outputs": []
    },
    {
      "cell_type": "code",
      "metadata": {
        "id": "F_hgQGydccrw",
        "colab_type": "code",
        "outputId": "cafb55fa-4328-477f-abdf-6fb34fe0fe1d",
        "colab": {
          "base_uri": "https://localhost:8080/",
          "height": 1000
        }
      },
      "source": [
        "# Initialize the game\n",
        "env = Environment(grid_size=size, max_time=T,temperature=temperature)\n",
        "\n",
        "# Initialize the agent!\n",
        "agent_random = RandomAgent()\n",
        "\n",
        "test(agent_random,env,epochs_test,prefix='random')\n",
        "HTML(display_videos('random50.mp4'))"
      ],
      "execution_count": 0,
      "outputs": [
        {
          "output_type": "stream",
          "text": [
            "Win/lose count 6.5/14.0. Average score (-7.5)\n",
            "Win/lose count 9.5/17.0. Average score (-7.5)\n",
            "Win/lose count 9.5/17.0. Average score (-7.5)\n",
            "Win/lose count 11.0/12.0. Average score (-5.875)\n",
            "Win/lose count 9.0/18.0. Average score (-6.5)\n",
            "Win/lose count 10.5/20.0. Average score (-7.0)\n",
            "Win/lose count 5.5/15.0. Average score (-7.357142857142857)\n",
            "Win/lose count 10.5/14.0. Average score (-6.875)\n",
            "Win/lose count 9.5/20.0. Average score (-7.277777777777778)\n",
            "Win/lose count 10.5/7.0. Average score (-6.2)\n",
            "Win/lose count 6.5/9.0. Average score (-5.863636363636363)\n",
            "Win/lose count 5.0/6.0. Average score (-5.458333333333333)\n",
            "Win/lose count 12.5/23.0. Average score (-5.846153846153846)\n",
            "Win/lose count 7.0/14.0. Average score (-5.928571428571429)\n",
            "Win/lose count 6.5/5.0. Average score (-5.433333333333334)\n",
            "Win/lose count 12.0/18.0. Average score (-5.46875)\n",
            "Win/lose count 11.5/17.0. Average score (-5.470588235294118)\n",
            "Win/lose count 3.5/3.0. Average score (-5.138888888888889)\n",
            "Win/lose count 9.5/13.0. Average score (-5.052631578947368)\n",
            "Win/lose count 12.0/16.0. Average score (-5.0)\n",
            "Win/lose count 8.0/19.0. Average score (-5.285714285714286)\n",
            "Win/lose count 8.0/16.0. Average score (-5.409090909090909)\n",
            "Win/lose count 12.0/18.0. Average score (-5.434782608695652)\n",
            "Win/lose count 6.5/12.0. Average score (-5.4375)\n",
            "Win/lose count 4.5/6.0. Average score (-5.28)\n",
            "Win/lose count 11.0/18.0. Average score (-5.346153846153846)\n",
            "Win/lose count 9.0/18.0. Average score (-5.481481481481482)\n",
            "Win/lose count 6.0/15.0. Average score (-5.607142857142857)\n",
            "Win/lose count 8.5/18.0. Average score (-5.741379310344827)\n",
            "Win/lose count 10.5/10.0. Average score (-5.533333333333333)\n",
            "Win/lose count 11.0/17.0. Average score (-5.548387096774194)\n",
            "Win/lose count 8.0/14.0. Average score (-5.5625)\n",
            "Win/lose count 11.0/15.0. Average score (-5.515151515151516)\n",
            "Win/lose count 12.0/12.0. Average score (-5.352941176470588)\n",
            "Win/lose count 3.5/12.0. Average score (-5.442857142857143)\n",
            "Win/lose count 8.0/14.0. Average score (-5.458333333333333)\n",
            "Win/lose count 10.5/8.0. Average score (-5.243243243243243)\n",
            "Win/lose count 12.5/15.0. Average score (-5.171052631578948)\n",
            "Win/lose count 16.0/12.0. Average score (-4.935897435897436)\n",
            "Win/lose count 12.0/21.0. Average score (-5.0375)\n",
            "Win/lose count 6.5/11.0. Average score (-5.024390243902439)\n",
            "Win/lose count 13.0/18.0. Average score (-5.023809523809524)\n",
            "Win/lose count 9.0/16.0. Average score (-5.069767441860465)\n",
            "Win/lose count 7.0/12.0. Average score (-5.068181818181818)\n",
            "Win/lose count 10.0/12.0. Average score (-5.0)\n",
            "Win/lose count 13.5/7.0. Average score (-4.75)\n",
            "Win/lose count 9.5/20.0. Average score (-4.872340425531915)\n",
            "Win/lose count 5.0/13.0. Average score (-4.9375)\n",
            "Win/lose count 11.0/10.0. Average score (-4.816326530612245)\n",
            "Win/lose count 11.0/21.0. Average score (-4.92)\n",
            "Win/lose count 5.5/8.0. Average score (-4.872549019607843)\n",
            "Final score: -4.872549019607843\n"
          ],
          "name": "stdout"
        },
        {
          "output_type": "execute_result",
          "data": {
            "text/html": [
              "<video alt=\"test\" controls>\n",
              "                <source src=\"data:video/mp4;base64,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\" type=\"video/mp4\" />\n",
              "             </video>"
            ],
            "text/plain": [
              "<IPython.core.display.HTML object>"
            ]
          },
          "metadata": {
            "tags": []
          },
          "execution_count": 8
        }
      ]
    },
    {
      "cell_type": "markdown",
      "metadata": {
        "id": "6Ve2khfabOkE",
        "colab_type": "text"
      },
      "source": [
        "The random agent may act as a (poor) baseline, it gets around -4.9 points on average"
      ]
    },
    {
      "cell_type": "markdown",
      "metadata": {
        "id": "hwZJFlK_ccr0",
        "colab_type": "text"
      },
      "source": [
        "***\n",
        "## DQN"
      ]
    },
    {
      "cell_type": "markdown",
      "metadata": {
        "id": "8E3Q8y2Rccr0",
        "colab_type": "text"
      },
      "source": [
        "Let us assume here that $T=\\infty$.\n",
        "\n",
        "***\n",
        "__Question 5__ Let $\\pi$ be a policy, show that:\n",
        "\n",
        "\\begin{equation*}\n",
        "Q^{\\pi}(s,a)=E_{(s',a')\\sim p^\\pi(.,.|s,a)}[r(s,a)+\\gamma Q^{\\pi}(s',a')]\n",
        "\\end{equation*}\n",
        "\n",
        "Then, show that for the optimal policy $\\pi^*$ (we assume its existence), the following holds: \n",
        "\n",
        "\\begin{equation*}\n",
        "Q^{*}(s,a)=E_{s'\\sim p(.|s,a)}[r(s,a)+\\gamma\\max_{a'}Q^{*}(s',a')].\n",
        "\\end{equation*}\n",
        "Finally, deduce that a plausible objective is:\n",
        "\n",
        "\\begin{equation*}\n",
        "\\mathcal{L}(\\theta)=E_{s' \\sim p(.|s,a)}\\Vert r+\\gamma\\max_{a'}Q(s',a',\\theta)-Q(s,a,\\theta)\\Vert^{2}.\n",
        "\\end{equation*}\n",
        "\n",
        "\n"
      ]
    },
    {
      "cell_type": "markdown",
      "metadata": {
        "id": "M8aG7DrZccr1",
        "colab_type": "text"
      },
      "source": [
        "The definition of the Q-function is : \n",
        "\\begin{equation*}Q^\\pi(s,a)=E_{p^{\\pi}}[\\sum_{t\\leq T}\\gamma^{t}r(s_{t},a_{t})|s_{0}=s,a_{0}=a] \\> .\n",
        "\\end{equation*}\n",
        "We can extract the first term of the sum :\n",
        "$Q^{\\pi}(s,a) = \\mathbb{E}_{p^\\pi} \\Big[ r(s,a) + \\gamma \\sum_{t\\leq T}\\gamma^{t}r(s_{t+1},a_{t+1}) | s_0 = s, a_0 = a \\Big]$\n",
        "\n",
        "We have, by reindexing the time : $\\mathbb{E}_{p^\\pi} \\Big[\\sum_{t\\leq T}\\gamma^{t}r(s_{t+1},a_{t+1}) | s_0 = s, a_0 = a \\Big] = E_{(s',a')\\sim p(.,.|s,a)}\\Big[\\mathbb{E}_{p^\\pi} \\Big[\\sum_{t\\leq T}\\gamma^{t}r(s_{t},a_{t}) | s_0 = s', a_0 = a' \\Big]\\Big] =  E_{(s',a')\\sim p(.,.|s,a)}[ Q^{\\pi}(s',a') ]$\n",
        "\n",
        "Thus by linearity of the expectation (and as $r(s,a)$ is independent of $p$ and $\\pi$ it is equal to its expectation regard to any of those two) :  \\begin{equation*}\n",
        "Q^{\\pi}(s,a)=E_{(s',a')\\sim p(.,.|s,a)}[r(s,a)+\\gamma Q^{\\pi}(s',a')]\n",
        "\\end{equation*}\n",
        "_____________________________________\n",
        "\n",
        "The optimal Q-function is :  \n",
        "\\begin{equation*}\n",
        "Q^*(s,a)=\\max_{\\pi}Q^\\pi(s,a) \n",
        "= \\max_{\\pi}E_{p^{\\pi}}[\\sum_{t\\leq T}\\gamma^{t}r(s_{t},a_{t})|s_{0}=s,a_{0}=a] \n",
        "= \\max_{\\pi}\\mathbb{E}_{p^\\pi} \\Big[ r(s,a) + \\gamma \\sum_{t\\leq T}\\gamma^{t}r(s_{t+1},a_{t+1}) | s_0 = s, a_0 = a \\Big]\n",
        "= r(s,a) + \\gamma \\max_{\\pi}\\mathbb{E}_{p^\\pi}\\Big[\\sum_{t\\leq T}\\gamma^{t}r(s_{t+1},a_{t+1}) | s_0 = s, a_0 = a \\Big] \n",
        "= r(s,a) + \\gamma \\max_{\\pi}E_{(s',a')\\sim p(.,.|s,a)}\\Big[\\mathbb{E}_{p^\\pi} \\Big[\\sum_{t\\leq T}\\gamma^{t}r(s_{t},a_{t}) | s_0 = s', a_0 = a' \\Big]\\Big]\n",
        "=r(s,a) + \\gamma \\max_{\\pi}E_{(s',a')\\sim p(.,.|s,a)}[ Q^{\\pi}(s',a') ]\n",
        "=E_{s'\\sim p(.|s,a)}[r(s,a)+\\gamma\\max_{a'}Q^{*}(s',a')].\\> .\n",
        "\\end{equation*}\n",
        "as maximizing over all possible $\\pi$ is equivalent to optimizing over the best action $a'$ when in the next state $s'$ given by the optimal policy, then following the optimal policy.\n",
        "_____________________\n",
        "\n",
        "$Q^*$ is the only fixed point of the optimal Bellman equation, and by theorem, applying it repeatedly on any Q will make it converge to $Q^*$.\n",
        "\n",
        "Minimizing this objective will ensure that the Q-function parametrized by $\\theta$ gets close to the optimal Q-function. We use the square loss to get a differentiable loss."
      ]
    },
    {
      "cell_type": "markdown",
      "metadata": {
        "id": "GDAKjJdAccr2",
        "colab_type": "text"
      },
      "source": [
        "***\n",
        "The DQN-learning algorithm relies on these derivations to train the parameters $\\theta$ of a Deep Neural Network:\n",
        "\n",
        "1. At the state $s_t$, select the action $a_t$ with best reward using $Q_t$ and store the results;\n",
        "\n",
        "2. Obtain the new state $s_{t+1}$ from the environment $p$;\n",
        "\n",
        "3. Store $(s_t,a_t,s_{t+1})$;\n",
        "\n",
        "4. Obtain $Q_{t+1}$ by minimizing  $\\mathcal{L}$ from a recovered batch from the previously stored results.\n",
        "\n",
        "***\n",
        "__Question 6__ Implement the class ```Memory``` that stores moves (in a replay buffer) via ```remember``` and provides a ```random_access``` to these. Specify a maximum memory size to avoid side effects. You can for example use a ```list()``` and set by default ```max_memory=100```."
      ]
    },
    {
      "cell_type": "code",
      "metadata": {
        "id": "8B9q-lmpccr3",
        "colab_type": "code",
        "colab": {}
      },
      "source": [
        "class Memory(object):\n",
        "    def __init__(self, max_memory=100):\n",
        "        self.max_memory = max_memory\n",
        "        self.memory = list()\n",
        "        #index where we will store the next transition in memory\n",
        "        self.pointer = 0\n",
        "\n",
        "    def remember(self, m):\n",
        "        if len(self.memory)<self.max_memory:\n",
        "          self.memory.append(m)\n",
        "        else:\n",
        "          #if the memory is full, we replace the oldest observation with the newest one\n",
        "          self.memory[self.pointer] = m\n",
        "        self.pointer = (self.pointer + 1) % self.max_memory\n",
        "\n",
        "    def random_access(self):\n",
        "        return self.memory[np.random.randint(0, len(self.memory), size=1)[0]]"
      ],
      "execution_count": 0,
      "outputs": []
    },
    {
      "cell_type": "markdown",
      "metadata": {
        "id": "tE3lx9gyccr6",
        "colab_type": "text"
      },
      "source": [
        "***\n",
        "The pipeline we will use for training is given below:"
      ]
    },
    {
      "cell_type": "code",
      "metadata": {
        "id": "B3ZVbXpFccr6",
        "colab_type": "code",
        "colab": {}
      },
      "source": [
        "def train(agent,env,epoch,prefix=''):\n",
        "    # Number of won games\n",
        "    score = 0\n",
        "    loss = 0\n",
        "\n",
        "    for e in range(epoch):\n",
        "        # At each epoch, we restart to a fresh game and get the initial state\n",
        "        state = env.reset()\n",
        "        # This assumes that the games will terminate\n",
        "        game_over = False\n",
        "\n",
        "        win = 0\n",
        "        lose = 0\n",
        "\n",
        "        while not game_over:\n",
        "            # The agent performs an action\n",
        "            action = agent.act(state)\n",
        "\n",
        "            # Apply an action to the environment, get the next state, the reward\n",
        "            # and if the games end\n",
        "            prev_state = state\n",
        "            state, reward, game_over = env.act(action)\n",
        "\n",
        "            # Update the counters\n",
        "            if reward > 0:\n",
        "                win = win + reward\n",
        "            if reward < 0:\n",
        "                lose = lose -reward\n",
        "\n",
        "            # Apply the reinforcement strategy\n",
        "            loss = agent.reinforce(prev_state, state,  action, reward, game_over)\n",
        "\n",
        "        # Save as a mp4\n",
        "        if e % 10 == 0:\n",
        "            env.draw(prefix+str(e))\n",
        "\n",
        "        # Update stats\n",
        "        score += win-lose\n",
        "\n",
        "        print(\"Epoch {:03d}/{:03d} | Loss {:.4f} | Win/lose count {}/{} ({})\"\n",
        "              .format(e, epoch-1, loss, win, lose, win-lose))\n",
        "        agent.save(name_weights=prefix+'model.h5',name_model=prefix+'model.json')"
      ],
      "execution_count": 0,
      "outputs": []
    },
    {
      "cell_type": "markdown",
      "metadata": {
        "id": "JxfAlerpccr9",
        "colab_type": "text"
      },
      "source": [
        "***\n",
        "__Question 7__ Implement the DQN training algorithm using a cascade of fully connected layers. You can use different learning rate, batch size or memory size parameters. In particular, the loss might oscillate while the player will start to win the games. You have to find a good criterium."
      ]
    },
    {
      "cell_type": "code",
      "metadata": {
        "id": "WH5r_bTPccr-",
        "colab_type": "code",
        "colab": {}
      },
      "source": [
        "class DQN(Agent):\n",
        "    def __init__(self, grid_size,  epsilon = 0.1, memory_size=100, batch_size = 16,n_state=2):\n",
        "        super(DQN, self).__init__(epsilon = epsilon)\n",
        "\n",
        "        # Discount for Q learning\n",
        "        self.discount = 0.99\n",
        "        \n",
        "        self.grid_size = grid_size\n",
        "        \n",
        "        # number of state\n",
        "        self.n_state = n_state\n",
        "\n",
        "        # Memory\n",
        "        self.memory = Memory(memory_size)\n",
        "        \n",
        "        # Batch size when learning\n",
        "        self.batch_size = batch_size\n",
        "\n",
        "    def learned_act(self, s):\n",
        "        #Take the argmax of the Q-function\n",
        "        return np.argmax(self.model.predict(np.expand_dims(s, axis=0))[0])\n",
        "\n",
        "    def reinforce(self, s_, n_s_, a_, r_, game_over_):\n",
        "        # Two steps: first memorize the states, second learn from the pool\n",
        "\n",
        "        self.memory.remember([s_, n_s_, a_, r_, game_over_])\n",
        "        \n",
        "        input_states = np.zeros((self.batch_size, 5,5,self.n_state))\n",
        "        target_q = np.zeros((self.batch_size, 4))\n",
        "        \n",
        "        for i in range(self.batch_size):\n",
        "            #retrieve a transition\n",
        "            s_, n_s_, a_, r_, game_over_ = self.memory.random_access()\n",
        "            input_states[i] = s_\n",
        "            \n",
        "            #set the target Q, it is y_j in the paper\n",
        "            #we do not change the Q value for the actions we did not take\n",
        "            target_q[i] = self.model.predict(np.expand_dims(s_, axis=0))[0]\n",
        "            #Q target for the action that was taken\n",
        "            if game_over_:\n",
        "                target_q[i][a_] = r_\n",
        "            else:\n",
        "                target_q[i][a_] = r_ + self.discount * np.max(self.model.predict(np.expand_dims(n_s_, axis=0))[0])\n",
        "\n",
        "        # HINT: Clip the target to avoid exploiding gradients.. -- clipping is a bit tighter\n",
        "        target_q = np.clip(target_q, -3, 3)\n",
        "\n",
        "        l = self.model.train_on_batch(input_states, target_q)\n",
        "\n",
        "        return l\n",
        "\n",
        "    def save(self,name_weights='model.h5',name_model='model.json'):\n",
        "        self.model.save_weights(name_weights, overwrite=True)\n",
        "        with open(name_model, \"w\") as outfile:\n",
        "            json.dump(self.model.to_json(), outfile)\n",
        "            \n",
        "    def load(self,name_weights='model.h5',name_model='model.json'):\n",
        "        with open(name_model, \"r\") as jfile:\n",
        "            model = model_from_json(json.load(jfile))\n",
        "        model.load_weights(name_weights)\n",
        "        model.compile(\"adam\", \"mse\")\n",
        "        self.model = model\n",
        "\n",
        "            \n",
        "class DQN_FC(DQN):\n",
        "    def __init__(self, *args, lr=0.1,**kwargs):\n",
        "        super(DQN_FC, self).__init__( *args,**kwargs)\n",
        "        \n",
        "        # NN Model, 2 fully connected layers with dimensions 32 and 4 (number of actions)\n",
        "        \n",
        "        model = Sequential()\n",
        "        model.add(Flatten(input_shape=(5,5,self.n_state)))\n",
        "        model.add(Dense(32))\n",
        "        model.add(Activation('relu')) #non-linearity\n",
        "        #model.add(Dense(32))\n",
        "       # model.add(Activation('relu'))\n",
        "        model.add(Dense(4))\n",
        "        model.add(Activation('softmax')) #to get a probability distribution on the actions\n",
        "        \n",
        "        model.compile(sgd(lr=lr, decay=1e-4, momentum=0.0), \"mse\")\n",
        "       # model.compile(adam(lr=lr), \"mse\")\n",
        "        self.model = model\n",
        "        "
      ],
      "execution_count": 0,
      "outputs": []
    },
    {
      "cell_type": "code",
      "metadata": {
        "id": "WOSg0vVIccsC",
        "colab_type": "code",
        "outputId": "3f197d80-f4f9-4868-bc94-e57104711bf6",
        "colab": {
          "base_uri": "https://localhost:8080/",
          "height": 1000
        }
      },
      "source": [
        "env = Environment(grid_size=size, max_time=T, temperature=0.3)\n",
        "agent_fc = DQN_FC(size, lr=.1, epsilon = 0.1, memory_size=2000, batch_size = 32)\n",
        "train(agent_fc, env, epochs_train, prefix='fc_train')\n",
        "HTML(display_videos('fc_train50.mp4'))"
      ],
      "execution_count": 0,
      "outputs": [
        {
          "output_type": "stream",
          "text": [
            "Epoch 000/050 | Loss 0.0083 | Win/lose count 3.0/6.0 (-3.0)\n",
            "Epoch 001/050 | Loss 0.0028 | Win/lose count 3.0/8.0 (-5.0)\n",
            "Epoch 002/050 | Loss 0.0012 | Win/lose count 1.0/3.0 (-2.0)\n",
            "Epoch 003/050 | Loss 0.0095 | Win/lose count 3.0/7.0 (-4.0)\n",
            "Epoch 004/050 | Loss 0.0238 | Win/lose count 3.5/4.0 (-0.5)\n",
            "Epoch 005/050 | Loss 0.0115 | Win/lose count 2.0/4.0 (-2.0)\n",
            "Epoch 006/050 | Loss 0.0081 | Win/lose count 5.0/7.0 (-2.0)\n",
            "Epoch 007/050 | Loss 0.0102 | Win/lose count 4.0/7.0 (-3.0)\n",
            "Epoch 008/050 | Loss 0.0157 | Win/lose count 6.0/7.0 (-1.0)\n",
            "Epoch 009/050 | Loss 0.0086 | Win/lose count 1.5/6.0 (-4.5)\n",
            "Epoch 010/050 | Loss 0.0180 | Win/lose count 5.0/8.0 (-3.0)\n",
            "Epoch 011/050 | Loss 0.0165 | Win/lose count 4.0/6.0 (-2.0)\n",
            "Epoch 012/050 | Loss 0.0147 | Win/lose count 4.5/4.0 (0.5)\n",
            "Epoch 013/050 | Loss 0.0079 | Win/lose count 3.0/3.0 (0.0)\n",
            "Epoch 014/050 | Loss 0.0006 | Win/lose count 4.0/3.0 (1.0)\n",
            "Epoch 015/050 | Loss 0.0087 | Win/lose count 2.0/5.0 (-3.0)\n",
            "Epoch 016/050 | Loss 0.0163 | Win/lose count 2.5/1.0 (1.5)\n",
            "Epoch 017/050 | Loss 0.0164 | Win/lose count 3.0/5.0 (-2.0)\n",
            "Epoch 018/050 | Loss 0.0040 | Win/lose count 3.5/4.0 (-0.5)\n",
            "Epoch 019/050 | Loss 0.0004 | Win/lose count 1.0/4.0 (-3.0)\n",
            "Epoch 020/050 | Loss 0.0059 | Win/lose count 4.5/4.0 (0.5)\n",
            "Epoch 021/050 | Loss 0.0088 | Win/lose count 6.0/4.0 (2.0)\n",
            "Epoch 022/050 | Loss 0.0075 | Win/lose count 4.0/3.0 (1.0)\n",
            "Epoch 023/050 | Loss 0.0020 | Win/lose count 5.5/1.0 (4.5)\n",
            "Epoch 024/050 | Loss 0.0023 | Win/lose count 5.0/4.0 (1.0)\n",
            "Epoch 025/050 | Loss 0.0133 | Win/lose count 3.0/2.0 (1.0)\n",
            "Epoch 026/050 | Loss 0.0070 | Win/lose count 8.0/6.0 (2.0)\n",
            "Epoch 027/050 | Loss 0.0116 | Win/lose count 3.5/4.0 (-0.5)\n",
            "Epoch 028/050 | Loss 0.0195 | Win/lose count 4.5/0 (4.5)\n",
            "Epoch 029/050 | Loss 0.0047 | Win/lose count 3.0/3.0 (0.0)\n",
            "Epoch 030/050 | Loss 0.0090 | Win/lose count 8.5/2.0 (6.5)\n",
            "Epoch 031/050 | Loss 0.0174 | Win/lose count 3.5/3.0 (0.5)\n",
            "Epoch 032/050 | Loss 0.0047 | Win/lose count 5.0/5.0 (0.0)\n",
            "Epoch 033/050 | Loss 0.0159 | Win/lose count 5.0/5.0 (0.0)\n",
            "Epoch 034/050 | Loss 0.0051 | Win/lose count 6.0/2.0 (4.0)\n",
            "Epoch 035/050 | Loss 0.0042 | Win/lose count 6.0/2.0 (4.0)\n",
            "Epoch 036/050 | Loss 0.0034 | Win/lose count 4.0/6.0 (-2.0)\n",
            "Epoch 037/050 | Loss 0.0021 | Win/lose count 1.0/4.0 (-3.0)\n",
            "Epoch 038/050 | Loss 0.0179 | Win/lose count 3.0/4.0 (-1.0)\n",
            "Epoch 039/050 | Loss 0.0071 | Win/lose count 2.5/1.0 (1.5)\n",
            "Epoch 040/050 | Loss 0.0051 | Win/lose count 6.0/5.0 (1.0)\n",
            "Epoch 041/050 | Loss 0.0039 | Win/lose count 6.5/5.0 (1.5)\n",
            "Epoch 042/050 | Loss 0.0046 | Win/lose count 4.0/2.0 (2.0)\n",
            "Epoch 043/050 | Loss 0.0029 | Win/lose count 1.0/2.0 (-1.0)\n",
            "Epoch 044/050 | Loss 0.0001 | Win/lose count 9.0/3.0 (6.0)\n",
            "Epoch 045/050 | Loss 0.0170 | Win/lose count 2.5/5.0 (-2.5)\n",
            "Epoch 046/050 | Loss 0.0162 | Win/lose count 4.5/1.0 (3.5)\n",
            "Epoch 047/050 | Loss 0.0006 | Win/lose count 4.0/5.0 (-1.0)\n",
            "Epoch 048/050 | Loss 0.0074 | Win/lose count 2.5/3.0 (-0.5)\n",
            "Epoch 049/050 | Loss 0.0087 | Win/lose count 7.0/4.0 (3.0)\n",
            "Epoch 050/050 | Loss 0.0061 | Win/lose count 7.5/2.0 (5.5)\n"
          ],
          "name": "stdout"
        },
        {
          "output_type": "execute_result",
          "data": {
            "text/html": [
              "<video alt=\"test\" controls>\n",
              "                <source src=\"data:video/mp4;base64,AAAAIGZ0eXBpc29tAAACAGlzb21pc28yYXZjMW1wNDEAAAAIZnJlZQAAFeJtZGF0AAACrQYF//+p3EXpvebZSLeWLNgg2SPu73gyNjQgLSBjb3JlIDE1MiByMjg1NCBlOWE1OTAzIC0gSC4yNjQvTVBFRy00IEFWQyBjb2RlYyAtIENvcHlsZWZ0IDIwMDMtMjAxNyAtIGh0dHA6Ly93d3cudmlkZW9sYW4ub3JnL3gyNjQuaHRtbCAtIG9wdGlvbnM6IGNhYmFjPTEgcmVmPTMgZGVibG9jaz0xOjA6MCBhbmFseXNlPTB4MToweDExMSBtZT1oZXggc3VibWU9NyBwc3k9MSBwc3lfcmQ9MS4wMDowLjAwIG1peGVkX3JlZj0xIG1lX3JhbmdlPTE2IGNocm9tYV9tZT0xIHRyZWxsaXM9MSA4eDhkY3Q9MCBjcW09MCBkZWFkem9uZT0yMSwxMSBmYXN0X3Bza2lwPTEgY2hyb21hX3FwX29mZnNldD00IHRocmVhZHM9MyBsb29rYWhlYWRfdGhyZWFkcz0xIHNsaWNlZF90aHJlYWRzPTAgbnI9MCBkZWNpbWF0ZT0xIGludGVybGFjZWQ9MCBibHVyYXlfY29tcGF0PTAgY29uc3RyYWluZWRfaW50cmE9MCBiZnJhbWVzPTMgYl9weXJhbWlkPTIgYl9hZGFwdD0xIGJfYmlhcz0wIGRpcmVjdD0xIHdlaWdodGI9MSBvcGVuX2dvcD0wIHdlaWdodHA9MiBrZXlpbnQ9MjUwIGtleWludF9taW49MjUgc2NlbmVjdXQ9NDAgaW50cmFfcmVmcmVzaD0wIHJjX2xvb2thaGVhZD00MCByYz1jcmYgbWJ0cmVlPTEgY3JmPTIzLjAgcWNvbXA9MC42MCBxcG1pbj0wIHFwbWF4PTY5IHFwc3RlcD00IGlwX3JhdGlvPTEuNDAgYXE9MToxLjAwAIAAAAK0ZYiEADv//vb8/AptUwn/LZ/+iL/lb+9P2a61uFE7M7QacwPQC/3cd/Xi1bCrc27LcdG8bJkAU3Roif8hrvvgUoqkfgUzWsTzDZhGHbEeGtwo+35P1Ybu9Yl+QxS5oRZf2wIQUri3w3ydShhFC1HeKhJHVRk4yqtjd+FpEABN4PC0n4GdDfuAWJxMIQq3nwkkE+tVUSn9MArqRy2uFCDq8goVEEM0W4GmEuBnQ/Jgv+n5GXCktsMCHVZWXIRO7I9F0+qNIRGw+2pQgECbiTJjo4KPfXdFBNb8K9jMBZ0kU304IfLoNp17TLP9F+ctRrtLakKsG3qUDZebbb2L8UdcIfr5imAD4WKsMYmXSmEMCbBPgpgzNfJIyiKlU+AVKcsP0otNWtuUO09tnhn29SHwwABFn6mAaSv250NIIJzLbWlJZEwYIDvX4wkatcZFaWErHnE2EGPSHyJDqHlEveFLFKTR+5wc1lwXY16ZEnpqtfjG6/hGUd/1VRNlBAkOav4fJi//M6+g2f8sEjZle7cAANlRQPXbf933br8l5QQu/1d6AHkwfqhn3DLB63PTKPx+882eAHVipUfFGYDtkL+W7327nGneLjB/IpB1OzBwxw9LIq9ZWTAoROVTaJYOnyTl5GQlp5ZdKHdpWxQESj/3gZZHN1SnOQYxPtDVuKcfhEFf7ZXBhcFICigYRl6y2+OniQEHFcf22mxhd+PqxDbAadoUZTU36aQWC/4afURlM0yIkpVoMtu83v9uVxwyWVmwazLA+DAe8GhT/7hNFtTAp0esa7vTsC2s1wCEnUOUisBdhKPTRaz8VohzfGPvpAY5qQrKC5hJrlyOIDM5c3xGfhpiif1oc9p7XwhISlr26LJVLlTY5+iYdIae3zMXXNVFG4iYYXeZ6flmCBsyJ7TlQ+yAC0kAAAAaQZokbEO//qmWAAK337FpuJvV9aP/J483WxYAAAAPQZ5CeIX/AAM4HoaOqzhBAAAAEAGeYXRCvwAEV3HeVsofLYAAAAAPAZ5jakK/AALPZRus9WlbAAAAGUGaZkmoQWiZTBTw7/6plgACpi5CP76vvIUAAAAQAZ6FakK/AARV5omRNK1MwQAAABJBmopJ4QpSZTAh3/6plgAAlYEAAAAMQZ6oRTRML/8AALKAAAAAEAGex3RCvwAEKVI78AH3XcAAAAAQAZ7JakK/AAQpUjvZ4+67gQAAABNBms5JqEFomUwId//+qZYAAJWAAAAADEGe7EURLC//AACygAAAABABnwt0Qr8ABClSO/AB913BAAAAEAGfDWpCvwAEKVI72ePuu4EAAAATQZsSSahBbJlMCHf//qmWAACVgQAAAAxBnzBFFSwv/wAAsoAAAAAQAZ9PdEK/AAQpUjvwAfddwAAAABABn1FqQr8ABClSO9nj7ruBAAAAEkGbVkmoQWyZTAhv//6nhAABJwAAAAxBn3RFFSwv/wAAsoAAAAAQAZ+TdEK/AAQpUjvwAfddwQAAABABn5VqQr8ABClSO9nj7ruAAAAAEkGbmkmoQWyZTAhv//6nhAABJwAAAAxBn7hFFSwv/wAAsoEAAAAQAZ/XdEK/AAQpUjvwAfddwAAAABABn9lqQr8ABClSO9nj7ruBAAAAGUGb20moQWyZTAhv//6nhAAFYxWkEIn+XIMAAAAgQZv9SeEKUmUwUVLDv/6plgAEQKOiBZeMnrRtIHn5D4EAAAAQAZ4cakK/AAbp1TyYHr5rgQAAAChBmgBJ4Q6JlMCHf/6plgAG+9hvmWWMKq8Cma4qeBRJ6/7zzaURnD3AAAAAEkGePkUVPCv/AAtdkN/sN52W9gAAABABnl9qQr8AC12EeTA9fEOBAAAAE0GaREmoQWiZTAh3//6plgAAlYAAAAAMQZ5iRREsL/8AALKBAAAAEAGegXRCvwALPbW3TsuzH4AAAAAQAZ6DakK/AAs9tbYZ6tAegQAAABNBmohJqEFsmUwId//+qZYAAJWBAAAADEGepkUVLC//AACygQAAABABnsV0Qr8ACz21t07Lsx+BAAAAEAGex2pCvwALPbW2GerQHoAAAAATQZrMSahBbJlMCHf//qmWAACVgAAAAAxBnupFFSwv/wAAsoEAAAAQAZ8JdEK/AAs9tbdOy7MfgAAAABABnwtqQr8ACz21thnq0B6AAAAAE0GbEEmoQWyZTAh3//6plgAAlYEAAAAMQZ8uRRUsL/8AALKBAAAAEAGfTXRCvwALPbW3TsuzH4EAAAAQAZ9PakK/AAs9tbYZ6tAegAAAABJBm1RJqEFsmUwIb//+p4QAAScAAAAMQZ9yRRUsL/8AALKBAAAAEAGfkXRCvwALPbW3TsuzH4AAAAAQAZ+TakK/AAs9tbYZ6tAegAAAABJBm5hJqEFsmUwIZ//+nhAABH0AAAAMQZ+2RRUsL/8AALKAAAAAEAGf1XRCvwALPbW3TsuzH4EAAAAQAZ/XakK/AAs9tbYZ6tAegQAAABpBm9lJqEFsmUwIb//+p4QADd++zH+H1befgAAAABlBm/pJ4QpSZTAhv/6nhAANj77Mf4fVt6WBAAAAGUGaG0nhDomUwId//qmWAAar2l/O6QphKxAAAAArQZo/SeEPJlMCG//+p4QACHfHT7tb4ULmWVz3T8ClS0fgUzsCbD8HJX4r8QAAABJBnl1FETwv/wAFHZYqBYceWOEAAAAQAZ58dEK/AAboBTPK/JTnmAAAAA8Bnn5qQr8ABJg1gXX+U0AAAAAaQZpgSahBaJlMCHf//qmWAALtpZXGaX9sSsEAAAAZQZqDSeEKUmUwId/+qZYAAwEFlcZpf2xIwAAAABJBnqFFNEwr/wAE12K9hYL9aIEAAAAOAZ7CakK/AATXZMecFcQAAAAgQZrHSahBaJlMCHf//qmWAAMZ7agH9+y1+u8h/bARrV8AAAARQZ7lRREsL/8AA6CbIWnUUxkAAAAPAZ8EdEK/AATW0YuA/PBhAAAAEAGfBmpCvwAE+pRvNMVbjMEAAAATQZsLSahBbJlMCHf//qmWAACVgAAAAAxBnylFFSwv/wAAsoAAAAAQAZ9IdEK/AAT7oB0LGJx3kQAAABABn0pqQr8ABPo2u7ySk08gAAAAE0GbT0moQWyZTAh3//6plgAAlYAAAAAMQZ9tRRUsL/8AALKBAAAAEAGfjHRCvwAE+6AdCxicd5EAAAAQAZ+OakK/AAT6Nru8kpNPIQAAABNBm5NJqEFsmUwId//+qZYAAJWAAAAADEGfsUUVLC//AACygAAAABABn9B0Qr8ABPugHQsYnHeRAAAAEAGf0mpCvwAE+ja7vJKTTyAAAAATQZvXSahBbJlMCHf//qmWAACVgAAAAAxBn/VFFSwv/wAAsoEAAAAQAZ4UdEK/AAT7oB0LGJx3kAAAABABnhZqQr8ABPo2u7ySk08hAAAAE0GaG0moQWyZTAh3//6plgAAlYEAAAAMQZ45RRUsL/8AALKAAAAAEAGeWHRCvwAE+6AdCxicd5EAAAAQAZ5aakK/AAT6Nru8kpNPIAAAABNBml9JqEFsmUwId//+qZYAAJWBAAAADEGefUUVLC//AACygQAAABABnpx0Qr8ABPugHQsYnHeQAAAAEAGenmpCvwAE+ja7vJKTTyAAAAASQZqDSahBbJlMCG///qeEAAEnAAAADEGeoUUVLC//AACygAAAABABnsB0Qr8ABPugHQsYnHeRAAAAEAGewmpCvwAE+ja7vJKTTyAAAAAaQZrESahBbJlMCHf//qmWAAMVUgzPvE4/vbEAAAASQZroSeEKUmUwId/+qZYAAJWBAAAADEGfBkU0TC//AACygQAAABABnyV0Qr8AB5rFYwqRu5lxAAAAEAGfJ2pCvwAE6so72ePunIAAAAATQZssSahBaJlMCHf//qmWAACVgAAAAAxBn0pFESwv/wAAsoEAAAAQAZ9pdEK/AATqyjvwAfdOQAAAABABn2tqQr8ABOrKO9nj7pyAAAAAE0GbcEmoQWyZTAh3//6plgAAlYEAAAAMQZ+ORRUsL/8AALKBAAAAEAGfrXRCvwAE6so78AH3TkEAAAAQAZ+vakK/AATqyjvZ4+6cgAAAABNBm7RJqEFsmUwId//+qZYAAJWAAAAADEGf0kUVLC//AACygQAAABABn/F0Qr8ABOrKO/AB905AAAAAEAGf82pCvwAE6so72ePunIAAAAATQZv4SahBbJlMCHf//qmWAACVgQAAAAxBnhZFFSwv/wAAsoAAAAAQAZ41dEK/AATqyjvwAfdOQQAAABABnjdqQr8AB5jUOhNjfbphAAAAE0GaPEmoQWyZTAh3//6plgAAlYAAAAAMQZ5aRRUsL/8AALKBAAAAEAGeeXRCvwAE6so78AH3TkAAAAAQAZ57akK/AATqyjvZ4+6cgQAAABNBmmBJqEFsmUwId//+qZYAAJWBAAAADEGenkUVLC//AACygAAAABABnr10Qr8ABOrKO/AB905AAAAAEAGev2pCvwAE6so72ePunIEAAAATQZqkSahBbJlMCHf//qmWAACVgAAAAAxBnsJFFSwv/wAAsoEAAAAQAZ7hdEK/AATqyjvwAfdOQAAAABABnuNqQr8ABOrKO9nj7pyBAAAAE0Ga6EmoQWyZTAh3//6plgAAlYEAAAAMQZ8GRRUsL/8AALKBAAAAEAGfJXRCvwAE6so78AH3TkEAAAAQAZ8nakK/AATqyjvZ4+6cgAAAABNBmyxJqEFsmUwId//+qZYAAJWAAAAADEGfSkUVLC//AACygQAAABABn2l0Qr8ABOrKO/AB905AAAAAEAGfa2pCvwAE6so72ePunIAAAAATQZtwSahBbJlMCHf//qmWAACVgQAAAAxBn45FFSwv/wAAsoEAAAAQAZ+tdEK/AATqyjvwAfdOQQAAABABn69qQr8ABOrKO9nj7pyAAAAAE0GbtEmoQWyZTAh3//6plgAAlYAAAAAMQZ/SRRUsL/8AALKBAAAAEAGf8XRCvwAE6so78AH3TkAAAAAQAZ/zakK/AATqyjvZ4+6cgAAAABNBm/hJqEFsmUwId//+qZYAAJWBAAAADEGeFkUVLC//AACygAAAABABnjV0Qr8ABOrKO/AB905BAAAAEAGeN2pCvwAHmNQ6E2N9umEAAAATQZo8SahBbJlMCHf//qmWAACVgAAAAAxBnlpFFSwv/wAAsoEAAAAQAZ55dEK/AATqyjvwAfdOQAAAABABnntqQr8ABOrKO9nj7pyBAAAAE0GaYEmoQWyZTAh3//6plgAAlYEAAAAMQZ6eRRUsL/8AALKAAAAAEAGevXRCvwAE6so78AH3TkAAAAAQAZ6/akK/AATqyjvZ4+6cgQAAABJBmqRJqEFsmUwIb//+p4QAAScAAAAMQZ7CRRUsL/8AALKBAAAAEAGe4XRCvwAE6so78AH3TkAAAAAQAZ7jakK/AATqyjvZ4+6cgQAAABxBmuVJqEFsmUwId//+qZYAAylo5raSqGJ/WppBAAAAGkGbCUnhClJlMCHf/qmWAATn48/lX/iM/y5pAAAAEEGfJ0U0TC//AAXRladO99kAAAAQAZ9GdEK/AAfGxWL0EtzjwAAAABABn0hqQr8ABQ7KO9nj7peAAAAAE0GbTUmoQWiZTAh3//6plgAAlYEAAAAMQZ9rRREsL/8AALKAAAAAEAGfinRCvwAFDso78AH3S8AAAAAQAZ+MakK/AAUOyjvZ4+6XgQAAABNBm5FJqEFsmUwId//+qZYAAJWBAAAADEGfr0UVLC//AACygQAAABABn850Qr8ABQ7KO/AB90vAAAAAEAGf0GpCvwAFDso72ePul4AAAAATQZvVSahBbJlMCHf//qmWAACVgQAAAAxBn/NFFSwv/wAAsoAAAAAQAZ4SdEK/AAUOyjvwAfdLwAAAABABnhRqQr8ABQ7KO9nj7peBAAAAE0GaGUmoQWyZTAh3//6plgAAlYAAAAAMQZ43RRUsL/8AALKBAAAAEAGeVnRCvwAFDso78AH3S8EAAAAQAZ5YakK/AAUOyjvZ4+6XgAAAABNBml1JqEFsmUwId//+qZYAAJWBAAAADEGee0UVLC//AACygAAAABABnpp0Qr8ABQ7KO/AB90vBAAAAEAGenGpCvwAFDso72ePul4EAAAASQZqBSahBbJlMCG///qeEAAEnAAAADEGev0UVLC//AACygAAAABABnt50Qr8ABQ7KO/AB90vBAAAAEAGewGpCvwAHxNQ5/o065YAAAAASQZrFSahBbJlMCGf//p4QAAR9AAAADEGe40UVLC//AACygAAAABABnwJ0Qr8ABQ7KO/AB90vBAAAAEAGfBGpCvwAFDso72ePul4EAAAAaQZsJS6hCEFskRggoB/IB/YeAIV/+OEAAEXEAAAAjQZ8nRRUsL/8CAdzqS9szCrmA6Bq1qFwJQBlok8LfMpM0nDEAAAAQAZ9GdEK/AAUOyjvwAfdLwAAAACQBn0hqQr8Cr2PtQcTdqsNJJuWqhgcstbvNKiCaLlHnQJaVbSgAAAxobW9vdgAAAGxtdmhkAAAAAAAAAAAAAAAAAAAD6AAAH5AAAQAAAQAAAAAAAAAAAAAAAAEAAAAAAAAAAAAAAAAAAAABAAAAAAAAAAAAAAAAAABAAAAAAAAAAAAAAAAAAAAAAAAAAAAAAAAAAAAAAAAAAgAAC5J0cmFrAAAAXHRraGQAAAADAAAAAAAAAAAAAAABAAAAAAAAH5AAAAAAAAAAAAAAAAAAAAAAAAEAAAAAAAAAAAAAAAAAAAABAAAAAAAAAAAAAAAAAABAAAAAARAAAAEQAAAAAAAkZWR0cwAAABxlbHN0AAAAAAAAAAEAAB+QAAAEAAABAAAAAAsKbWRpYQAAACBtZGhkAAAAAAAAAAAAAAAAAAAyAAABlABVxAAAAAAALWhkbHIAAAAAAAAAAHZpZGUAAAAAAAAAAAAAAABWaWRlb0hhbmRsZXIAAAAKtW1pbmYAAAAUdm1oZAAAAAEAAAAAAAAAAAAAACRkaW5mAAAAHGRyZWYAAAAAAAAAAQAAAAx1cmwgAAAAAQAACnVzdGJsAAAAlXN0c2QAAAAAAAAAAQAAAIVhdmMxAAAAAAAAAAEAAAAAAAAAAAAAAAAAAAAAARABEABIAAAASAAAAAAAAAABAAAAAAAAAAAAAAAAAAAAAAAAAAAAAAAAAAAAAAAAAAAAGP//AAAAL2F2Y0MB9AAN/+EAF2f0AA2RmygiEdCAAAADAIAAABkHihTLAQAFaOvjxEgAAAAYc3R0cwAAAAAAAAABAAAAygAAAgAAAAAUc3RzcwAAAAAAAAABAAAAAQAABkBjdHRzAAAAAAAAAMYAAAABAAAEAAAAAAEAAAoAAAAAAQAABAAAAAABAAAAAAAAAAEAAAIAAAAAAQAABgAAAAABAAACAAAAAAEAAAoAAAAAAQAABAAAAAABAAAAAAAAAAEAAAIAAAAAAQAACgAAAAABAAAEAAAAAAEAAAAAAAAAAQAAAgAAAAABAAAKAAAAAAEAAAQAAAAAAQAAAAAAAAABAAACAAAAAAEAAAoAAAAAAQAABAAAAAABAAAAAAAAAAEAAAIAAAAAAQAACgAAAAABAAAEAAAAAAEAAAAAAAAAAQAAAgAAAAABAAAEAAAAAAEAAAYAAAAAAQAAAgAAAAABAAAIAAAAAAIAAAIAAAAAAQAACgAAAAABAAAEAAAAAAEAAAAAAAAAAQAAAgAAAAABAAAKAAAAAAEAAAQAAAAAAQAAAAAAAAABAAACAAAAAAEAAAoAAAAAAQAABAAAAAABAAAAAAAAAAEAAAIAAAAAAQAACgAAAAABAAAEAAAAAAEAAAAAAAAAAQAAAgAAAAABAAAKAAAAAAEAAAQAAAAAAQAAAAAAAAABAAACAAAAAAEAAAoAAAAAAQAABAAAAAABAAAAAAAAAAEAAAIAAAAAAwAABAAAAAABAAAKAAAAAAEAAAQAAAAAAQAAAAAAAAABAAACAAAAAAEAAAQAAAAAAQAACAAAAAACAAACAAAAAAEAAAoAAAAAAQAABAAAAAABAAAAAAAAAAEAAAIAAAAAAQAACgAAAAABAAAEAAAAAAEAAAAAAAAAAQAAAgAAAAABAAAKAAAAAAEAAAQAAAAAAQAAAAAAAAABAAACAAAAAAEAAAoAAAAAAQAABAAAAAABAAAAAAAAAAEAAAIAAAAAAQAACgAAAAABAAAEAAAAAAEAAAAAAAAAAQAAAgAAAAABAAAKAAAAAAEAAAQAAAAAAQAAAAAAAAABAAACAAAAAAEAAAoAAAAAAQAABAAAAAABAAAAAAAAAAEAAAIAAAAAAQAACgAAAAABAAAEAAAAAAEAAAAAAAAAAQAAAgAAAAABAAAEAAAAAAEAAAoAAAAAAQAABAAAAAABAAAAAAAAAAEAAAIAAAAAAQAACgAAAAABAAAEAAAAAAEAAAAAAAAAAQAAAgAAAAABAAAKAAAAAAEAAAQAAAAAAQAAAAAAAAABAAACAAAAAAEAAAoAAAAAAQAABAAAAAABAAAAAAAAAAEAAAIAAAAAAQAACgAAAAABAAAEAAAAAAEAAAAAAAAAAQAAAgAAAAABAAAKAAAAAAEAAAQAAAAAAQAAAAAAAAABAAACAAAAAAEAAAoAAAAAAQAABAAAAAABAAAAAAAAAAEAAAIAAAAAAQAACgAAAAABAAAEAAAAAAEAAAAAAAAAAQAAAgAAAAABAAAKAAAAAAEAAAQAAAAAAQAAAAAAAAABAAACAAAAAAEAAAoAAAAAAQAABAAAAAABAAAAAAAAAAEAAAIAAAAAAQAACgAAAAABAAAEAAAAAAEAAAAAAAAAAQAAAgAAAAABAAAKAAAAAAEAAAQAAAAAAQAAAAAAAAABAAACAAAAAAEAAAoAAAAAAQAABAAAAAABAAAAAAAAAAEAAAIAAAAAAQAACgAAAAABAAAEAAAAAAEAAAAAAAAAAQAAAgAAAAABAAAKAAAAAAEAAAQAAAAAAQAAAAAAAAABAAACAAAAAAEAAAoAAAAAAQAABAAAAAABAAAAAAAAAAEAAAIAAAAAAQAABAAAAAABAAAKAAAAAAEAAAQAAAAAAQAAAAAAAAABAAACAAAAAAEAAAoAAAAAAQAABAAAAAABAAAAAAAAAAEAAAIAAAAAAQAACgAAAAABAAAEAAAAAAEAAAAAAAAAAQAAAgAAAAABAAAKAAAAAAEAAAQAAAAAAQAAAAAAAAABAAACAAAAAAEAAAoAAAAAAQAABAAAAAABAAAAAAAAAAEAAAIAAAAAAQAACgAAAAABAAAEAAAAAAEAAAAAAAAAAQAAAgAAAAABAAAKAAAAAAEAAAQAAAAAAQAAAAAAAAABAAACAAAAAAEAAAoAAAAAAQAABAAAAAABAAAAAAAAAAEAAAIAAAAAAQAACgAAAAABAAAEAAAAAAEAAAAAAAAAAQAAAgAAAAAcc3RzYwAAAAAAAAABAAAAAQAAAMoAAAABAAADPHN0c3oAAAAAAAAAAAAAAMoAAAVpAAAAHgAAABMAAAAUAAAAEwAAAB0AAAAUAAAAFgAAABAAAAAUAAAAFAAAABcAAAAQAAAAFAAAABQAAAAXAAAAEAAAABQAAAAUAAAAFgAAABAAAAAUAAAAFAAAABYAAAAQAAAAFAAAABQAAAAdAAAAJAAAABQAAAAsAAAAFgAAABQAAAAXAAAAEAAAABQAAAAUAAAAFwAAABAAAAAUAAAAFAAAABcAAAAQAAAAFAAAABQAAAAXAAAAEAAAABQAAAAUAAAAFgAAABAAAAAUAAAAFAAAABYAAAAQAAAAFAAAABQAAAAeAAAAHQAAAB0AAAAvAAAAFgAAABQAAAATAAAAHgAAAB0AAAAWAAAAEgAAACQAAAAVAAAAEwAAABQAAAAXAAAAEAAAABQAAAAUAAAAFwAAABAAAAAUAAAAFAAAABcAAAAQAAAAFAAAABQAAAAXAAAAEAAAABQAAAAUAAAAFwAAABAAAAAUAAAAFAAAABcAAAAQAAAAFAAAABQAAAAWAAAAEAAAABQAAAAUAAAAHgAAABYAAAAQAAAAFAAAABQAAAAXAAAAEAAAABQAAAAUAAAAFwAAABAAAAAUAAAAFAAAABcAAAAQAAAAFAAAABQAAAAXAAAAEAAAABQAAAAUAAAAFwAAABAAAAAUAAAAFAAAABcAAAAQAAAAFAAAABQAAAAXAAAAEAAAABQAAAAUAAAAFwAAABAAAAAUAAAAFAAAABcAAAAQAAAAFAAAABQAAAAXAAAAEAAAABQAAAAUAAAAFwAAABAAAAAUAAAAFAAAABcAAAAQAAAAFAAAABQAAAAXAAAAEAAAABQAAAAUAAAAFwAAABAAAAAUAAAAFAAAABYAAAAQAAAAFAAAABQAAAAgAAAAHgAAABQAAAAUAAAAFAAAABcAAAAQAAAAFAAAABQAAAAXAAAAEAAAABQAAAAUAAAAFwAAABAAAAAUAAAAFAAAABcAAAAQAAAAFAAAABQAAAAXAAAAEAAAABQAAAAUAAAAFgAAABAAAAAUAAAAFAAAABYAAAAQAAAAFAAAABQAAAAeAAAAJwAAABQAAAAoAAAAFHN0Y28AAAAAAAAAAQAAADAAAABidWR0YQAAAFptZXRhAAAAAAAAACFoZGxyAAAAAAAAAABtZGlyYXBwbAAAAAAAAAAAAAAAAC1pbHN0AAAAJal0b28AAAAdZGF0YQAAAAEAAAAATGF2ZjU3LjgzLjEwMA==\" type=\"video/mp4\" />\n",
              "             </video>"
            ],
            "text/plain": [
              "<IPython.core.display.HTML object>"
            ]
          },
          "metadata": {
            "tags": []
          },
          "execution_count": 38
        }
      ]
    },
    {
      "cell_type": "markdown",
      "metadata": {
        "id": "ON051xDLccsE",
        "colab_type": "text"
      },
      "source": [
        "***\n",
        "***\n",
        "__Question 8__ Implement the DQN training algorithm using a CNN (for example, 2 convolutional layers and one final fully connected layer)."
      ]
    },
    {
      "cell_type": "code",
      "metadata": {
        "id": "W5_qC_1uccsF",
        "colab_type": "code",
        "colab": {}
      },
      "source": [
        "class DQN_CNN(DQN):\n",
        "    def __init__(self, *args,lr=0.1,**kwargs):\n",
        "        super(DQN_CNN, self).__init__(*args,**kwargs)\n",
        "        \n",
        "        #2 2D Convolutions of size 64 and 32 with a kernel size of (2,2), then we flatten the hidden state and apply a dense layer\n",
        "        #Maxpooling, dropout, batchnorm possible\n",
        "        model = Sequential()\n",
        "        model.add(Conv2D(64, (2,2), input_shape=(5,5,self.n_state)))\n",
        "        model.add(Activation('relu'))\n",
        "        model.add(Conv2D(32, (2,2)))\n",
        "        model.add(Activation('relu'))\n",
        "        model.add(Flatten())\n",
        "        model.add(Dense(4))\n",
        "        model.add(Activation('softmax'))\n",
        "        \n",
        "        #model.compile(adam(lr=lr), \"mse\")\n",
        "        model.compile(sgd(lr=lr, decay=1e-4, momentum=0.0), \"mse\")\n",
        "\n",
        "        self.model = model"
      ],
      "execution_count": 0,
      "outputs": []
    },
    {
      "cell_type": "code",
      "metadata": {
        "id": "t7C5uIilccsH",
        "colab_type": "code",
        "outputId": "ea2d4986-5f6d-4c06-8e1e-5d7fd7309361",
        "colab": {
          "base_uri": "https://localhost:8080/",
          "height": 1000
        }
      },
      "source": [
        "env = Environment(grid_size=size, max_time=T, temperature=0.3)\n",
        "agent_cnn = DQN_CNN(size, lr=.1, epsilon = 0.1, memory_size=2000, batch_size = 32)\n",
        "train(agent_cnn,env,epochs_train,prefix='cnn_train')\n",
        "HTML(display_videos('cnn_train50.mp4'))"
      ],
      "execution_count": 0,
      "outputs": [
        {
          "output_type": "stream",
          "text": [
            "Epoch 000/050 | Loss 0.0094 | Win/lose count 2.5/5.0 (-2.5)\n",
            "Epoch 001/050 | Loss 0.0000 | Win/lose count 6.0/3.0 (3.0)\n",
            "Epoch 002/050 | Loss 0.0040 | Win/lose count 5.5/4.0 (1.5)\n",
            "Epoch 003/050 | Loss 0.0020 | Win/lose count 5.5/6.0 (-0.5)\n",
            "Epoch 004/050 | Loss 0.0099 | Win/lose count 3.5/1.0 (2.5)\n",
            "Epoch 005/050 | Loss 0.0002 | Win/lose count 3.5/0 (3.5)\n",
            "Epoch 006/050 | Loss 0.0116 | Win/lose count 2.0/2.0 (0.0)\n",
            "Epoch 007/050 | Loss 0.0124 | Win/lose count 1.0/2.0 (-1.0)\n",
            "Epoch 008/050 | Loss 0.0082 | Win/lose count 1.0/3.0 (-2.0)\n",
            "Epoch 009/050 | Loss 0.0040 | Win/lose count 3.5/1.0 (2.5)\n",
            "Epoch 010/050 | Loss 0.0041 | Win/lose count 4.5/3.0 (1.5)\n",
            "Epoch 011/050 | Loss 0.0198 | Win/lose count 3.5/3.0 (0.5)\n",
            "Epoch 012/050 | Loss 0.0064 | Win/lose count 2.5/4.0 (-1.5)\n",
            "Epoch 013/050 | Loss 0.0029 | Win/lose count 1.0/2.0 (-1.0)\n",
            "Epoch 014/050 | Loss 0.0024 | Win/lose count 1.5/2.0 (-0.5)\n",
            "Epoch 015/050 | Loss 0.0000 | Win/lose count 3.5/3.0 (0.5)\n",
            "Epoch 016/050 | Loss 0.0038 | Win/lose count 1.5/4.0 (-2.5)\n",
            "Epoch 017/050 | Loss 0.0001 | Win/lose count 2.5/4.0 (-1.5)\n",
            "Epoch 018/050 | Loss 0.0010 | Win/lose count 3.5/2.0 (1.5)\n",
            "Epoch 019/050 | Loss 0.0057 | Win/lose count 3.0/0 (3.0)\n",
            "Epoch 020/050 | Loss 0.0020 | Win/lose count 2.0/1.0 (1.0)\n",
            "Epoch 021/050 | Loss 0.0027 | Win/lose count 6.0/0 (6.0)\n",
            "Epoch 022/050 | Loss 0.0036 | Win/lose count 2.0/1.0 (1.0)\n",
            "Epoch 023/050 | Loss 0.0001 | Win/lose count 6.5/1.0 (5.5)\n",
            "Epoch 024/050 | Loss 0.0081 | Win/lose count 3.5/3.0 (0.5)\n",
            "Epoch 025/050 | Loss 0.0043 | Win/lose count 5.5/3.0 (2.5)\n",
            "Epoch 026/050 | Loss 0.0082 | Win/lose count 6.0/2.0 (4.0)\n",
            "Epoch 027/050 | Loss 0.0114 | Win/lose count 6.5/7.0 (-0.5)\n",
            "Epoch 028/050 | Loss 0.0017 | Win/lose count 6.5/4.0 (2.5)\n",
            "Epoch 029/050 | Loss 0.0058 | Win/lose count 4.5/6.0 (-1.5)\n",
            "Epoch 030/050 | Loss 0.0097 | Win/lose count 5.5/6.0 (-0.5)\n",
            "Epoch 031/050 | Loss 0.0089 | Win/lose count 8.0/3.0 (5.0)\n",
            "Epoch 032/050 | Loss 0.0009 | Win/lose count 3.5/3.0 (0.5)\n",
            "Epoch 033/050 | Loss 0.0075 | Win/lose count 6.0/3.0 (3.0)\n",
            "Epoch 034/050 | Loss 0.0020 | Win/lose count 5.0/2.0 (3.0)\n",
            "Epoch 035/050 | Loss 0.0069 | Win/lose count 3.5/3.0 (0.5)\n",
            "Epoch 036/050 | Loss 0.0110 | Win/lose count 4.5/4.0 (0.5)\n",
            "Epoch 037/050 | Loss 0.0023 | Win/lose count 4.0/1.0 (3.0)\n",
            "Epoch 038/050 | Loss 0.0052 | Win/lose count 4.0/3.0 (1.0)\n",
            "Epoch 039/050 | Loss 0.0025 | Win/lose count 7.0/6.0 (1.0)\n",
            "Epoch 040/050 | Loss 0.0042 | Win/lose count 5.5/4.0 (1.5)\n",
            "Epoch 041/050 | Loss 0.0161 | Win/lose count 3.5/4.0 (-0.5)\n",
            "Epoch 042/050 | Loss 0.0117 | Win/lose count 3.0/3.0 (0.0)\n",
            "Epoch 043/050 | Loss 0.0030 | Win/lose count 5.5/3.0 (2.5)\n",
            "Epoch 044/050 | Loss 0.0015 | Win/lose count 2.5/4.0 (-1.5)\n",
            "Epoch 045/050 | Loss 0.0059 | Win/lose count 5.5/2.0 (3.5)\n",
            "Epoch 046/050 | Loss 0.0031 | Win/lose count 7.0/3.0 (4.0)\n",
            "Epoch 047/050 | Loss 0.0039 | Win/lose count 2.0/2.0 (0.0)\n",
            "Epoch 048/050 | Loss 0.0069 | Win/lose count 5.0/4.0 (1.0)\n",
            "Epoch 049/050 | Loss 0.0074 | Win/lose count 6.0/1.0 (5.0)\n",
            "Epoch 050/050 | Loss 0.0116 | Win/lose count 9.0/5.0 (4.0)\n"
          ],
          "name": "stdout"
        },
        {
          "output_type": "execute_result",
          "data": {
            "text/html": [
              "<video alt=\"test\" controls>\n",
              "                <source src=\"data:video/mp4;base64,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\" type=\"video/mp4\" />\n",
              "             </video>"
            ],
            "text/plain": [
              "<IPython.core.display.HTML object>"
            ]
          },
          "metadata": {
            "tags": []
          },
          "execution_count": 39
        }
      ]
    },
    {
      "cell_type": "markdown",
      "metadata": {
        "id": "7meLWciFccsK",
        "colab_type": "text"
      },
      "source": [
        "***\n",
        "***\n",
        "__Question 9__ Test both algorithms and compare their performances. Which issue(s) do you observe? Observe also different behaviors by changing the temperature."
      ]
    },
    {
      "cell_type": "code",
      "metadata": {
        "id": "UHBRTt-FccsL",
        "colab_type": "code",
        "outputId": "33e60585-ef5f-4e07-d0aa-eb891360f40d",
        "colab": {
          "base_uri": "https://localhost:8080/",
          "height": 1000
        }
      },
      "source": [
        "env = Environment(grid_size=size, max_time=T,temperature=0.3)\n",
        "agent_cnn = DQN_CNN(size, lr=.05, epsilon = 0.1, memory_size=2000, batch_size = 32)\n",
        "agent_cnn.load(name_weights='cnn_trainmodel.h5',name_model='cnn_trainmodel.json')\n",
        "\n",
        "agent_fc = DQN_FC(size, lr=.05, epsilon = 0.1, memory_size=2000, batch_size = 32)\n",
        "agent_fc.load(name_weights='fc_trainmodel.h5',name_model='fc_trainmodel.json')\n",
        "print('Test of the CNN')\n",
        "test(agent_cnn,env,epochs_test,prefix='cnn_test')\n",
        "print('Test of the FC')\n",
        "test(agent_fc,env,epochs_test,prefix='fc_test')"
      ],
      "execution_count": 0,
      "outputs": [
        {
          "output_type": "stream",
          "text": [
            "Test of the CNN\n",
            "Win/lose count 1.0/0. Average score (1.0)\n",
            "Win/lose count 0/0. Average score (0.5)\n",
            "Win/lose count 0/0. Average score (0.3333333333333333)\n",
            "Win/lose count 1.0/0. Average score (0.5)\n",
            "Win/lose count 0.5/0. Average score (0.5)\n",
            "Win/lose count 1.0/0. Average score (0.5833333333333334)\n",
            "Win/lose count 0/0. Average score (0.5)\n",
            "Win/lose count 0.5/0. Average score (0.5)\n",
            "Win/lose count 0.5/0. Average score (0.5)\n",
            "Win/lose count 1.0/0. Average score (0.55)\n",
            "Win/lose count 0/0. Average score (0.5)\n",
            "Win/lose count 1.5/0. Average score (0.5833333333333334)\n",
            "Win/lose count 1.5/0. Average score (0.6538461538461539)\n",
            "Win/lose count 0.5/0. Average score (0.6428571428571429)\n",
            "Win/lose count 0.5/0. Average score (0.6333333333333333)\n",
            "Win/lose count 1.5/0. Average score (0.6875)\n",
            "Win/lose count 0/0. Average score (0.6470588235294118)\n",
            "Win/lose count 2.0/0. Average score (0.7222222222222222)\n",
            "Win/lose count 1.0/0. Average score (0.7368421052631579)\n",
            "Win/lose count 0/0. Average score (0.7)\n",
            "Win/lose count 2.0/0. Average score (0.7619047619047619)\n",
            "Win/lose count 2.0/0. Average score (0.8181818181818182)\n",
            "Win/lose count 0.5/0. Average score (0.8043478260869565)\n",
            "Win/lose count 0.5/0. Average score (0.7916666666666666)\n",
            "Win/lose count 1.0/0. Average score (0.8)\n",
            "Win/lose count 0.5/0. Average score (0.7884615384615384)\n",
            "Win/lose count 1.0/0. Average score (0.7962962962962963)\n",
            "Win/lose count 1.0/0. Average score (0.8035714285714286)\n",
            "Win/lose count 0.5/0. Average score (0.7931034482758621)\n",
            "Win/lose count 0.5/0. Average score (0.7833333333333333)\n",
            "Win/lose count 0.5/0. Average score (0.7741935483870968)\n",
            "Win/lose count 0/0. Average score (0.75)\n",
            "Win/lose count 0.5/0. Average score (0.7424242424242424)\n",
            "Win/lose count 1.5/0. Average score (0.7647058823529411)\n",
            "Win/lose count 0/0. Average score (0.7428571428571429)\n",
            "Win/lose count 0/0. Average score (0.7222222222222222)\n",
            "Win/lose count 1.5/0. Average score (0.7432432432432432)\n",
            "Win/lose count 0.5/0. Average score (0.7368421052631579)\n",
            "Win/lose count 0.5/0. Average score (0.7307692307692307)\n",
            "Win/lose count 0.5/0. Average score (0.725)\n",
            "Win/lose count 0.5/0. Average score (0.7195121951219512)\n",
            "Win/lose count 1.0/0. Average score (0.7261904761904762)\n",
            "Win/lose count 0.5/0. Average score (0.7209302325581395)\n",
            "Win/lose count 1.0/0. Average score (0.7272727272727273)\n",
            "Win/lose count 1.5/0. Average score (0.7444444444444445)\n",
            "Win/lose count 0/0. Average score (0.7282608695652174)\n",
            "Win/lose count 0.5/0. Average score (0.723404255319149)\n",
            "Win/lose count 2.5/0. Average score (0.7604166666666666)\n",
            "Win/lose count 0.5/0. Average score (0.7551020408163265)\n",
            "Win/lose count 2.0/1.0. Average score (0.76)\n",
            "Win/lose count 0/0. Average score (0.7450980392156863)\n",
            "Final score: 0.7450980392156863\n",
            "Test of the FC\n",
            "Win/lose count 1.0/0. Average score (1.0)\n",
            "Win/lose count 0/0. Average score (0.5)\n",
            "Win/lose count 1.0/0. Average score (0.6666666666666666)\n",
            "Win/lose count 3.0/0. Average score (1.25)\n",
            "Win/lose count 1.0/0. Average score (1.2)\n",
            "Win/lose count 0/0. Average score (1.0)\n",
            "Win/lose count 3.0/0. Average score (1.2857142857142858)\n",
            "Win/lose count 2.0/1.0. Average score (1.25)\n",
            "Win/lose count 0.5/0. Average score (1.1666666666666667)\n",
            "Win/lose count 0/0. Average score (1.05)\n",
            "Win/lose count 3.5/0. Average score (1.2727272727272727)\n",
            "Win/lose count 5.0/1.0. Average score (1.5)\n",
            "Win/lose count 2.0/0. Average score (1.5384615384615385)\n",
            "Win/lose count 1.0/0. Average score (1.5)\n",
            "Win/lose count 0.5/0. Average score (1.4333333333333333)\n",
            "Win/lose count 0/0. Average score (1.34375)\n",
            "Win/lose count 2.0/0. Average score (1.3823529411764706)\n",
            "Win/lose count 2.0/0. Average score (1.4166666666666667)\n",
            "Win/lose count 1.0/0. Average score (1.394736842105263)\n",
            "Win/lose count 0/0. Average score (1.325)\n",
            "Win/lose count 1.5/0. Average score (1.3333333333333333)\n",
            "Win/lose count 1.5/0. Average score (1.3409090909090908)\n",
            "Win/lose count 5.5/1.0. Average score (1.4782608695652173)\n",
            "Win/lose count 0.5/0. Average score (1.4375)\n",
            "Win/lose count 1.0/0. Average score (1.42)\n",
            "Win/lose count 2.0/0. Average score (1.4423076923076923)\n",
            "Win/lose count 1.0/0. Average score (1.4259259259259258)\n",
            "Win/lose count 2.5/0. Average score (1.4642857142857142)\n",
            "Win/lose count 0.5/0. Average score (1.4310344827586208)\n",
            "Win/lose count 1.0/0. Average score (1.4166666666666667)\n",
            "Win/lose count 0.5/0. Average score (1.3870967741935485)\n",
            "Win/lose count 0.5/0. Average score (1.359375)\n",
            "Win/lose count 1.0/0. Average score (1.3484848484848484)\n",
            "Win/lose count 1.5/0. Average score (1.3529411764705883)\n",
            "Win/lose count 1.5/0. Average score (1.3571428571428572)\n",
            "Win/lose count 1.5/0. Average score (1.3611111111111112)\n",
            "Win/lose count 5.0/2.0. Average score (1.4054054054054055)\n",
            "Win/lose count 1.0/0. Average score (1.394736842105263)\n",
            "Win/lose count 0/0. Average score (1.358974358974359)\n",
            "Win/lose count 0/0. Average score (1.325)\n",
            "Win/lose count 1.0/0. Average score (1.3170731707317074)\n",
            "Win/lose count 0.5/0. Average score (1.2976190476190477)\n",
            "Win/lose count 2.5/0. Average score (1.3255813953488371)\n",
            "Win/lose count 1.0/0. Average score (1.3181818181818181)\n",
            "Win/lose count 0/0. Average score (1.288888888888889)\n",
            "Win/lose count 0/0. Average score (1.2608695652173914)\n",
            "Win/lose count 1.5/0. Average score (1.2659574468085106)\n",
            "Win/lose count 1.5/0. Average score (1.2708333333333333)\n",
            "Win/lose count 0/1.0. Average score (1.2244897959183674)\n",
            "Win/lose count 0.5/0. Average score (1.21)\n",
            "Win/lose count 1.5/0. Average score (1.2156862745098038)\n",
            "Final score: 1.2156862745098038\n"
          ],
          "name": "stdout"
        }
      ]
    },
    {
      "cell_type": "markdown",
      "metadata": {
        "id": "0MOdFie-b6JM",
        "colab_type": "text"
      },
      "source": [
        "The CNN gets an average score of 0.7 while the FC gets 1.2. It is much better than the random baseline, and is positive which proves the agents are learning.\n",
        "We get to this performance in 50 epochs without much hyperparameter or architecture tuning.\n",
        "Important : I first used a more complex model with 3 layers of 64, 64 and 4 neurons for the FC, and the adam optimizer, but it did not yield better results.\n",
        "The videos often show the agent alternating between the same 2 squares : it does not explore the board enough even when there are visible bonuses."
      ]
    },
    {
      "cell_type": "code",
      "metadata": {
        "id": "odJwJPC_ccsO",
        "colab_type": "code",
        "outputId": "79b8fb22-3d05-45f5-e5f0-bdfa1cf3c850",
        "colab": {
          "base_uri": "https://localhost:8080/",
          "height": 310
        }
      },
      "source": [
        "print(\"CNN Test\")\n",
        "HTML(display_videos('cnn_test50.mp4'))"
      ],
      "execution_count": 0,
      "outputs": [
        {
          "output_type": "stream",
          "text": [
            "CNN Test\n"
          ],
          "name": "stdout"
        },
        {
          "output_type": "execute_result",
          "data": {
            "text/html": [
              "<video alt=\"test\" controls>\n",
              "                <source src=\"data:video/mp4;base64,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\" type=\"video/mp4\" />\n",
              "             </video>"
            ],
            "text/plain": [
              "<IPython.core.display.HTML object>"
            ]
          },
          "metadata": {
            "tags": []
          },
          "execution_count": 41
        }
      ]
    },
    {
      "cell_type": "code",
      "metadata": {
        "id": "SlqbSjAZajYT",
        "colab_type": "code",
        "outputId": "42fb31dc-03e1-4534-faa8-61d2839e4646",
        "colab": {
          "base_uri": "https://localhost:8080/",
          "height": 310
        }
      },
      "source": [
        "print(\"FC Test\")\n",
        "HTML(display_videos('fc_test50.mp4'))"
      ],
      "execution_count": 0,
      "outputs": [
        {
          "output_type": "stream",
          "text": [
            "FC Test\n"
          ],
          "name": "stdout"
        },
        {
          "output_type": "execute_result",
          "data": {
            "text/html": [
              "<video alt=\"test\" controls>\n",
              "                <source src=\"data:video/mp4;base64,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\" type=\"video/mp4\" />\n",
              "             </video>"
            ],
            "text/plain": [
              "<IPython.core.display.HTML object>"
            ]
          },
          "metadata": {
            "tags": []
          },
          "execution_count": 42
        }
      ]
    },
    {
      "cell_type": "markdown",
      "metadata": {
        "id": "pvVK9n1zclKz",
        "colab_type": "text"
      },
      "source": [
        "#### Changing the temperature"
      ]
    },
    {
      "cell_type": "code",
      "metadata": {
        "id": "G1CN4pu_iSYs",
        "colab_type": "code",
        "outputId": "38985282-c9ee-4b9b-f44e-eff3133a5d3b",
        "colab": {
          "base_uri": "https://localhost:8080/",
          "height": 1000
        }
      },
      "source": [
        "temperatures = [0.1, 0.5, 0.8]\n",
        "for temp in temperatures:\n",
        "    print(\"Temperature : \", temp)\n",
        "    env = Environment(grid_size=size, max_time=T,temperature=temp)\n",
        "    agent_cnn = DQN_CNN(size, lr=.1, epsilon = 0.1, memory_size=2000, batch_size = 32)\n",
        "    agent_cnn.load(name_weights='cnn_trainmodel.h5',name_model='cnn_trainmodel.json')\n",
        "\n",
        "    agent_fc = DQN_FC(size, lr=.1, epsilon = 0.1, memory_size=2000, batch_size = 32)\n",
        "    agent_fc.load(name_weights='fc_trainmodel.h5',name_model='fc_trainmodel.json')\n",
        "    print('Test of the CNN')\n",
        "    test(agent_cnn,env,epochs_test,prefix='cnn_test')\n",
        "    print('Test of the FC')\n",
        "    test(agent_fc,env,epochs_test,prefix='fc_test')\n",
        "    print(\"\\n\")"
      ],
      "execution_count": 0,
      "outputs": [
        {
          "output_type": "stream",
          "text": [
            "Temperature :  0.1\n",
            "Test of the CNN\n",
            "Win/lose count 0.5/0. Average score (0.5)\n",
            "Win/lose count 1.0/0. Average score (0.75)\n",
            "Win/lose count 1.0/0. Average score (0.8333333333333334)\n",
            "Win/lose count 1.0/0. Average score (0.875)\n",
            "Win/lose count 0/0. Average score (0.7)\n",
            "Win/lose count 0.5/0. Average score (0.6666666666666666)\n",
            "Win/lose count 0.5/0. Average score (0.6428571428571429)\n",
            "Win/lose count 0/0. Average score (0.5625)\n",
            "Win/lose count 0/0. Average score (0.5)\n",
            "Win/lose count 0/0. Average score (0.45)\n",
            "Win/lose count 0/0. Average score (0.4090909090909091)\n",
            "Win/lose count 0/0. Average score (0.375)\n",
            "Win/lose count 1.0/0. Average score (0.4230769230769231)\n",
            "Win/lose count 1.0/0. Average score (0.4642857142857143)\n",
            "Win/lose count 1.0/0. Average score (0.5)\n",
            "Win/lose count 1.5/0. Average score (0.5625)\n",
            "Win/lose count 0/0. Average score (0.5294117647058824)\n",
            "Win/lose count 1.0/0. Average score (0.5555555555555556)\n",
            "Win/lose count 0/0. Average score (0.5263157894736842)\n",
            "Win/lose count 0/0. Average score (0.5)\n",
            "Win/lose count 1.0/0. Average score (0.5238095238095238)\n",
            "Win/lose count 0.5/0. Average score (0.5227272727272727)\n",
            "Win/lose count 0.5/0. Average score (0.5217391304347826)\n",
            "Win/lose count 0/0. Average score (0.5)\n",
            "Win/lose count 1.0/0. Average score (0.52)\n",
            "Win/lose count 0.5/0. Average score (0.5192307692307693)\n",
            "Win/lose count 0/0. Average score (0.5)\n",
            "Win/lose count 1.0/0. Average score (0.5178571428571429)\n",
            "Win/lose count 0/0. Average score (0.5)\n",
            "Win/lose count 0/0. Average score (0.48333333333333334)\n",
            "Win/lose count 0/0. Average score (0.46774193548387094)\n",
            "Win/lose count 0.5/0. Average score (0.46875)\n",
            "Win/lose count 1.0/0. Average score (0.48484848484848486)\n",
            "Win/lose count 1.0/0. Average score (0.5)\n",
            "Win/lose count 0.5/0. Average score (0.5)\n",
            "Win/lose count 0/0. Average score (0.4861111111111111)\n",
            "Win/lose count 0/0. Average score (0.47297297297297297)\n",
            "Win/lose count 0/0. Average score (0.4605263157894737)\n",
            "Win/lose count 1.0/0. Average score (0.47435897435897434)\n",
            "Win/lose count 2.0/0. Average score (0.5125)\n",
            "Win/lose count 0/0. Average score (0.5)\n",
            "Win/lose count 0/0. Average score (0.4880952380952381)\n",
            "Win/lose count 0/0. Average score (0.47674418604651164)\n",
            "Win/lose count 0/0. Average score (0.4659090909090909)\n",
            "Win/lose count 0.5/0. Average score (0.4666666666666667)\n",
            "Win/lose count 0.5/0. Average score (0.4673913043478261)\n",
            "Win/lose count 0/0. Average score (0.4574468085106383)\n",
            "Win/lose count 0.5/0. Average score (0.4583333333333333)\n",
            "Win/lose count 0.5/0. Average score (0.45918367346938777)\n",
            "Win/lose count 0/0. Average score (0.45)\n",
            "Win/lose count 0/0. Average score (0.4411764705882353)\n",
            "Final score: 0.4411764705882353\n",
            "Test of the FC\n",
            "Win/lose count 0.5/0. Average score (0.5)\n",
            "Win/lose count 1.0/0. Average score (0.75)\n",
            "Win/lose count 0/0. Average score (0.5)\n",
            "Win/lose count 0.5/0. Average score (0.5)\n",
            "Win/lose count 2.5/0. Average score (0.9)\n",
            "Win/lose count 1.0/0. Average score (0.9166666666666666)\n",
            "Win/lose count 0.5/0. Average score (0.8571428571428571)\n",
            "Win/lose count 0.5/0. Average score (0.8125)\n",
            "Win/lose count 0/0. Average score (0.7222222222222222)\n",
            "Win/lose count 0/0. Average score (0.65)\n",
            "Win/lose count 0/0. Average score (0.5909090909090909)\n",
            "Win/lose count 0/0. Average score (0.5416666666666666)\n",
            "Win/lose count 0/1.0. Average score (0.4230769230769231)\n",
            "Win/lose count 0.5/0. Average score (0.42857142857142855)\n",
            "Win/lose count 0/0. Average score (0.4)\n",
            "Win/lose count 1.0/0. Average score (0.4375)\n",
            "Win/lose count 0/0. Average score (0.4117647058823529)\n",
            "Win/lose count 0.5/0. Average score (0.4166666666666667)\n",
            "Win/lose count 0/0. Average score (0.39473684210526316)\n",
            "Win/lose count 0/0. Average score (0.375)\n",
            "Win/lose count 0.5/0. Average score (0.38095238095238093)\n",
            "Win/lose count 0/0. Average score (0.36363636363636365)\n",
            "Win/lose count 0/0. Average score (0.34782608695652173)\n",
            "Win/lose count 0.5/0. Average score (0.3541666666666667)\n",
            "Win/lose count 1.5/0. Average score (0.4)\n",
            "Win/lose count 0/0. Average score (0.38461538461538464)\n",
            "Win/lose count 2.0/1.0. Average score (0.4074074074074074)\n",
            "Win/lose count 0.5/0. Average score (0.4107142857142857)\n",
            "Win/lose count 0/0. Average score (0.39655172413793105)\n",
            "Win/lose count 1.0/0. Average score (0.4166666666666667)\n",
            "Win/lose count 0.5/0. Average score (0.41935483870967744)\n",
            "Win/lose count 0/0. Average score (0.40625)\n",
            "Win/lose count 0.5/0. Average score (0.4090909090909091)\n",
            "Win/lose count 0/0. Average score (0.39705882352941174)\n",
            "Win/lose count 1.0/0. Average score (0.4142857142857143)\n",
            "Win/lose count 0/0. Average score (0.4027777777777778)\n",
            "Win/lose count 0/0. Average score (0.3918918918918919)\n",
            "Win/lose count 0/0. Average score (0.3815789473684211)\n",
            "Win/lose count 0/0. Average score (0.3717948717948718)\n",
            "Win/lose count 0/0. Average score (0.3625)\n",
            "Win/lose count 0.5/0. Average score (0.36585365853658536)\n",
            "Win/lose count 0/0. Average score (0.35714285714285715)\n",
            "Win/lose count 0.5/0. Average score (0.36046511627906974)\n",
            "Win/lose count 0/0. Average score (0.3522727272727273)\n",
            "Win/lose count 0.5/1.0. Average score (0.3333333333333333)\n",
            "Win/lose count 0/0. Average score (0.32608695652173914)\n",
            "Win/lose count 1.0/0. Average score (0.3404255319148936)\n",
            "Win/lose count 0.5/0. Average score (0.34375)\n",
            "Win/lose count 1.0/0. Average score (0.35714285714285715)\n",
            "Win/lose count 2.5/1.0. Average score (0.38)\n",
            "Win/lose count 1.0/0. Average score (0.39215686274509803)\n",
            "Final score: 0.39215686274509803\n",
            "\n",
            "\n",
            "Temperature :  0.5\n",
            "Test of the CNN\n",
            "Win/lose count 1.0/0. Average score (1.0)\n",
            "Win/lose count 0/0. Average score (0.5)\n",
            "Win/lose count 2.0/0. Average score (1.0)\n",
            "Win/lose count 1.5/0. Average score (1.125)\n",
            "Win/lose count 0/0. Average score (0.9)\n",
            "Win/lose count 0.5/0. Average score (0.8333333333333334)\n",
            "Win/lose count 3.0/1.0. Average score (1.0)\n",
            "Win/lose count 1.5/0. Average score (1.0625)\n",
            "Win/lose count 1.0/0. Average score (1.0555555555555556)\n",
            "Win/lose count 1.5/0. Average score (1.1)\n",
            "Win/lose count 1.0/0. Average score (1.0909090909090908)\n",
            "Win/lose count 1.0/0. Average score (1.0833333333333333)\n",
            "Win/lose count 1.0/0. Average score (1.0769230769230769)\n",
            "Win/lose count 2.0/0. Average score (1.1428571428571428)\n",
            "Win/lose count 0/1.0. Average score (1.0)\n",
            "Win/lose count 0/0. Average score (0.9375)\n",
            "Win/lose count 0/0. Average score (0.8823529411764706)\n",
            "Win/lose count 0.5/0. Average score (0.8611111111111112)\n",
            "Win/lose count 0.5/0. Average score (0.8421052631578947)\n",
            "Win/lose count 1.5/0. Average score (0.875)\n",
            "Win/lose count 0.5/0. Average score (0.8571428571428571)\n",
            "Win/lose count 0.5/0. Average score (0.8409090909090909)\n",
            "Win/lose count 0/0. Average score (0.8043478260869565)\n",
            "Win/lose count 1.5/0. Average score (0.8333333333333334)\n",
            "Win/lose count 2.0/0. Average score (0.88)\n",
            "Win/lose count 0.5/0. Average score (0.8653846153846154)\n",
            "Win/lose count 0.5/0. Average score (0.8518518518518519)\n",
            "Win/lose count 3.0/0. Average score (0.9285714285714286)\n",
            "Win/lose count 0.5/0. Average score (0.9137931034482759)\n",
            "Win/lose count 3.5/0. Average score (1.0)\n",
            "Win/lose count 0/0. Average score (0.967741935483871)\n",
            "Win/lose count 1.5/0. Average score (0.984375)\n",
            "Win/lose count 1.0/0. Average score (0.9848484848484849)\n",
            "Win/lose count 4.0/0. Average score (1.0735294117647058)\n",
            "Win/lose count 0.5/1.0. Average score (1.0285714285714285)\n",
            "Win/lose count 1.0/0. Average score (1.0277777777777777)\n",
            "Win/lose count 1.5/0. Average score (1.0405405405405406)\n",
            "Win/lose count 2.0/0. Average score (1.0657894736842106)\n",
            "Win/lose count 1.0/1.0. Average score (1.0384615384615385)\n",
            "Win/lose count 2.0/0. Average score (1.0625)\n",
            "Win/lose count 1.5/0. Average score (1.0731707317073171)\n",
            "Win/lose count 2.5/1.0. Average score (1.0833333333333333)\n",
            "Win/lose count 0.5/0. Average score (1.069767441860465)\n",
            "Win/lose count 0/0. Average score (1.0454545454545454)\n",
            "Win/lose count 1.0/0. Average score (1.0444444444444445)\n",
            "Win/lose count 1.5/0. Average score (1.0543478260869565)\n",
            "Win/lose count 1.5/0. Average score (1.0638297872340425)\n",
            "Win/lose count 1.0/0. Average score (1.0625)\n",
            "Win/lose count 3.5/0. Average score (1.1122448979591837)\n",
            "Win/lose count 2.0/0. Average score (1.13)\n",
            "Win/lose count 1.5/0. Average score (1.1372549019607843)\n",
            "Final score: 1.1372549019607843\n",
            "Test of the FC\n",
            "Win/lose count 4.0/0. Average score (4.0)\n",
            "Win/lose count 6.0/0. Average score (5.0)\n",
            "Win/lose count 3.0/0. Average score (4.333333333333333)\n",
            "Win/lose count 3.0/0. Average score (4.0)\n",
            "Win/lose count 1.0/0. Average score (3.4)\n",
            "Win/lose count 3.5/0. Average score (3.4166666666666665)\n",
            "Win/lose count 4.0/0. Average score (3.5)\n",
            "Win/lose count 2.0/0. Average score (3.3125)\n",
            "Win/lose count 1.0/0. Average score (3.0555555555555554)\n",
            "Win/lose count 1.5/0. Average score (2.9)\n",
            "Win/lose count 0.5/0. Average score (2.6818181818181817)\n",
            "Win/lose count 0.5/0. Average score (2.5)\n",
            "Win/lose count 0.5/1.0. Average score (2.269230769230769)\n",
            "Win/lose count 1.0/0. Average score (2.1785714285714284)\n",
            "Win/lose count 8.5/0. Average score (2.6)\n",
            "Win/lose count 1.0/0. Average score (2.5)\n",
            "Win/lose count 2.5/2.0. Average score (2.3823529411764706)\n",
            "Win/lose count 2.5/0. Average score (2.388888888888889)\n",
            "Win/lose count 2.0/2.0. Average score (2.263157894736842)\n",
            "Win/lose count 1.0/1.0. Average score (2.15)\n",
            "Win/lose count 0/0. Average score (2.0476190476190474)\n",
            "Win/lose count 2.5/0. Average score (2.0681818181818183)\n",
            "Win/lose count 0.5/0. Average score (2.0)\n",
            "Win/lose count 5.5/0. Average score (2.1458333333333335)\n",
            "Win/lose count 0.5/0. Average score (2.08)\n",
            "Win/lose count 1.5/0. Average score (2.0576923076923075)\n",
            "Win/lose count 1.0/0. Average score (2.0185185185185186)\n",
            "Win/lose count 0.5/0. Average score (1.9642857142857142)\n",
            "Win/lose count 3.5/1.0. Average score (1.9827586206896552)\n",
            "Win/lose count 0.5/0. Average score (1.9333333333333333)\n",
            "Win/lose count 7.0/0. Average score (2.096774193548387)\n",
            "Win/lose count 6.5/0. Average score (2.234375)\n",
            "Win/lose count 1.5/0. Average score (2.212121212121212)\n",
            "Win/lose count 4.5/0. Average score (2.2794117647058822)\n",
            "Win/lose count 0.5/0. Average score (2.2285714285714286)\n",
            "Win/lose count 1.0/0. Average score (2.1944444444444446)\n",
            "Win/lose count 2.5/1.0. Average score (2.175675675675676)\n",
            "Win/lose count 3.0/2.0. Average score (2.1447368421052633)\n",
            "Win/lose count 1.5/0. Average score (2.128205128205128)\n",
            "Win/lose count 3.5/0. Average score (2.1625)\n",
            "Win/lose count 1.5/0. Average score (2.1463414634146343)\n",
            "Win/lose count 1.0/0. Average score (2.119047619047619)\n",
            "Win/lose count 1.0/0. Average score (2.0930232558139537)\n",
            "Win/lose count 1.5/0. Average score (2.0795454545454546)\n",
            "Win/lose count 1.0/1.0. Average score (2.033333333333333)\n",
            "Win/lose count 1.5/1.0. Average score (2.0)\n",
            "Win/lose count 1.0/0. Average score (1.9787234042553192)\n",
            "Win/lose count 3.0/0. Average score (2.0)\n",
            "Win/lose count 1.5/0. Average score (1.989795918367347)\n",
            "Win/lose count 6.0/0. Average score (2.07)\n",
            "Win/lose count 0.5/0. Average score (2.0392156862745097)\n",
            "Final score: 2.0392156862745097\n",
            "\n",
            "\n",
            "Temperature :  0.8\n",
            "Test of the CNN\n",
            "Win/lose count 2.0/0. Average score (2.0)\n",
            "Win/lose count 2.5/0. Average score (2.25)\n",
            "Win/lose count 1.5/0. Average score (2.0)\n",
            "Win/lose count 1.5/0. Average score (1.875)\n",
            "Win/lose count 1.5/0. Average score (1.8)\n",
            "Win/lose count 2.0/0. Average score (1.8333333333333333)\n",
            "Win/lose count 5.0/0. Average score (2.2857142857142856)\n",
            "Win/lose count 0.5/0. Average score (2.0625)\n",
            "Win/lose count 3.0/1.0. Average score (2.0555555555555554)\n",
            "Win/lose count 2.0/0. Average score (2.05)\n",
            "Win/lose count 2.0/0. Average score (2.0454545454545454)\n",
            "Win/lose count 1.0/0. Average score (1.9583333333333333)\n",
            "Win/lose count 2.5/0. Average score (2.0)\n",
            "Win/lose count 3.5/0. Average score (2.107142857142857)\n",
            "Win/lose count 5.0/0. Average score (2.3)\n",
            "Win/lose count 3.5/0. Average score (2.375)\n",
            "Win/lose count 1.5/0. Average score (2.323529411764706)\n",
            "Win/lose count 2.0/0. Average score (2.3055555555555554)\n",
            "Win/lose count 3.0/0. Average score (2.3421052631578947)\n",
            "Win/lose count 2.0/0. Average score (2.325)\n",
            "Win/lose count 1.0/0. Average score (2.261904761904762)\n",
            "Win/lose count 6.0/0. Average score (2.4318181818181817)\n",
            "Win/lose count 4.5/0. Average score (2.5217391304347827)\n",
            "Win/lose count 3.5/0. Average score (2.5625)\n",
            "Win/lose count 5.0/0. Average score (2.66)\n",
            "Win/lose count 4.5/0. Average score (2.730769230769231)\n",
            "Win/lose count 3.5/0. Average score (2.759259259259259)\n",
            "Win/lose count 1.0/0. Average score (2.6964285714285716)\n",
            "Win/lose count 3.5/0. Average score (2.7241379310344827)\n",
            "Win/lose count 2.0/0. Average score (2.7)\n",
            "Win/lose count 3.5/0. Average score (2.725806451612903)\n",
            "Win/lose count 3.0/0. Average score (2.734375)\n",
            "Win/lose count 1.0/0. Average score (2.6818181818181817)\n",
            "Win/lose count 0.5/0. Average score (2.6176470588235294)\n",
            "Win/lose count 4.0/0. Average score (2.657142857142857)\n",
            "Win/lose count 5.5/0. Average score (2.736111111111111)\n",
            "Win/lose count 6.0/0. Average score (2.824324324324324)\n",
            "Win/lose count 1.0/0. Average score (2.776315789473684)\n",
            "Win/lose count 4.5/0. Average score (2.8205128205128207)\n",
            "Win/lose count 3.5/0. Average score (2.8375)\n",
            "Win/lose count 1.5/0. Average score (2.8048780487804876)\n",
            "Win/lose count 1.0/0. Average score (2.761904761904762)\n",
            "Win/lose count 2.5/0. Average score (2.755813953488372)\n",
            "Win/lose count 3.5/0. Average score (2.772727272727273)\n",
            "Win/lose count 5.5/0. Average score (2.8333333333333335)\n",
            "Win/lose count 2.5/0. Average score (2.8260869565217392)\n",
            "Win/lose count 1.5/0. Average score (2.797872340425532)\n",
            "Win/lose count 1.0/0. Average score (2.7604166666666665)\n",
            "Win/lose count 1.0/0. Average score (2.7244897959183674)\n",
            "Win/lose count 4.0/0. Average score (2.75)\n",
            "Win/lose count 3.5/0. Average score (2.764705882352941)\n",
            "Final score: 2.764705882352941\n",
            "Test of the FC\n",
            "Win/lose count 1.5/0. Average score (1.5)\n",
            "Win/lose count 4.5/0. Average score (3.0)\n",
            "Win/lose count 1.0/0. Average score (2.3333333333333335)\n",
            "Win/lose count 4.0/0. Average score (2.75)\n",
            "Win/lose count 1.5/0. Average score (2.5)\n",
            "Win/lose count 1.5/0. Average score (2.3333333333333335)\n",
            "Win/lose count 1.5/0. Average score (2.2142857142857144)\n",
            "Win/lose count 3.5/0. Average score (2.375)\n",
            "Win/lose count 4.0/1.0. Average score (2.4444444444444446)\n",
            "Win/lose count 3.5/0. Average score (2.55)\n",
            "Win/lose count 5.5/0. Average score (2.8181818181818183)\n",
            "Win/lose count 0.5/0. Average score (2.625)\n",
            "Win/lose count 0.5/0. Average score (2.4615384615384617)\n",
            "Win/lose count 0.5/0. Average score (2.3214285714285716)\n",
            "Win/lose count 3.0/0. Average score (2.3666666666666667)\n",
            "Win/lose count 1.0/0. Average score (2.28125)\n",
            "Win/lose count 4.5/0. Average score (2.411764705882353)\n",
            "Win/lose count 1.5/0. Average score (2.361111111111111)\n",
            "Win/lose count 1.0/0. Average score (2.289473684210526)\n",
            "Win/lose count 0/1.0. Average score (2.125)\n",
            "Win/lose count 4.0/0. Average score (2.2142857142857144)\n",
            "Win/lose count 0.5/0. Average score (2.1363636363636362)\n",
            "Win/lose count 7.0/0. Average score (2.347826086956522)\n",
            "Win/lose count 1.0/0. Average score (2.2916666666666665)\n",
            "Win/lose count 2.5/0. Average score (2.3)\n",
            "Win/lose count 2.0/0. Average score (2.2884615384615383)\n",
            "Win/lose count 2.0/0. Average score (2.2777777777777777)\n",
            "Win/lose count 6.0/0. Average score (2.4107142857142856)\n",
            "Win/lose count 1.5/0. Average score (2.3793103448275863)\n",
            "Win/lose count 4.5/0. Average score (2.45)\n",
            "Win/lose count 6.0/0. Average score (2.564516129032258)\n",
            "Win/lose count 6.5/1.0. Average score (2.65625)\n",
            "Win/lose count 2.0/0. Average score (2.6363636363636362)\n",
            "Win/lose count 0.5/0. Average score (2.573529411764706)\n",
            "Win/lose count 0.5/0. Average score (2.5142857142857142)\n",
            "Win/lose count 2.0/0. Average score (2.5)\n",
            "Win/lose count 1.5/0. Average score (2.472972972972973)\n",
            "Win/lose count 1.0/0. Average score (2.4342105263157894)\n",
            "Win/lose count 3.5/0. Average score (2.4615384615384617)\n",
            "Win/lose count 11.0/2.0. Average score (2.625)\n",
            "Win/lose count 6.5/0. Average score (2.7195121951219514)\n",
            "Win/lose count 4.0/0. Average score (2.75)\n",
            "Win/lose count 1.0/0. Average score (2.7093023255813953)\n",
            "Win/lose count 4.0/1.0. Average score (2.715909090909091)\n",
            "Win/lose count 2.0/0. Average score (2.7)\n",
            "Win/lose count 2.0/0. Average score (2.6847826086956523)\n",
            "Win/lose count 2.0/0. Average score (2.6702127659574466)\n",
            "Win/lose count 2.5/0. Average score (2.6666666666666665)\n",
            "Win/lose count 2.5/1.0. Average score (2.642857142857143)\n",
            "Win/lose count 2.0/0. Average score (2.63)\n",
            "Win/lose count 3.5/0. Average score (2.6470588235294117)\n",
            "Final score: 2.6470588235294117\n",
            "\n",
            "\n"
          ],
          "name": "stdout"
        }
      ]
    },
    {
      "cell_type": "code",
      "metadata": {
        "id": "oKz4MKNDjb1n",
        "colab_type": "code",
        "outputId": "95d82e9f-b24b-4b82-ac43-22ae3ce06160",
        "colab": {
          "base_uri": "https://localhost:8080/",
          "height": 310
        }
      },
      "source": [
        "print(\"CNN Test with high temperature\")\n",
        "HTML(display_videos('cnn_test50.mp4'))"
      ],
      "execution_count": 0,
      "outputs": [
        {
          "output_type": "stream",
          "text": [
            "CNN Test with high temperature\n"
          ],
          "name": "stdout"
        },
        {
          "output_type": "execute_result",
          "data": {
            "text/html": [
              "<video alt=\"test\" controls>\n",
              "                <source src=\"data:video/mp4;base64,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\" type=\"video/mp4\" />\n",
              "             </video>"
            ],
            "text/plain": [
              "<IPython.core.display.HTML object>"
            ]
          },
          "metadata": {
            "tags": []
          },
          "execution_count": 44
        }
      ]
    },
    {
      "cell_type": "code",
      "metadata": {
        "id": "QZgbzZb2jgqU",
        "colab_type": "code",
        "outputId": "5ec130ff-22e9-43fc-914f-7d09f56e6f69",
        "colab": {
          "base_uri": "https://localhost:8080/",
          "height": 310
        }
      },
      "source": [
        "print(\"FC Test with high temperature\")\n",
        "HTML(display_videos('fc_test50.mp4'))"
      ],
      "execution_count": 0,
      "outputs": [
        {
          "output_type": "stream",
          "text": [
            "FC Test with high temperature\n"
          ],
          "name": "stdout"
        },
        {
          "output_type": "execute_result",
          "data": {
            "text/html": [
              "<video alt=\"test\" controls>\n",
              "                <source src=\"data:video/mp4;base64,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\" type=\"video/mp4\" />\n",
              "             </video>"
            ],
            "text/plain": [
              "<IPython.core.display.HTML object>"
            ]
          },
          "metadata": {
            "tags": []
          },
          "execution_count": 45
        }
      ]
    },
    {
      "cell_type": "markdown",
      "metadata": {
        "id": "tDFjjIDPccsT",
        "colab_type": "text"
      },
      "source": [
        "The performance increases with the temperature as the number of bonus squares also increases. We still observe the same \"alternating\" behavior which needs to be fixed."
      ]
    },
    {
      "cell_type": "markdown",
      "metadata": {
        "id": "Hyd6p1TQccsU",
        "colab_type": "text"
      },
      "source": [
        "***\n",
        "\n",
        "The algorithm tends to not explore the map which can be an issue. We propose two ideas in order to encourage exploration:\n",
        "1. Incorporating a decreasing $\\epsilon$-greedy exploration. You can use the method ```set_epsilon```\n",
        "2. Append via the environment a new state that describes if a cell has been visited or not\n",
        "\n",
        "***\n",
        "__Question 10__ Design a new ```train_explore``` function and environment class ```EnvironmentExploring``` to tackle the issue of exploration.\n",
        "\n"
      ]
    },
    {
      "cell_type": "code",
      "metadata": {
        "id": "ZkjOiD7OccsV",
        "colab_type": "code",
        "colab": {}
      },
      "source": [
        "def train_explore(agent,env,epoch,prefix=''):\n",
        "    # Number of won games\n",
        "    score = 0\n",
        "    loss = 0\n",
        "    eps=1\n",
        "\n",
        "    for e in range(epoch):\n",
        "        #We linearly decrease epsilon from 1 to 0.1 at each epoch\n",
        "        eps -= (1-0.1)/epoch\n",
        "        agent.set_epsilon(eps)\n",
        "\n",
        "        # At each epoch, we restart to a fresh game and get the initial state\n",
        "        state = env.reset()\n",
        "        # This assumes that the games will terminate\n",
        "        game_over = False\n",
        "\n",
        "        win = 0\n",
        "        lose = 0\n",
        "\n",
        "        while not game_over:\n",
        "            # The agent performs an action\n",
        "            action = agent.act(state)\n",
        "\n",
        "            # Apply an action to the environment, get the next state, the reward\n",
        "            # and if the games end\n",
        "            prev_state = state\n",
        "            state, reward, game_over = env.act(action, train=True) if isinstance(env, EnvironmentExploring) else env.act(action)\n",
        "\n",
        "            # Update the counters\n",
        "            if reward > 0:\n",
        "                win = win + reward\n",
        "            if reward < 0:\n",
        "                lose = lose -reward\n",
        "\n",
        "            # Apply the reinforcement strategy\n",
        "            loss = agent.reinforce(prev_state, state,  action, reward, game_over)\n",
        "\n",
        "        # Save as a mp4\n",
        "        if e % 10 == 0:\n",
        "            env.draw(prefix+str(e))\n",
        "\n",
        "        # Update stats\n",
        "        score += win-lose\n",
        "\n",
        "        print(\"Epoch {:03d}/{:03d} | Loss {:.4f} | Win/lose count {}/{} ({})\"\n",
        "              .format(e, epoch-1, loss, win, lose, win-lose))\n",
        "        agent.save(name_weights=prefix+'model.h5',name_model=prefix+'model.json')\n",
        "        \n",
        "\n",
        "class EnvironmentExploring(object):\n",
        "    def __init__(self, grid_size=10, max_time=500, temperature=0.1, malus_position_=0.1):\n",
        "        grid_size = grid_size+4\n",
        "        self.grid_size = grid_size\n",
        "        self.max_time = max_time\n",
        "        self.temperature = temperature\n",
        "        self.malus_position_ = malus_position_ # malus if we visit a position more than once\n",
        "\n",
        "        #board on which one plays\n",
        "        self.board = np.zeros((grid_size,grid_size))\n",
        "        self.position = np.zeros((grid_size,grid_size))\n",
        "        self.malus_position = np.zeros((grid_size,grid_size))\n",
        "\n",
        "        # coordinate of the cat\n",
        "        self.x = 0\n",
        "        self.y = 1\n",
        "\n",
        "        # self time\n",
        "        self.t = 0\n",
        "\n",
        "        self.scale=16\n",
        "\n",
        "        self.to_draw = np.zeros((max_time+2, grid_size*self.scale, grid_size*self.scale, 3))\n",
        "\n",
        "\n",
        "    def draw(self,e):\n",
        "        skvideo.io.vwrite(str(e) + '.mp4', self.to_draw)\n",
        "\n",
        "    def get_frame(self,t):\n",
        "        b = np.zeros((self.grid_size,self.grid_size,3))+128\n",
        "        b[self.board>0,0] = 256\n",
        "        b[self.board < 0, 2] = 256\n",
        "        b[self.x,self.y,:]=256\n",
        "        b[-2:,:,:]=0\n",
        "        b[:,-2:,:]=0\n",
        "        b[:2,:,:]=0\n",
        "        b[:,:2,:]=0\n",
        "        \n",
        "        b =  cv2.resize(b, None, fx=self.scale, fy=self.scale, interpolation=cv2.INTER_NEAREST)\n",
        "\n",
        "        self.to_draw[t,:,:,:]=b\n",
        "\n",
        "\n",
        "    def act(self, action, train=False):\n",
        "        \"\"\"This function returns the new state, reward and decides if the\n",
        "        game ends.\"\"\"\n",
        "\n",
        "        self.get_frame(int(self.t))\n",
        "\n",
        "        self.position = np.zeros((self.grid_size, self.grid_size))\n",
        "\n",
        "        self.position[0:2,:]= -1\n",
        "        self.position[:,0:2] = -1\n",
        "        self.position[-2:, :] = -1\n",
        "        self.position[-2:, :] = -1\n",
        "\n",
        "        self.position[self.x, self.y] = 1\n",
        "        if action == 0:\n",
        "            if self.x == self.grid_size-3:\n",
        "                self.x = self.x-1\n",
        "            else:\n",
        "                self.x = self.x + 1\n",
        "        elif action == 1:\n",
        "            if self.x == 2:\n",
        "                self.x = self.x+1\n",
        "            else:\n",
        "                self.x = self.x-1\n",
        "        elif action == 2:\n",
        "            if self.y == self.grid_size - 3:\n",
        "                self.y = self.y - 1\n",
        "            else:\n",
        "                self.y = self.y + 1\n",
        "        elif action == 3:\n",
        "            if self.y == 2:\n",
        "                self.y = self.y + 1\n",
        "            else:\n",
        "                self.y = self.y - 1\n",
        "        else:\n",
        "            RuntimeError('Error: action not recognized')\n",
        "\n",
        "        self.t = self.t + 1\n",
        "        #malus given to every square that we have already visited\n",
        "        reward = 0\n",
        "        if train:\n",
        "            reward = -self.malus_position[self.x, self.y]\n",
        "        self.malus_position[self.x, self.y] = self.malus_position_ \n",
        "\n",
        "        reward = reward + self.board[self.x, self.y]\n",
        "\n",
        "        self.board[self.x, self.y] = 0\n",
        "        game_over = self.t > self.max_time\n",
        "        state = np.concatenate((self.malus_position.reshape(self.grid_size, self.grid_size,1),\n",
        "                                        self.board.reshape(self.grid_size, self.grid_size,1),\n",
        "                                self.position.reshape(self.grid_size, self.grid_size,1)),axis=2)\n",
        "        state = state[self.x-2:self.x+3,self.y-2:self.y+3,:]\n",
        "\n",
        "        return state, reward, game_over\n",
        "\n",
        "    def reset(self):\n",
        "        \"\"\"This function resets the game and returns the initial state\"\"\"\n",
        "\n",
        "        self.x = np.random.randint(3, self.grid_size-3, size=1)[0]\n",
        "        self.y = np.random.randint(3, self.grid_size-3, size=1)[0]\n",
        "\n",
        "\n",
        "        bonus = 0.5*np.random.binomial(1,self.temperature,size=self.grid_size**2)\n",
        "        bonus = bonus.reshape(self.grid_size,self.grid_size)\n",
        "\n",
        "        malus = -1.0*np.random.binomial(1,self.temperature,size=self.grid_size**2)\n",
        "        malus = malus.reshape(self.grid_size, self.grid_size)\n",
        "\n",
        "        self.to_draw = np.zeros((self.max_time+2, self.grid_size*self.scale, self.grid_size*self.scale, 3))\n",
        "\n",
        "        malus[bonus>0]=0\n",
        "\n",
        "        self.board = bonus + malus\n",
        "\n",
        "        self.position = np.zeros((self.grid_size, self.grid_size))\n",
        "        self.position[0:2,:]= -1\n",
        "        self.position[:,0:2] = -1\n",
        "        self.position[-2:, :] = -1\n",
        "        self.position[-2:, :] = -1\n",
        "        self.board[self.x,self.y] = 0\n",
        "        self.t = 0\n",
        "\n",
        "        self.malus_position = np.zeros((self.grid_size, self.grid_size))\n",
        "\n",
        "        # 3 \"feature\" states instead of 2\n",
        "        state = np.concatenate((self.malus_position.reshape(self.grid_size, self.grid_size,1),\n",
        "                                        self.board.reshape(self.grid_size, self.grid_size,1),\n",
        "                                self.position.reshape(self.grid_size, self.grid_size,1)),axis=2)\n",
        "\n",
        "        state = state[self.x - 2:self.x + 3, self.y - 2:self.y + 3, :]\n",
        "        return state"
      ],
      "execution_count": 0,
      "outputs": []
    },
    {
      "cell_type": "markdown",
      "metadata": {
        "id": "EaBRRbKzeRk2",
        "colab_type": "text"
      },
      "source": [
        "### Training with a better exploration policy (no EnvironmentExploring yet)"
      ]
    },
    {
      "cell_type": "code",
      "metadata": {
        "id": "cuPFGnr-ccsa",
        "colab_type": "code",
        "outputId": "aa4c7336-c239-4939-9846-1939c5eb9b11",
        "colab": {
          "base_uri": "https://localhost:8080/",
          "height": 1000
        }
      },
      "source": [
        "# Training with a better exploration policy for the CNN\n",
        "env = Environment(grid_size=size, max_time=T, temperature=0.3)\n",
        "agent_cnn_exp = DQN_CNN(size, lr=.1, epsilon = 0.1, memory_size=2000, batch_size = 32,n_state=2)\n",
        "train_explore(agent_cnn_exp, env, epoch=epochs_train, prefix='cnn_train_explore')\n",
        "HTML(display_videos('cnn_train_explore50.mp4'))"
      ],
      "execution_count": 0,
      "outputs": [
        {
          "output_type": "stream",
          "text": [
            "Epoch 000/050 | Loss 0.0096 | Win/lose count 9.0/9.0 (0.0)\n",
            "Epoch 001/050 | Loss 0.0254 | Win/lose count 9.0/18.0 (-9.0)\n",
            "Epoch 002/050 | Loss 0.0221 | Win/lose count 7.5/18.0 (-10.5)\n",
            "Epoch 003/050 | Loss 0.0187 | Win/lose count 11.5/16.0 (-4.5)\n",
            "Epoch 004/050 | Loss 0.0237 | Win/lose count 8.5/13.0 (-4.5)\n",
            "Epoch 005/050 | Loss 0.0179 | Win/lose count 8.0/18.0 (-10.0)\n",
            "Epoch 006/050 | Loss 0.0367 | Win/lose count 9.0/6.0 (3.0)\n",
            "Epoch 007/050 | Loss 0.0158 | Win/lose count 10.5/8.0 (2.5)\n",
            "Epoch 008/050 | Loss 0.0221 | Win/lose count 15.5/10.0 (5.5)\n",
            "Epoch 009/050 | Loss 0.0249 | Win/lose count 8.0/19.0 (-11.0)\n",
            "Epoch 010/050 | Loss 0.0172 | Win/lose count 11.5/10.0 (1.5)\n",
            "Epoch 011/050 | Loss 0.0177 | Win/lose count 8.0/16.0 (-8.0)\n",
            "Epoch 012/050 | Loss 0.0104 | Win/lose count 10.5/19.0 (-8.5)\n",
            "Epoch 013/050 | Loss 0.0099 | Win/lose count 9.5/9.0 (0.5)\n",
            "Epoch 014/050 | Loss 0.0158 | Win/lose count 16.0/11.0 (5.0)\n",
            "Epoch 015/050 | Loss 0.0180 | Win/lose count 14.5/9.0 (5.5)\n",
            "Epoch 016/050 | Loss 0.0190 | Win/lose count 7.5/7.0 (0.5)\n",
            "Epoch 017/050 | Loss 0.0134 | Win/lose count 11.0/6.0 (5.0)\n",
            "Epoch 018/050 | Loss 0.0102 | Win/lose count 10.5/13.0 (-2.5)\n",
            "Epoch 019/050 | Loss 0.0162 | Win/lose count 13.0/11.0 (2.0)\n",
            "Epoch 020/050 | Loss 0.0044 | Win/lose count 6.5/7.0 (-0.5)\n",
            "Epoch 021/050 | Loss 0.0152 | Win/lose count 9.0/7.0 (2.0)\n",
            "Epoch 022/050 | Loss 0.0206 | Win/lose count 17.5/15.0 (2.5)\n",
            "Epoch 023/050 | Loss 0.0162 | Win/lose count 12.5/14.0 (-1.5)\n",
            "Epoch 024/050 | Loss 0.0107 | Win/lose count 12.0/6.0 (6.0)\n",
            "Epoch 025/050 | Loss 0.0205 | Win/lose count 15.5/17.0 (-1.5)\n",
            "Epoch 026/050 | Loss 0.0214 | Win/lose count 9.5/8.0 (1.5)\n",
            "Epoch 027/050 | Loss 0.0161 | Win/lose count 15.0/11.0 (4.0)\n",
            "Epoch 028/050 | Loss 0.0129 | Win/lose count 15.5/12.0 (3.5)\n",
            "Epoch 029/050 | Loss 0.0137 | Win/lose count 11.5/4.0 (7.5)\n",
            "Epoch 030/050 | Loss 0.0249 | Win/lose count 20.5/9.0 (11.5)\n",
            "Epoch 031/050 | Loss 0.0240 | Win/lose count 16.5/19.0 (-2.5)\n",
            "Epoch 032/050 | Loss 0.0220 | Win/lose count 13.5/11.0 (2.5)\n",
            "Epoch 033/050 | Loss 0.0192 | Win/lose count 9.5/12.0 (-2.5)\n",
            "Epoch 034/050 | Loss 0.0251 | Win/lose count 7.5/14.0 (-6.5)\n",
            "Epoch 035/050 | Loss 0.0358 | Win/lose count 6.5/10.0 (-3.5)\n",
            "Epoch 036/050 | Loss 0.0291 | Win/lose count 9.0/9.0 (0.0)\n",
            "Epoch 037/050 | Loss 0.0119 | Win/lose count 11.5/10.0 (1.5)\n",
            "Epoch 038/050 | Loss 0.0102 | Win/lose count 16.5/8.0 (8.5)\n",
            "Epoch 039/050 | Loss 0.0144 | Win/lose count 7.5/5.0 (2.5)\n",
            "Epoch 040/050 | Loss 0.0157 | Win/lose count 15.5/5.0 (10.5)\n",
            "Epoch 041/050 | Loss 0.0085 | Win/lose count 10.5/7.0 (3.5)\n",
            "Epoch 042/050 | Loss 0.0226 | Win/lose count 10.5/6.0 (4.5)\n",
            "Epoch 043/050 | Loss 0.0169 | Win/lose count 12.5/4.0 (8.5)\n",
            "Epoch 044/050 | Loss 0.0155 | Win/lose count 6.0/5.0 (1.0)\n",
            "Epoch 045/050 | Loss 0.0096 | Win/lose count 9.5/8.0 (1.5)\n",
            "Epoch 046/050 | Loss 0.0113 | Win/lose count 8.5/3.0 (5.5)\n",
            "Epoch 047/050 | Loss 0.0095 | Win/lose count 10.5/3.0 (7.5)\n",
            "Epoch 048/050 | Loss 0.0158 | Win/lose count 6.0/3.0 (3.0)\n",
            "Epoch 049/050 | Loss 0.0146 | Win/lose count 5.5/3.0 (2.5)\n",
            "Epoch 050/050 | Loss 0.0123 | Win/lose count 2.0/2.0 (0.0)\n"
          ],
          "name": "stdout"
        },
        {
          "output_type": "execute_result",
          "data": {
            "text/html": [
              "<video alt=\"test\" controls>\n",
              "                <source src=\"data:video/mp4;base64,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\" type=\"video/mp4\" />\n",
              "             </video>"
            ],
            "text/plain": [
              "<IPython.core.display.HTML object>"
            ]
          },
          "metadata": {
            "tags": []
          },
          "execution_count": 22
        }
      ]
    },
    {
      "cell_type": "code",
      "metadata": {
        "id": "zBNgYxdeccse",
        "colab_type": "code",
        "outputId": "00655e52-92ac-488e-c288-8709d909f1a8",
        "colab": {
          "base_uri": "https://localhost:8080/",
          "height": 1000
        }
      },
      "source": [
        "# Evaluation\n",
        "test(agent_cnn_exp,env,epochs_test,prefix='cnn_test_explore')\n",
        "HTML(display_videos('cnn_test_explore50.mp4'))"
      ],
      "execution_count": 0,
      "outputs": [
        {
          "output_type": "stream",
          "text": [
            "Win/lose count 1.0/0. Average score (1.0)\n",
            "Win/lose count 6.0/0. Average score (3.5)\n",
            "Win/lose count 3.0/0. Average score (3.3333333333333335)\n",
            "Win/lose count 2.0/0. Average score (3.0)\n",
            "Win/lose count 2.0/0. Average score (2.8)\n",
            "Win/lose count 2.0/0. Average score (2.6666666666666665)\n",
            "Win/lose count 2.0/0. Average score (2.5714285714285716)\n",
            "Win/lose count 6.0/0. Average score (3.0)\n",
            "Win/lose count 5.0/0. Average score (3.2222222222222223)\n",
            "Win/lose count 7.5/0. Average score (3.65)\n",
            "Win/lose count 3.5/0. Average score (3.6363636363636362)\n",
            "Win/lose count 4.5/0. Average score (3.7083333333333335)\n",
            "Win/lose count 4.0/0. Average score (3.730769230769231)\n",
            "Win/lose count 2.5/0. Average score (3.642857142857143)\n",
            "Win/lose count 2.0/0. Average score (3.533333333333333)\n",
            "Win/lose count 2.0/0. Average score (3.4375)\n",
            "Win/lose count 4.5/0. Average score (3.5)\n",
            "Win/lose count 4.5/0. Average score (3.5555555555555554)\n",
            "Win/lose count 4.0/0. Average score (3.5789473684210527)\n",
            "Win/lose count 4.0/0. Average score (3.6)\n",
            "Win/lose count 3.0/0. Average score (3.5714285714285716)\n",
            "Win/lose count 3.0/0. Average score (3.5454545454545454)\n",
            "Win/lose count 1.0/0. Average score (3.4347826086956523)\n",
            "Win/lose count 5.0/0. Average score (3.5)\n",
            "Win/lose count 3.5/0. Average score (3.5)\n",
            "Win/lose count 0.5/0. Average score (3.3846153846153846)\n",
            "Win/lose count 2.5/0. Average score (3.3518518518518516)\n",
            "Win/lose count 5.0/0. Average score (3.4107142857142856)\n",
            "Win/lose count 2.5/0. Average score (3.3793103448275863)\n",
            "Win/lose count 4.5/0. Average score (3.4166666666666665)\n",
            "Win/lose count 3.5/0. Average score (3.4193548387096775)\n",
            "Win/lose count 3.0/0. Average score (3.40625)\n",
            "Win/lose count 3.0/0. Average score (3.393939393939394)\n",
            "Win/lose count 4.5/0. Average score (3.426470588235294)\n",
            "Win/lose count 3.0/0. Average score (3.414285714285714)\n",
            "Win/lose count 1.0/0. Average score (3.3472222222222223)\n",
            "Win/lose count 4.0/0. Average score (3.364864864864865)\n",
            "Win/lose count 2.5/0. Average score (3.3421052631578947)\n",
            "Win/lose count 1.5/0. Average score (3.2948717948717947)\n",
            "Win/lose count 1.5/0. Average score (3.25)\n",
            "Win/lose count 0.5/0. Average score (3.182926829268293)\n",
            "Win/lose count 6.0/0. Average score (3.25)\n",
            "Win/lose count 1.0/0. Average score (3.197674418604651)\n",
            "Win/lose count 4.5/0. Average score (3.227272727272727)\n",
            "Win/lose count 1.0/0. Average score (3.1777777777777776)\n",
            "Win/lose count 5.0/0. Average score (3.217391304347826)\n",
            "Win/lose count 4.5/0. Average score (3.24468085106383)\n",
            "Win/lose count 1.0/0. Average score (3.1979166666666665)\n",
            "Win/lose count 1.5/0. Average score (3.163265306122449)\n",
            "Win/lose count 2.0/0. Average score (3.14)\n",
            "Win/lose count 0/0. Average score (3.0784313725490198)\n",
            "Final score: 3.0784313725490198\n"
          ],
          "name": "stdout"
        },
        {
          "output_type": "execute_result",
          "data": {
            "text/html": [
              "<video alt=\"test\" controls>\n",
              "                <source src=\"data:video/mp4;base64,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\" type=\"video/mp4\" />\n",
              "             </video>"
            ],
            "text/plain": [
              "<IPython.core.display.HTML object>"
            ]
          },
          "metadata": {
            "tags": []
          },
          "execution_count": 23
        }
      ]
    },
    {
      "cell_type": "code",
      "metadata": {
        "id": "WD-XqOA_r78-",
        "colab_type": "code",
        "outputId": "eca3af28-b3df-4f99-d541-ffb6bc2180d9",
        "colab": {
          "base_uri": "https://localhost:8080/",
          "height": 1000
        }
      },
      "source": [
        "# Training with a better exploration policy for the FC\n",
        "env = Environment(grid_size=size, max_time=T, temperature=0.3)\n",
        "agent_fc_exp = DQN_FC(size, lr=.1, epsilon = 0.1, memory_size=2000, batch_size = 32,n_state=2)\n",
        "train_explore(agent_fc_exp, env, epoch=epochs_train, prefix='fc_train_explore')\n",
        "HTML(display_videos('fc_train_explore50.mp4'))"
      ],
      "execution_count": 0,
      "outputs": [
        {
          "output_type": "stream",
          "text": [
            "Epoch 000/050 | Loss 0.0135 | Win/lose count 9.0/2.0 (7.0)\n",
            "Epoch 001/050 | Loss 0.0206 | Win/lose count 6.0/13.0 (-7.0)\n",
            "Epoch 002/050 | Loss 0.0151 | Win/lose count 7.0/11.0 (-4.0)\n",
            "Epoch 003/050 | Loss 0.0059 | Win/lose count 8.5/4.0 (4.5)\n",
            "Epoch 004/050 | Loss 0.0149 | Win/lose count 9.0/4.0 (5.0)\n",
            "Epoch 005/050 | Loss 0.0266 | Win/lose count 8.0/14.0 (-6.0)\n",
            "Epoch 006/050 | Loss 0.0146 | Win/lose count 14.0/14.0 (0.0)\n",
            "Epoch 007/050 | Loss 0.0158 | Win/lose count 8.5/14.0 (-5.5)\n",
            "Epoch 008/050 | Loss 0.0236 | Win/lose count 13.0/17.0 (-4.0)\n",
            "Epoch 009/050 | Loss 0.0270 | Win/lose count 3.5/7.0 (-3.5)\n",
            "Epoch 010/050 | Loss 0.0205 | Win/lose count 10.5/16.0 (-5.5)\n",
            "Epoch 011/050 | Loss 0.0286 | Win/lose count 9.5/14.0 (-4.5)\n",
            "Epoch 012/050 | Loss 0.0183 | Win/lose count 6.5/4.0 (2.5)\n",
            "Epoch 013/050 | Loss 0.0232 | Win/lose count 13.0/9.0 (4.0)\n",
            "Epoch 014/050 | Loss 0.0235 | Win/lose count 12.5/11.0 (1.5)\n",
            "Epoch 015/050 | Loss 0.0165 | Win/lose count 9.5/12.0 (-2.5)\n",
            "Epoch 016/050 | Loss 0.0206 | Win/lose count 8.5/5.0 (3.5)\n",
            "Epoch 017/050 | Loss 0.0211 | Win/lose count 8.5/9.0 (-0.5)\n",
            "Epoch 018/050 | Loss 0.0168 | Win/lose count 16.5/16.0 (0.5)\n",
            "Epoch 019/050 | Loss 0.0236 | Win/lose count 7.0/6.0 (1.0)\n",
            "Epoch 020/050 | Loss 0.0290 | Win/lose count 10.5/12.0 (-1.5)\n",
            "Epoch 021/050 | Loss 0.0289 | Win/lose count 15.0/17.0 (-2.0)\n",
            "Epoch 022/050 | Loss 0.0181 | Win/lose count 14.0/13.0 (1.0)\n",
            "Epoch 023/050 | Loss 0.0189 | Win/lose count 8.0/14.0 (-6.0)\n",
            "Epoch 024/050 | Loss 0.0150 | Win/lose count 9.5/9.0 (0.5)\n",
            "Epoch 025/050 | Loss 0.0371 | Win/lose count 11.0/14.0 (-3.0)\n",
            "Epoch 026/050 | Loss 0.0203 | Win/lose count 9.5/6.0 (3.5)\n",
            "Epoch 027/050 | Loss 0.0217 | Win/lose count 9.5/13.0 (-3.5)\n",
            "Epoch 028/050 | Loss 0.0187 | Win/lose count 5.5/9.0 (-3.5)\n",
            "Epoch 029/050 | Loss 0.0125 | Win/lose count 14.5/8.0 (6.5)\n",
            "Epoch 030/050 | Loss 0.0186 | Win/lose count 7.0/5.0 (2.0)\n",
            "Epoch 031/050 | Loss 0.0154 | Win/lose count 12.0/5.0 (7.0)\n",
            "Epoch 032/050 | Loss 0.0131 | Win/lose count 12.0/6.0 (6.0)\n",
            "Epoch 033/050 | Loss 0.0076 | Win/lose count 8.0/8.0 (0.0)\n",
            "Epoch 034/050 | Loss 0.0115 | Win/lose count 14.0/5.0 (9.0)\n",
            "Epoch 035/050 | Loss 0.0193 | Win/lose count 9.0/4.0 (5.0)\n",
            "Epoch 036/050 | Loss 0.0153 | Win/lose count 6.5/3.0 (3.5)\n",
            "Epoch 037/050 | Loss 0.0097 | Win/lose count 5.5/7.0 (-1.5)\n",
            "Epoch 038/050 | Loss 0.0074 | Win/lose count 16.5/12.0 (4.5)\n",
            "Epoch 039/050 | Loss 0.0163 | Win/lose count 9.5/4.0 (5.5)\n",
            "Epoch 040/050 | Loss 0.0130 | Win/lose count 4.5/5.0 (-0.5)\n",
            "Epoch 041/050 | Loss 0.0105 | Win/lose count 15.0/9.0 (6.0)\n",
            "Epoch 042/050 | Loss 0.0040 | Win/lose count 10.0/9.0 (1.0)\n",
            "Epoch 043/050 | Loss 0.0023 | Win/lose count 6.5/3.0 (3.5)\n",
            "Epoch 044/050 | Loss 0.0063 | Win/lose count 11.0/4.0 (7.0)\n",
            "Epoch 045/050 | Loss 0.0052 | Win/lose count 6.0/5.0 (1.0)\n",
            "Epoch 046/050 | Loss 0.0048 | Win/lose count 7.5/6.0 (1.5)\n",
            "Epoch 047/050 | Loss 0.0035 | Win/lose count 15.5/7.0 (8.5)\n",
            "Epoch 048/050 | Loss 0.0090 | Win/lose count 11.5/1.0 (10.5)\n",
            "Epoch 049/050 | Loss 0.0086 | Win/lose count 8.0/3.0 (5.0)\n",
            "Epoch 050/050 | Loss 0.0072 | Win/lose count 6.0/2.0 (4.0)\n"
          ],
          "name": "stdout"
        },
        {
          "output_type": "execute_result",
          "data": {
            "text/html": [
              "<video alt=\"test\" controls>\n",
              "                <source src=\"data:video/mp4;base64,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\" type=\"video/mp4\" />\n",
              "             </video>"
            ],
            "text/plain": [
              "<IPython.core.display.HTML object>"
            ]
          },
          "metadata": {
            "tags": []
          },
          "execution_count": 24
        }
      ]
    },
    {
      "cell_type": "code",
      "metadata": {
        "id": "odnUiaCksAx2",
        "colab_type": "code",
        "outputId": "62e26320-1177-4746-f5a5-adc076545449",
        "colab": {
          "base_uri": "https://localhost:8080/",
          "height": 1000
        }
      },
      "source": [
        "# Evaluation\n",
        "test(agent_fc_exp,env,epochs_test,prefix='fc_test_explore')\n",
        "HTML(display_videos('fc_test_explore50.mp4'))"
      ],
      "execution_count": 0,
      "outputs": [
        {
          "output_type": "stream",
          "text": [
            "Win/lose count 3.0/1.0. Average score (2.0)\n",
            "Win/lose count 1.0/0. Average score (1.5)\n",
            "Win/lose count 0/0. Average score (1.0)\n",
            "Win/lose count 5.5/0. Average score (2.125)\n",
            "Win/lose count 3.5/0. Average score (2.4)\n",
            "Win/lose count 3.5/0. Average score (2.5833333333333335)\n",
            "Win/lose count 3.5/2.0. Average score (2.4285714285714284)\n",
            "Win/lose count 2.0/0. Average score (2.375)\n",
            "Win/lose count 4.5/0. Average score (2.611111111111111)\n",
            "Win/lose count 3.5/1.0. Average score (2.6)\n",
            "Win/lose count 3.0/0. Average score (2.6363636363636362)\n",
            "Win/lose count 2.5/0. Average score (2.625)\n",
            "Win/lose count 1.0/0. Average score (2.5)\n",
            "Win/lose count 1.0/0. Average score (2.392857142857143)\n",
            "Win/lose count 0.5/0. Average score (2.2666666666666666)\n",
            "Win/lose count 5.0/0. Average score (2.4375)\n",
            "Win/lose count 3.5/0. Average score (2.5)\n",
            "Win/lose count 2.5/0. Average score (2.5)\n",
            "Win/lose count 0/0. Average score (2.3684210526315788)\n",
            "Win/lose count 0.5/0. Average score (2.275)\n",
            "Win/lose count 3.5/0. Average score (2.3333333333333335)\n",
            "Win/lose count 4.0/0. Average score (2.409090909090909)\n",
            "Win/lose count 3.5/0. Average score (2.4565217391304346)\n",
            "Win/lose count 1.5/0. Average score (2.4166666666666665)\n",
            "Win/lose count 6.5/0. Average score (2.58)\n",
            "Win/lose count 5.0/0. Average score (2.673076923076923)\n",
            "Win/lose count 5.0/0. Average score (2.759259259259259)\n",
            "Win/lose count 1.5/0. Average score (2.7142857142857144)\n",
            "Win/lose count 5.0/0. Average score (2.793103448275862)\n",
            "Win/lose count 6.0/0. Average score (2.9)\n",
            "Win/lose count 3.5/0. Average score (2.9193548387096775)\n",
            "Win/lose count 1.5/0. Average score (2.875)\n",
            "Win/lose count 1.0/0. Average score (2.8181818181818183)\n",
            "Win/lose count 4.5/0. Average score (2.8676470588235294)\n",
            "Win/lose count 0/0. Average score (2.7857142857142856)\n",
            "Win/lose count 2.0/0. Average score (2.763888888888889)\n",
            "Win/lose count 5.5/0. Average score (2.8378378378378377)\n",
            "Win/lose count 2.5/0. Average score (2.8289473684210527)\n",
            "Win/lose count 0.5/0. Average score (2.769230769230769)\n",
            "Win/lose count 5.5/0. Average score (2.8375)\n",
            "Win/lose count 4.5/0. Average score (2.8780487804878048)\n",
            "Win/lose count 3.5/1.0. Average score (2.869047619047619)\n",
            "Win/lose count 8.0/0. Average score (2.988372093023256)\n",
            "Win/lose count 3.0/2.0. Average score (2.9431818181818183)\n",
            "Win/lose count 2.5/0. Average score (2.933333333333333)\n",
            "Win/lose count 1.0/0. Average score (2.891304347826087)\n",
            "Win/lose count 3.0/0. Average score (2.893617021276596)\n",
            "Win/lose count 5.5/0. Average score (2.9479166666666665)\n",
            "Win/lose count 3.5/0. Average score (2.9591836734693877)\n",
            "Win/lose count 1.5/1.0. Average score (2.91)\n",
            "Win/lose count 7.0/0. Average score (2.9901960784313726)\n",
            "Final score: 2.9901960784313726\n"
          ],
          "name": "stdout"
        },
        {
          "output_type": "execute_result",
          "data": {
            "text/html": [
              "<video alt=\"test\" controls>\n",
              "                <source src=\"data:video/mp4;base64,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\" type=\"video/mp4\" />\n",
              "             </video>"
            ],
            "text/plain": [
              "<IPython.core.display.HTML object>"
            ]
          },
          "metadata": {
            "tags": []
          },
          "execution_count": 25
        }
      ]
    },
    {
      "cell_type": "markdown",
      "metadata": {
        "id": "8pHJgPLedklX",
        "colab_type": "text"
      },
      "source": [
        "We get 3 points on average for the CNN and for the FC which is a significant improvement. The performance of the agent is poor during learning because it explores a lot, but it enables it to learn about its environment (epsilon varies from 1 to 0.1). During test time, it only acts greedily and does not explore."
      ]
    },
    {
      "cell_type": "markdown",
      "metadata": {
        "id": "cPL_X2pQeKbc",
        "colab_type": "text"
      },
      "source": [
        "### Training with a better exploration policy and EnvironmentExploring"
      ]
    },
    {
      "cell_type": "code",
      "metadata": {
        "id": "R62rTtPysYCb",
        "colab_type": "code",
        "outputId": "2b147796-f8a2-4f96-a408-08900a72f22e",
        "colab": {
          "base_uri": "https://localhost:8080/",
          "height": 1000
        }
      },
      "source": [
        "# Training with a better exploration policy for the CNN and EnvironmentExploring\n",
        "env = EnvironmentExploring(grid_size=size, max_time=T, temperature=0.3, malus_position_= 0.2)\n",
        "agent_cnn_exp2 = DQN_CNN(size, lr=.1, epsilon = 0.1, memory_size=3000, batch_size = 16,n_state=3)\n",
        "train_explore(agent_cnn_exp2, env, epoch=epochs_train, prefix='cnn_train_explore2_')\n",
        "HTML(display_videos('cnn_train_explore2_50.mp4'))"
      ],
      "execution_count": 0,
      "outputs": [
        {
          "output_type": "stream",
          "text": [
            "Epoch 000/050 | Loss 0.0668 | Win/lose count 11.0/42.200000000000024 (-31.200000000000024)\n",
            "Epoch 001/050 | Loss 0.0343 | Win/lose count 8.5/39.60000000000002 (-31.100000000000023)\n",
            "Epoch 002/050 | Loss 0.0063 | Win/lose count 11.5/43.20000000000004 (-31.70000000000004)\n",
            "Epoch 003/050 | Loss 0.0166 | Win/lose count 7.5/35.6 (-28.1)\n",
            "Epoch 004/050 | Loss 0.0167 | Win/lose count 5.0/41.00000000000006 (-36.00000000000006)\n",
            "Epoch 005/050 | Loss 0.0380 | Win/lose count 11.5/39.400000000000006 (-27.900000000000006)\n",
            "Epoch 006/050 | Loss 0.0293 | Win/lose count 4.5/42.20000000000002 (-37.70000000000002)\n",
            "Epoch 007/050 | Loss 0.0205 | Win/lose count 11.5/37.19999999999998 (-25.69999999999998)\n",
            "Epoch 008/050 | Loss 0.0246 | Win/lose count 11.0/39.60000000000003 (-28.60000000000003)\n",
            "Epoch 009/050 | Loss 0.0268 | Win/lose count 15.5/38.40000000000003 (-22.900000000000027)\n",
            "Epoch 010/050 | Loss 0.0294 | Win/lose count 6.5/37.199999999999996 (-30.699999999999996)\n",
            "Epoch 011/050 | Loss 0.0113 | Win/lose count 15.0/37.800000000000026 (-22.800000000000026)\n",
            "Epoch 012/050 | Loss 0.0304 | Win/lose count 12.5/35.19999999999995 (-22.699999999999953)\n",
            "Epoch 013/050 | Loss 0.0081 | Win/lose count 8.0/36.599999999999994 (-28.599999999999994)\n",
            "Epoch 014/050 | Loss 0.0105 | Win/lose count 9.5/36.39999999999995 (-26.89999999999995)\n",
            "Epoch 015/050 | Loss 0.0188 | Win/lose count 6.0/39.000000000000014 (-33.000000000000014)\n",
            "Epoch 016/050 | Loss 0.0195 | Win/lose count 13.5/43.200000000000074 (-29.700000000000074)\n",
            "Epoch 017/050 | Loss 0.0253 | Win/lose count 15.0/42.20000000000003 (-27.20000000000003)\n",
            "Epoch 018/050 | Loss 0.0252 | Win/lose count 9.0/39.60000000000006 (-30.60000000000006)\n",
            "Epoch 019/050 | Loss 0.0171 | Win/lose count 18.5/33.999999999999964 (-15.499999999999964)\n",
            "Epoch 020/050 | Loss 0.0160 | Win/lose count 18.0/36.599999999999994 (-18.599999999999994)\n",
            "Epoch 021/050 | Loss 0.0366 | Win/lose count 14.0/40.99999999999999 (-26.999999999999993)\n",
            "Epoch 022/050 | Loss 0.0261 | Win/lose count 14.0/36.4 (-22.4)\n",
            "Epoch 023/050 | Loss 0.0112 | Win/lose count 15.5/43.00000000000008 (-27.500000000000078)\n",
            "Epoch 024/050 | Loss 0.0054 | Win/lose count 18.0/34.99999999999997 (-16.99999999999997)\n",
            "Epoch 025/050 | Loss 0.0123 | Win/lose count 19.0/32.399999999999956 (-13.399999999999956)\n",
            "Epoch 026/050 | Loss 0.0348 | Win/lose count 18.5/39.60000000000004 (-21.100000000000037)\n",
            "Epoch 027/050 | Loss 0.0288 | Win/lose count 19.0/34.39999999999994 (-15.399999999999942)\n",
            "Epoch 028/050 | Loss 0.0215 | Win/lose count 17.0/33.39999999999996 (-16.399999999999963)\n",
            "Epoch 029/050 | Loss 0.0097 | Win/lose count 15.5/34.19999999999996 (-18.69999999999996)\n",
            "Epoch 030/050 | Loss 0.0120 | Win/lose count 20.0/32.79999999999995 (-12.799999999999947)\n",
            "Epoch 031/050 | Loss 0.0176 | Win/lose count 11.0/41.60000000000008 (-30.60000000000008)\n",
            "Epoch 032/050 | Loss 0.0189 | Win/lose count 15.5/31.999999999999947 (-16.499999999999947)\n",
            "Epoch 033/050 | Loss 0.0213 | Win/lose count 17.0/35.59999999999999 (-18.599999999999987)\n",
            "Epoch 034/050 | Loss 0.0223 | Win/lose count 26.0/21.59999999999997 (4.4000000000000306)\n",
            "Epoch 035/050 | Loss 0.0250 | Win/lose count 15.5/32.99999999999997 (-17.49999999999997)\n",
            "Epoch 036/050 | Loss 0.0176 | Win/lose count 21.0/32.99999999999996 (-11.999999999999957)\n",
            "Epoch 037/050 | Loss 0.0366 | Win/lose count 22.0/27.199999999999953 (-5.199999999999953)\n",
            "Epoch 038/050 | Loss 0.0368 | Win/lose count 22.0/26.999999999999954 (-4.999999999999954)\n",
            "Epoch 039/050 | Loss 0.0390 | Win/lose count 15.5/36.20000000000001 (-20.70000000000001)\n",
            "Epoch 040/050 | Loss 0.0155 | Win/lose count 21.0/25.79999999999996 (-4.799999999999962)\n",
            "Epoch 041/050 | Loss 0.0262 | Win/lose count 16.5/30.799999999999944 (-14.299999999999944)\n",
            "Epoch 042/050 | Loss 0.0285 | Win/lose count 18.0/35.79999999999999 (-17.79999999999999)\n",
            "Epoch 043/050 | Loss 0.0214 | Win/lose count 18.5/25.399999999999952 (-6.899999999999952)\n",
            "Epoch 044/050 | Loss 0.0176 | Win/lose count 25.5/24.39999999999996 (1.1000000000000405)\n",
            "Epoch 045/050 | Loss 0.0164 | Win/lose count 16.0/32.99999999999994 (-16.999999999999943)\n",
            "Epoch 046/050 | Loss 0.0292 | Win/lose count 15.5/23.999999999999957 (-8.499999999999957)\n",
            "Epoch 047/050 | Loss 0.0356 | Win/lose count 15.0/28.799999999999947 (-13.799999999999947)\n",
            "Epoch 048/050 | Loss 0.0173 | Win/lose count 19.0/25.59999999999994 (-6.599999999999941)\n",
            "Epoch 049/050 | Loss 0.0283 | Win/lose count 16.5/27.999999999999947 (-11.499999999999947)\n",
            "Epoch 050/050 | Loss 0.0184 | Win/lose count 13.5/29.199999999999942 (-15.699999999999942)\n"
          ],
          "name": "stdout"
        },
        {
          "output_type": "execute_result",
          "data": {
            "text/html": [
              "<video alt=\"test\" controls>\n",
              "                <source src=\"data:video/mp4;base64,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\" type=\"video/mp4\" />\n",
              "             </video>"
            ],
            "text/plain": [
              "<IPython.core.display.HTML object>"
            ]
          },
          "metadata": {
            "tags": []
          },
          "execution_count": 26
        }
      ]
    },
    {
      "cell_type": "code",
      "metadata": {
        "id": "MqClegp3sqLT",
        "colab_type": "code",
        "outputId": "369c4ac9-72de-4d97-91ab-89543c419fb3",
        "colab": {
          "base_uri": "https://localhost:8080/",
          "height": 1000
        }
      },
      "source": [
        "# Evaluation\n",
        "test(agent_cnn_exp2,env,epochs_test,prefix='cnn_test_explore2_')\n",
        "HTML(display_videos('cnn_test_explore2_50.mp4'))"
      ],
      "execution_count": 0,
      "outputs": [
        {
          "output_type": "stream",
          "text": [
            "Win/lose count 1.0/0. Average score (1.0)\n",
            "Win/lose count 8.0/0. Average score (4.5)\n",
            "Win/lose count 5.0/0. Average score (4.666666666666667)\n",
            "Win/lose count 18.5/0. Average score (8.125)\n",
            "Win/lose count 3.0/0. Average score (7.1)\n",
            "Win/lose count 6.0/0. Average score (6.916666666666667)\n",
            "Win/lose count 11.0/0. Average score (7.5)\n",
            "Win/lose count 5.0/0. Average score (7.1875)\n",
            "Win/lose count 10.5/0. Average score (7.555555555555555)\n",
            "Win/lose count 11.5/1.0. Average score (7.85)\n",
            "Win/lose count 10.5/3.0. Average score (7.818181818181818)\n",
            "Win/lose count 7.0/0. Average score (7.75)\n",
            "Win/lose count 15.0/0. Average score (8.307692307692308)\n",
            "Win/lose count 10.5/0. Average score (8.464285714285714)\n",
            "Win/lose count 8.0/0. Average score (8.433333333333334)\n",
            "Win/lose count 7.0/0. Average score (8.34375)\n",
            "Win/lose count 11.0/0. Average score (8.5)\n",
            "Win/lose count 4.5/0. Average score (8.277777777777779)\n",
            "Win/lose count 4.5/0. Average score (8.078947368421053)\n",
            "Win/lose count 8.5/1.0. Average score (8.05)\n",
            "Win/lose count 5.0/0. Average score (7.904761904761905)\n",
            "Win/lose count 5.5/0. Average score (7.795454545454546)\n",
            "Win/lose count 14.5/0. Average score (8.08695652173913)\n",
            "Win/lose count 13.5/0. Average score (8.3125)\n",
            "Win/lose count 5.0/0. Average score (8.18)\n",
            "Win/lose count 16.5/1.0. Average score (8.461538461538462)\n",
            "Win/lose count 10.0/0. Average score (8.518518518518519)\n",
            "Win/lose count 13.5/1.0. Average score (8.660714285714286)\n",
            "Win/lose count 9.0/0. Average score (8.672413793103448)\n",
            "Win/lose count 11.5/0. Average score (8.766666666666667)\n",
            "Win/lose count 12.0/1.0. Average score (8.838709677419354)\n",
            "Win/lose count 10.5/1.0. Average score (8.859375)\n",
            "Win/lose count 4.5/0. Average score (8.727272727272727)\n",
            "Win/lose count 21.5/0. Average score (9.102941176470589)\n",
            "Win/lose count 3.0/1.0. Average score (8.9)\n",
            "Win/lose count 11.0/1.0. Average score (8.930555555555555)\n",
            "Win/lose count 3.5/0. Average score (8.783783783783784)\n",
            "Win/lose count 4.0/0. Average score (8.657894736842104)\n",
            "Win/lose count 3.5/0. Average score (8.525641025641026)\n",
            "Win/lose count 6.0/0. Average score (8.4625)\n",
            "Win/lose count 3.0/0. Average score (8.329268292682928)\n",
            "Win/lose count 11.5/0. Average score (8.404761904761905)\n",
            "Win/lose count 13.5/1.0. Average score (8.5)\n",
            "Win/lose count 14.0/0. Average score (8.625)\n",
            "Win/lose count 21.0/0. Average score (8.9)\n",
            "Win/lose count 2.0/0. Average score (8.75)\n",
            "Win/lose count 17.5/0. Average score (8.936170212765957)\n",
            "Win/lose count 5.5/0. Average score (8.864583333333334)\n",
            "Win/lose count 14.0/0. Average score (8.96938775510204)\n",
            "Win/lose count 8.0/0. Average score (8.95)\n",
            "Win/lose count 1.5/0. Average score (8.803921568627452)\n",
            "Final score: 8.803921568627452\n"
          ],
          "name": "stdout"
        },
        {
          "output_type": "execute_result",
          "data": {
            "text/html": [
              "<video alt=\"test\" controls>\n",
              "                <source src=\"data:video/mp4;base64,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\" type=\"video/mp4\" />\n",
              "             </video>"
            ],
            "text/plain": [
              "<IPython.core.display.HTML object>"
            ]
          },
          "metadata": {
            "tags": []
          },
          "execution_count": 27
        }
      ]
    },
    {
      "cell_type": "code",
      "metadata": {
        "id": "SKBZsDXDxz-s",
        "colab_type": "code",
        "outputId": "72420cce-2c6f-4d46-b85e-1f24b5176966",
        "colab": {
          "base_uri": "https://localhost:8080/",
          "height": 1000
        }
      },
      "source": [
        "# Training with a better exploration policy for the FC and EnvironmentExploring\n",
        "env = EnvironmentExploring(grid_size=size, max_time=T, temperature=0.3, malus_position_= 0.3)\n",
        "agent_fc_exp2 = DQN_FC(size, lr=.1, epsilon = 0.1, memory_size=3000, batch_size = 16, n_state=3)\n",
        "train_explore(agent_fc_exp2, env, epoch=epochs_train, prefix='fc_train_explore2_')\n",
        "HTML(display_videos('fc_train_explore2_50.mp4'))"
      ],
      "execution_count": 0,
      "outputs": [
        {
          "output_type": "stream",
          "text": [
            "Epoch 000/050 | Loss 0.0158 | Win/lose count 8.0/48.3999999999999 (-40.3999999999999)\n",
            "Epoch 001/050 | Loss 0.0225 | Win/lose count 9.0/56.59999999999983 (-47.59999999999983)\n",
            "Epoch 002/050 | Loss 0.0282 | Win/lose count 10.5/48.39999999999989 (-37.89999999999989)\n",
            "Epoch 003/050 | Loss 0.0142 | Win/lose count 6.0/53.49999999999986 (-47.49999999999986)\n",
            "Epoch 004/050 | Loss 0.0474 | Win/lose count 9.0/54.49999999999991 (-45.49999999999991)\n",
            "Epoch 005/050 | Loss 0.0418 | Win/lose count 12.0/52.19999999999987 (-40.19999999999987)\n",
            "Epoch 006/050 | Loss 0.0275 | Win/lose count 10.0/53.79999999999986 (-43.79999999999986)\n",
            "Epoch 007/050 | Loss 0.0198 | Win/lose count 14.0/50.49999999999987 (-36.49999999999987)\n",
            "Epoch 008/050 | Loss 0.0333 | Win/lose count 13.0/51.79999999999992 (-38.79999999999992)\n",
            "Epoch 009/050 | Loss 0.0385 | Win/lose count 10.5/55.5999999999999 (-45.0999999999999)\n",
            "Epoch 010/050 | Loss 0.0245 | Win/lose count 14.5/47.39999999999993 (-32.89999999999993)\n",
            "Epoch 011/050 | Loss 0.0179 | Win/lose count 11.5/54.99999999999983 (-43.49999999999983)\n",
            "Epoch 012/050 | Loss 0.0229 | Win/lose count 11.0/51.099999999999866 (-40.099999999999866)\n",
            "Epoch 013/050 | Loss 0.0140 | Win/lose count 5.0/54.99999999999983 (-49.99999999999983)\n",
            "Epoch 014/050 | Loss 0.0181 | Win/lose count 11.5/51.89999999999988 (-40.39999999999988)\n",
            "Epoch 015/050 | Loss 0.0400 | Win/lose count 8.5/56.19999999999983 (-47.69999999999983)\n",
            "Epoch 016/050 | Loss 0.0219 | Win/lose count 16.5/46.79999999999995 (-30.299999999999947)\n",
            "Epoch 017/050 | Loss 0.0282 | Win/lose count 11.5/50.49999999999989 (-38.99999999999989)\n",
            "Epoch 018/050 | Loss 0.0220 | Win/lose count 9.0/50.19999999999989 (-41.19999999999989)\n",
            "Epoch 019/050 | Loss 0.0317 | Win/lose count 12.5/55.299999999999876 (-42.799999999999876)\n",
            "Epoch 020/050 | Loss 0.0299 | Win/lose count 10.5/51.49999999999985 (-40.99999999999985)\n",
            "Epoch 021/050 | Loss 0.0244 | Win/lose count 12.5/53.19999999999989 (-40.69999999999989)\n",
            "Epoch 022/050 | Loss 0.0510 | Win/lose count 9.0/54.49999999999985 (-45.49999999999985)\n",
            "Epoch 023/050 | Loss 0.0499 | Win/lose count 13.5/46.99999999999991 (-33.49999999999991)\n",
            "Epoch 024/050 | Loss 0.0358 | Win/lose count 10.0/49.1999999999999 (-39.1999999999999)\n",
            "Epoch 025/050 | Loss 0.0216 | Win/lose count 16.5/47.09999999999992 (-30.599999999999923)\n",
            "Epoch 026/050 | Loss 0.0275 | Win/lose count 7.0/57.299999999999855 (-50.299999999999855)\n",
            "Epoch 027/050 | Loss 0.0268 | Win/lose count 7.0/51.49999999999989 (-44.49999999999989)\n",
            "Epoch 028/050 | Loss 0.0245 | Win/lose count 17.0/45.89999999999991 (-28.899999999999913)\n",
            "Epoch 029/050 | Loss 0.0223 | Win/lose count 6.0/54.39999999999984 (-48.39999999999984)\n",
            "Epoch 030/050 | Loss 0.0439 | Win/lose count 17.5/45.299999999999955 (-27.799999999999955)\n",
            "Epoch 031/050 | Loss 0.0150 | Win/lose count 12.5/45.99999999999995 (-33.49999999999995)\n",
            "Epoch 032/050 | Loss 0.0254 | Win/lose count 15.0/47.49999999999995 (-32.49999999999995)\n",
            "Epoch 033/050 | Loss 0.0303 | Win/lose count 15.0/49.799999999999905 (-34.799999999999905)\n",
            "Epoch 034/050 | Loss 0.0316 | Win/lose count 11.0/49.49999999999989 (-38.49999999999989)\n",
            "Epoch 035/050 | Loss 0.0264 | Win/lose count 22.5/39.3 (-16.799999999999997)\n",
            "Epoch 036/050 | Loss 0.0184 | Win/lose count 9.0/58.099999999999845 (-49.099999999999845)\n",
            "Epoch 037/050 | Loss 0.0133 | Win/lose count 12.0/47.09999999999993 (-35.09999999999993)\n",
            "Epoch 038/050 | Loss 0.0214 | Win/lose count 11.0/49.09999999999992 (-38.09999999999992)\n",
            "Epoch 039/050 | Loss 0.0176 | Win/lose count 9.0/50.199999999999875 (-41.199999999999875)\n",
            "Epoch 040/050 | Loss 0.0244 | Win/lose count 15.0/41.199999999999974 (-26.199999999999974)\n",
            "Epoch 041/050 | Loss 0.0202 | Win/lose count 15.0/47.39999999999992 (-32.39999999999992)\n",
            "Epoch 042/050 | Loss 0.0278 | Win/lose count 13.5/43.09999999999998 (-29.59999999999998)\n",
            "Epoch 043/050 | Loss 0.0213 | Win/lose count 20.5/37.79999999999999 (-17.29999999999999)\n",
            "Epoch 044/050 | Loss 0.0312 | Win/lose count 20.5/39.299999999999976 (-18.799999999999976)\n",
            "Epoch 045/050 | Loss 0.0191 | Win/lose count 19.5/40.39999999999996 (-20.899999999999963)\n",
            "Epoch 046/050 | Loss 0.0310 | Win/lose count 23.0/37.9 (-14.899999999999999)\n",
            "Epoch 047/050 | Loss 0.0464 | Win/lose count 15.5/46.899999999999906 (-31.399999999999906)\n",
            "Epoch 048/050 | Loss 0.0174 | Win/lose count 27.0/40.19999999999999 (-13.199999999999989)\n",
            "Epoch 049/050 | Loss 0.0250 | Win/lose count 14.0/46.99999999999993 (-32.99999999999993)\n",
            "Epoch 050/050 | Loss 0.0404 | Win/lose count 27.0/34.20000000000004 (-7.200000000000038)\n"
          ],
          "name": "stdout"
        },
        {
          "output_type": "execute_result",
          "data": {
            "text/html": [
              "<video alt=\"test\" controls>\n",
              "                <source src=\"data:video/mp4;base64,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\" type=\"video/mp4\" />\n",
              "             </video>"
            ],
            "text/plain": [
              "<IPython.core.display.HTML object>"
            ]
          },
          "metadata": {
            "tags": []
          },
          "execution_count": 34
        }
      ]
    },
    {
      "cell_type": "code",
      "metadata": {
        "id": "yIzlznonx5M7",
        "colab_type": "code",
        "outputId": "469ee7be-a706-4127-8fdc-17bceca8f1a7",
        "colab": {
          "base_uri": "https://localhost:8080/",
          "height": 1000
        }
      },
      "source": [
        "# Evaluation\n",
        "test(agent_fc_exp2,env,epochs_test,prefix='fc_test_explore2_')\n",
        "HTML(display_videos('fc_test_explore2_50.mp4'))"
      ],
      "execution_count": 0,
      "outputs": [
        {
          "output_type": "stream",
          "text": [
            "Win/lose count 9.5/0. Average score (9.5)\n",
            "Win/lose count 7.5/1.0. Average score (8.0)\n",
            "Win/lose count 13.5/1.0. Average score (9.5)\n",
            "Win/lose count 2.0/0. Average score (7.625)\n",
            "Win/lose count 4.0/0. Average score (6.9)\n",
            "Win/lose count 5.0/0. Average score (6.583333333333333)\n",
            "Win/lose count 1.5/0. Average score (5.857142857142857)\n",
            "Win/lose count 10.5/0. Average score (6.4375)\n",
            "Win/lose count 15.5/0. Average score (7.444444444444445)\n",
            "Win/lose count 4.5/0. Average score (7.15)\n",
            "Win/lose count 0/0. Average score (6.5)\n",
            "Win/lose count 18.0/1.0. Average score (7.375)\n",
            "Win/lose count 10.5/1.0. Average score (7.538461538461538)\n",
            "Win/lose count 4.0/0. Average score (7.285714285714286)\n",
            "Win/lose count 9.5/1.0. Average score (7.366666666666666)\n",
            "Win/lose count 12.0/0. Average score (7.65625)\n",
            "Win/lose count 1.5/0. Average score (7.294117647058823)\n",
            "Win/lose count 14.0/0. Average score (7.666666666666667)\n",
            "Win/lose count 3.5/0. Average score (7.447368421052632)\n",
            "Win/lose count 4.0/0. Average score (7.275)\n",
            "Win/lose count 1.0/0. Average score (6.976190476190476)\n",
            "Win/lose count 11.0/0. Average score (7.159090909090909)\n",
            "Win/lose count 6.0/0. Average score (7.108695652173913)\n",
            "Win/lose count 18.0/2.0. Average score (7.479166666666667)\n",
            "Win/lose count 13.5/1.0. Average score (7.68)\n",
            "Win/lose count 2.0/0. Average score (7.461538461538462)\n",
            "Win/lose count 16.0/0. Average score (7.777777777777778)\n",
            "Win/lose count 23.0/0. Average score (8.321428571428571)\n",
            "Win/lose count 2.5/0. Average score (8.120689655172415)\n",
            "Win/lose count 19.0/3.0. Average score (8.383333333333333)\n",
            "Win/lose count 7.0/0. Average score (8.338709677419354)\n",
            "Win/lose count 15.0/1.0. Average score (8.515625)\n",
            "Win/lose count 8.5/1.0. Average score (8.484848484848484)\n",
            "Win/lose count 4.5/0. Average score (8.367647058823529)\n",
            "Win/lose count 13.5/0. Average score (8.514285714285714)\n",
            "Win/lose count 8.5/0. Average score (8.51388888888889)\n",
            "Win/lose count 3.5/0. Average score (8.378378378378379)\n",
            "Win/lose count 2.0/1.0. Average score (8.18421052631579)\n",
            "Win/lose count 2.5/0. Average score (8.038461538461538)\n",
            "Win/lose count 6.0/0. Average score (7.9875)\n",
            "Win/lose count 4.5/1.0. Average score (7.878048780487805)\n",
            "Win/lose count 6.5/1.0. Average score (7.821428571428571)\n",
            "Win/lose count 13.0/1.0. Average score (7.9186046511627906)\n",
            "Win/lose count 1.5/0. Average score (7.7727272727272725)\n",
            "Win/lose count 9.0/0. Average score (7.8)\n",
            "Win/lose count 19.0/1.0. Average score (8.021739130434783)\n",
            "Win/lose count 5.5/0. Average score (7.968085106382978)\n",
            "Win/lose count 12.5/0. Average score (8.0625)\n",
            "Win/lose count 9.0/1.0. Average score (8.061224489795919)\n",
            "Win/lose count 12.5/0. Average score (8.15)\n",
            "Win/lose count 10.0/0. Average score (8.186274509803921)\n",
            "Final score: 8.186274509803921\n"
          ],
          "name": "stdout"
        },
        {
          "output_type": "execute_result",
          "data": {
            "text/html": [
              "<video alt=\"test\" controls>\n",
              "                <source src=\"data:video/mp4;base64,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\" type=\"video/mp4\" />\n",
              "             </video>"
            ],
            "text/plain": [
              "<IPython.core.display.HTML object>"
            ]
          },
          "metadata": {
            "tags": []
          },
          "execution_count": 35
        }
      ]
    },
    {
      "cell_type": "markdown",
      "metadata": {
        "id": "YB6fgUBRd6kI",
        "colab_type": "text"
      },
      "source": [
        "The scores we obtain after using the decaying epsilon technique and the environment that encourages exploring are 8.8 for the CNN and around 8.2 for the FC agent. \n",
        "The hyperparameters used were : a learning rate of 0.1 with sgd, a memory size of 3000, a batch size of 16 and a malus on EnvironmentExploring of 0.2 compared to the 0.1 suggested.  \n",
        "During training, this worsens the score of the agent, but it learns that it needs to explore the board, and the results prove that it is successful.\n",
        "We should encourage the agent to explore even more, out of its sight, so that it does not oscillate between two positions if the only bonuses left are on the other side of the board.\n",
        "We can still improve on the architecture of the two networks and the hyperparameters to get the mean score up to 10 or 12."
      ]
    },
    {
      "cell_type": "markdown",
      "metadata": {
        "id": "EO42KjGBccsi",
        "colab_type": "text"
      },
      "source": [
        "***\n",
        "***\n",
        "__BONUS question__ Use the expert DQN from the previous question to generate some winning games. Train a model that mimicks its behavior. Compare the performances."
      ]
    },
    {
      "cell_type": "code",
      "metadata": {
        "id": "Nc3Ctsj4fVP8",
        "colab_type": "code",
        "colab": {}
      },
      "source": [
        "class DQN_mimick(DQN):\n",
        "    def __init__(self, *args, lr=0.1, **kwargs):\n",
        "        super(DQN_mimick, self).__init__( *args,**kwargs)\n",
        "        \n",
        "        \n",
        "        model = Sequential()\n",
        "        model.add(Flatten(input_shape=(5,5,self.n_state)))\n",
        "        model.add(Dense(64))\n",
        "        model.add(Activation('relu')) #non-linearity\n",
        "        #model.add(Dense(64))\n",
        "        #model.add(Activation('relu'))\n",
        "\n",
        "        model.add(Dense(4))\n",
        "        model.add(Activation('softmax')) #to get a probability distribution on the actions\n",
        "        \n",
        "        model.compile(sgd(lr=lr, decay=1e-4, momentum=0.0), \"mse\")\n",
        "        #model.compile(adam(lr=lr), \"mse\")\n",
        "        self.model = model\n",
        "\n",
        "\n",
        "    def reinforce(self, s_, n_s_, a_, r_, game_over_):\n",
        "    # Two steps: first memorize the states, second learn from the pool\n",
        "\n",
        "      self.memory.remember([s_, n_s_, a_, r_, game_over_])\n",
        "      \n",
        "      input_states = np.zeros((self.batch_size, 5,5,self.n_state))\n",
        "      target_q = np.zeros((self.batch_size, 4))\n",
        "      \n",
        "      for i in range(self.batch_size):\n",
        "          #retrieve a transition\n",
        "          s_, n_s_, a_, r_, game_over_ = self.memory.random_access()\n",
        "          input_states[i] = s_\n",
        "          \n",
        "          #set the target Q as the Q-value from the dqn network we're copying\n",
        "\n",
        "          #We provoke a strong update in the direction of the action that the expert has taken, while giving a 0 expected reward to the other actions\n",
        "          target_q[i][a_] = 3\n",
        "      # HINT: Clip the target to avoid exploiding gradients.. -- clipping is a bit tighter\n",
        "      #target_q = np.clip(target_q, -3, 3)\n",
        "\n",
        "      l = self.model.train_on_batch(input_states, target_q)\n",
        "\n",
        "      return l"
      ],
      "execution_count": 0,
      "outputs": []
    },
    {
      "cell_type": "code",
      "metadata": {
        "id": "3NBu2Jt-Ff6h",
        "colab_type": "code",
        "colab": {}
      },
      "source": [
        "def train_mimick(expert, agent,env,epoch,prefix=''):\n",
        "    # Number of won games\n",
        "    score = 0\n",
        "    loss = 0\n",
        "\n",
        "    for e in range(epoch):\n",
        "        # At each epoch, we restart to a fresh game and get the initial state\n",
        "        state = env.reset()\n",
        "        # This assumes that the games will terminate\n",
        "        game_over = False\n",
        "\n",
        "        win = 0\n",
        "        lose = 0\n",
        "\n",
        "        while not game_over:\n",
        "            # The agent performs an action\n",
        "            action = expert.act(state, False)\n",
        "\n",
        "            # Apply an action to the environment, get the next state, the reward\n",
        "            # and if the games end\n",
        "            prev_state = state\n",
        "            state, reward, game_over = env.act(action)\n",
        "\n",
        "            # Update the counters\n",
        "            if reward > 0:\n",
        "                win = win + reward\n",
        "            if reward < 0:\n",
        "                lose = lose -reward\n",
        "\n",
        "            # Apply the reinforcement strategy\n",
        "            loss = agent.reinforce(prev_state, state,  action, reward, game_over)\n",
        "\n",
        "        # Save as a mp4\n",
        "        if e % 10 == 0:\n",
        "            env.draw(prefix+str(e))\n",
        "\n",
        "        # Update stats\n",
        "        score += win-lose\n",
        "\n",
        "        print(\"Epoch {:03d}/{:03d} | Loss {:.4f} | Win/lose count {}/{} ({})\"\n",
        "              .format(e, epoch-1, loss, win, lose, win-lose))\n",
        "        agent.save(name_weights=prefix+'model.h5',name_model=prefix+'model.json')"
      ],
      "execution_count": 0,
      "outputs": []
    },
    {
      "cell_type": "code",
      "metadata": {
        "id": "ASYfZ4esf5Tr",
        "colab_type": "code",
        "outputId": "71f36c2a-b138-4392-d61c-a556cf6c8540",
        "colab": {
          "base_uri": "https://localhost:8080/",
          "height": 1000
        }
      },
      "source": [
        "# Training with a better exploration policy for the FC and EnvironmentExploring\n",
        "env = EnvironmentExploring(grid_size=size, max_time=T, temperature=0.3, malus_position_= 0.2)\n",
        "agent_copy = DQN_mimick(size, lr=.1, epsilon = 0.1, memory_size=3000, batch_size = 16, n_state=3)\n",
        "train_mimick(agent_fc_exp2, agent_copy, env, epoch=epochs_train, prefix='fc_copy')\n",
        "HTML(display_videos('fc_copy50.mp4'))"
      ],
      "execution_count": 0,
      "outputs": [
        {
          "output_type": "stream",
          "text": [
            "Epoch 000/050 | Loss 1.0219 | Win/lose count 2.0/1.0 (1.0)\n",
            "Epoch 001/050 | Loss 1.0983 | Win/lose count 10.0/0 (10.0)\n",
            "Epoch 002/050 | Loss 1.1803 | Win/lose count 12.5/0 (12.5)\n",
            "Epoch 003/050 | Loss 1.2035 | Win/lose count 8.0/0 (8.0)\n",
            "Epoch 004/050 | Loss 1.3062 | Win/lose count 4.5/0 (4.5)\n",
            "Epoch 005/050 | Loss 1.1336 | Win/lose count 17.5/0 (17.5)\n",
            "Epoch 006/050 | Loss 1.1414 | Win/lose count 14.0/1.0 (13.0)\n",
            "Epoch 007/050 | Loss 1.0426 | Win/lose count 0.5/0 (0.5)\n",
            "Epoch 008/050 | Loss 1.1170 | Win/lose count 10.5/0 (10.5)\n",
            "Epoch 009/050 | Loss 1.0428 | Win/lose count 4.0/0 (4.0)\n",
            "Epoch 010/050 | Loss 1.2188 | Win/lose count 13.5/0 (13.5)\n",
            "Epoch 011/050 | Loss 1.2875 | Win/lose count 5.0/0 (5.0)\n",
            "Epoch 012/050 | Loss 1.1328 | Win/lose count 4.5/0 (4.5)\n",
            "Epoch 013/050 | Loss 1.0294 | Win/lose count 2.0/0 (2.0)\n",
            "Epoch 014/050 | Loss 1.1349 | Win/lose count 5.5/0 (5.5)\n",
            "Epoch 015/050 | Loss 1.0156 | Win/lose count 1.0/0 (1.0)\n",
            "Epoch 016/050 | Loss 1.1298 | Win/lose count 1.5/0 (1.5)\n",
            "Epoch 017/050 | Loss 1.0402 | Win/lose count 8.0/0 (8.0)\n",
            "Epoch 018/050 | Loss 1.1964 | Win/lose count 6.0/0 (6.0)\n",
            "Epoch 019/050 | Loss 1.2065 | Win/lose count 9.0/0 (9.0)\n",
            "Epoch 020/050 | Loss 1.2431 | Win/lose count 4.0/0 (4.0)\n",
            "Epoch 021/050 | Loss 1.1205 | Win/lose count 6.5/0 (6.5)\n",
            "Epoch 022/050 | Loss 1.0107 | Win/lose count 7.5/0 (7.5)\n",
            "Epoch 023/050 | Loss 1.0451 | Win/lose count 8.5/0 (8.5)\n",
            "Epoch 024/050 | Loss 1.0102 | Win/lose count 5.0/1.0 (4.0)\n",
            "Epoch 025/050 | Loss 1.0277 | Win/lose count 7.0/0 (7.0)\n",
            "Epoch 026/050 | Loss 1.0441 | Win/lose count 3.0/0 (3.0)\n",
            "Epoch 027/050 | Loss 1.0382 | Win/lose count 15.5/1.0 (14.5)\n",
            "Epoch 028/050 | Loss 1.1021 | Win/lose count 5.0/0 (5.0)\n",
            "Epoch 029/050 | Loss 1.0095 | Win/lose count 0.5/0 (0.5)\n",
            "Epoch 030/050 | Loss 1.2701 | Win/lose count 7.5/0 (7.5)\n",
            "Epoch 031/050 | Loss 1.1090 | Win/lose count 2.0/0 (2.0)\n",
            "Epoch 032/050 | Loss 1.1072 | Win/lose count 1.0/0 (1.0)\n",
            "Epoch 033/050 | Loss 1.0423 | Win/lose count 4.5/0 (4.5)\n",
            "Epoch 034/050 | Loss 1.0990 | Win/lose count 2.0/0 (2.0)\n",
            "Epoch 035/050 | Loss 1.0160 | Win/lose count 3.5/0 (3.5)\n",
            "Epoch 036/050 | Loss 1.2855 | Win/lose count 4.0/0 (4.0)\n",
            "Epoch 037/050 | Loss 1.1118 | Win/lose count 6.5/0 (6.5)\n",
            "Epoch 038/050 | Loss 1.0122 | Win/lose count 11.5/0 (11.5)\n",
            "Epoch 039/050 | Loss 1.0136 | Win/lose count 13.0/0 (13.0)\n",
            "Epoch 040/050 | Loss 1.0970 | Win/lose count 2.5/0 (2.5)\n",
            "Epoch 041/050 | Loss 1.1960 | Win/lose count 13.5/0 (13.5)\n",
            "Epoch 042/050 | Loss 1.1111 | Win/lose count 5.0/0 (5.0)\n",
            "Epoch 043/050 | Loss 1.1865 | Win/lose count 7.0/0 (7.0)\n",
            "Epoch 044/050 | Loss 1.1175 | Win/lose count 5.0/0 (5.0)\n",
            "Epoch 045/050 | Loss 1.0179 | Win/lose count 4.0/0 (4.0)\n",
            "Epoch 046/050 | Loss 1.1011 | Win/lose count 0.5/0 (0.5)\n",
            "Epoch 047/050 | Loss 1.0061 | Win/lose count 11.5/1.0 (10.5)\n",
            "Epoch 048/050 | Loss 1.0071 | Win/lose count 11.5/0 (11.5)\n",
            "Epoch 049/050 | Loss 1.1286 | Win/lose count 8.5/0 (8.5)\n",
            "Epoch 050/050 | Loss 1.0048 | Win/lose count 5.5/0 (5.5)\n"
          ],
          "name": "stdout"
        },
        {
          "output_type": "execute_result",
          "data": {
            "text/html": [
              "<video alt=\"test\" controls>\n",
              "                <source src=\"data:video/mp4;base64,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\" type=\"video/mp4\" />\n",
              "             </video>"
            ],
            "text/plain": [
              "<IPython.core.display.HTML object>"
            ]
          },
          "metadata": {
            "tags": []
          },
          "execution_count": 36
        }
      ]
    },
    {
      "cell_type": "code",
      "metadata": {
        "id": "QHyIlR4yiGzh",
        "colab_type": "code",
        "outputId": "4df3a393-cef5-4bd7-dd83-d64a7ad9b526",
        "colab": {
          "base_uri": "https://localhost:8080/",
          "height": 1000
        }
      },
      "source": [
        "# Evaluation\n",
        "test(agent_copy,env,epochs_test,prefix='fc_copy')\n",
        "HTML(display_videos('fc_copy50.mp4'))"
      ],
      "execution_count": 0,
      "outputs": [
        {
          "output_type": "stream",
          "text": [
            "Win/lose count 1.0/0. Average score (1.0)\n",
            "Win/lose count 3.0/0. Average score (2.0)\n",
            "Win/lose count 3.5/0. Average score (2.5)\n",
            "Win/lose count 7.0/0. Average score (3.625)\n",
            "Win/lose count 3.5/0. Average score (3.6)\n",
            "Win/lose count 4.0/0. Average score (3.6666666666666665)\n",
            "Win/lose count 2.5/0. Average score (3.5)\n",
            "Win/lose count 5.0/0. Average score (3.6875)\n",
            "Win/lose count 3.5/0. Average score (3.6666666666666665)\n",
            "Win/lose count 6.0/0. Average score (3.9)\n",
            "Win/lose count 2.5/0. Average score (3.772727272727273)\n",
            "Win/lose count 7.0/0. Average score (4.041666666666667)\n",
            "Win/lose count 5.0/0. Average score (4.115384615384615)\n",
            "Win/lose count 7.0/1.0. Average score (4.25)\n",
            "Win/lose count 3.0/0. Average score (4.166666666666667)\n",
            "Win/lose count 5.0/0. Average score (4.21875)\n",
            "Win/lose count 4.0/0. Average score (4.205882352941177)\n",
            "Win/lose count 7.0/0. Average score (4.361111111111111)\n",
            "Win/lose count 0.5/0. Average score (4.157894736842105)\n",
            "Win/lose count 1.5/0. Average score (4.025)\n",
            "Win/lose count 5.0/0. Average score (4.071428571428571)\n",
            "Win/lose count 6.0/1.0. Average score (4.113636363636363)\n",
            "Win/lose count 4.0/0. Average score (4.108695652173913)\n",
            "Win/lose count 4.5/2.0. Average score (4.041666666666667)\n",
            "Win/lose count 4.5/0. Average score (4.06)\n",
            "Win/lose count 5.0/0. Average score (4.096153846153846)\n",
            "Win/lose count 2.0/0. Average score (4.018518518518518)\n",
            "Win/lose count 1.5/0. Average score (3.9285714285714284)\n",
            "Win/lose count 8.0/0. Average score (4.068965517241379)\n",
            "Win/lose count 5.5/0. Average score (4.116666666666666)\n",
            "Win/lose count 1.0/0. Average score (4.016129032258065)\n",
            "Win/lose count 4.0/0. Average score (4.015625)\n",
            "Win/lose count 2.0/0. Average score (3.9545454545454546)\n",
            "Win/lose count 7.0/0. Average score (4.044117647058823)\n",
            "Win/lose count 3.5/0. Average score (4.0285714285714285)\n",
            "Win/lose count 7.5/1.0. Average score (4.097222222222222)\n",
            "Win/lose count 2.5/0. Average score (4.054054054054054)\n",
            "Win/lose count 4.5/0. Average score (4.065789473684211)\n",
            "Win/lose count 5.0/1.0. Average score (4.064102564102564)\n",
            "Win/lose count 5.5/0. Average score (4.1)\n",
            "Win/lose count 0.5/0. Average score (4.012195121951219)\n",
            "Win/lose count 3.5/0. Average score (4.0)\n",
            "Win/lose count 2.5/0. Average score (3.9651162790697674)\n",
            "Win/lose count 7.0/0. Average score (4.034090909090909)\n",
            "Win/lose count 3.5/0. Average score (4.022222222222222)\n",
            "Win/lose count 4.0/0. Average score (4.021739130434782)\n",
            "Win/lose count 1.0/0. Average score (3.9574468085106385)\n",
            "Win/lose count 2.0/0. Average score (3.9166666666666665)\n",
            "Win/lose count 1.0/0. Average score (3.857142857142857)\n",
            "Win/lose count 1.0/1.0. Average score (3.78)\n",
            "Win/lose count 2.0/0. Average score (3.7450980392156863)\n",
            "Final score: 3.7450980392156863\n"
          ],
          "name": "stdout"
        },
        {
          "output_type": "execute_result",
          "data": {
            "text/html": [
              "<video alt=\"test\" controls>\n",
              "                <source src=\"data:video/mp4;base64,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\" type=\"video/mp4\" />\n",
              "             </video>"
            ],
            "text/plain": [
              "<IPython.core.display.HTML object>"
            ]
          },
          "metadata": {
            "tags": []
          },
          "execution_count": 37
        }
      ]
    },
    {
      "cell_type": "markdown",
      "metadata": {
        "id": "2oGADCkBlSOI",
        "colab_type": "text"
      },
      "source": [
        "This mimicking network gets a 3.74 score which is fairly good. It shows that the expert has learned a good policy that can generalize to most state/action pairs, and thus that copying it is a good idea to learn quickly and without exploration."
      ]
    },
    {
      "cell_type": "markdown",
      "metadata": {
        "id": "kzZXBJRSccsj",
        "colab_type": "text"
      },
      "source": [
        "***"
      ]
    }
  ]
}